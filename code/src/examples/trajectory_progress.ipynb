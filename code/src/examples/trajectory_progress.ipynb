{
 "cells": [
  {
   "cell_type": "code",
   "execution_count": 1,
   "id": "d399147e",
   "metadata": {},
   "outputs": [],
   "source": [
    "include(\"../Flyonic.jl\");\n",
    "using .Flyonic;\n",
    "\n",
    "using Plots;"
   ]
  },
  {
   "cell_type": "code",
   "execution_count": 2,
   "id": "119340d2",
   "metadata": {},
   "outputs": [
    {
     "data": {
      "text/plain": [
       "4-element Vector{Vector{Float64}}:\n",
       " [0.0, 0.0, 0.0]\n",
       " [0.8482625355216458, 0.0, 1.898320435135344]\n",
       " [0.5303756281883905, 0.0, 7.163202984282234]\n",
       " [-0.11301146730650125, 0.0, 10.93938355963573]"
      ]
     },
     "execution_count": 2,
     "metadata": {},
     "output_type": "execute_result"
    }
   ],
   "source": [
    "points = generate_trajectory(4)"
   ]
  },
  {
   "cell_type": "code",
   "execution_count": 3,
   "id": "84dd8e1c",
   "metadata": {},
   "outputs": [],
   "source": [
    "x = zeros(size(points))\n",
    "y = zeros(size(points))\n",
    "\n",
    "for i in eachindex(points)\n",
    "    x[i] = points[i][1]\n",
    "    y[i] = points[i][3]\n",
    "end"
   ]
  },
  {
   "cell_type": "code",
   "execution_count": 4,
   "id": "394748e7",
   "metadata": {},
   "outputs": [
    {
     "data": {
      "image/svg+xml": [
       "<?xml version=\"1.0\" encoding=\"utf-8\"?>\n",
       "<svg xmlns=\"http://www.w3.org/2000/svg\" xmlns:xlink=\"http://www.w3.org/1999/xlink\" width=\"600\" height=\"400\" viewBox=\"0 0 2400 1600\">\n",
       "<defs>\n",
       "  <clipPath id=\"clip840\">\n",
       "    <rect x=\"0\" y=\"0\" width=\"2400\" height=\"1600\"/>\n",
       "  </clipPath>\n",
       "</defs>\n",
       "<path clip-path=\"url(#clip840)\" d=\"\n",
       "M0 1600 L2400 1600 L2400 0 L0 0  Z\n",
       "  \" fill=\"#ffffff\" fill-rule=\"evenodd\" fill-opacity=\"1\"/>\n",
       "<defs>\n",
       "  <clipPath id=\"clip841\">\n",
       "    <rect x=\"480\" y=\"0\" width=\"1681\" height=\"1600\"/>\n",
       "  </clipPath>\n",
       "</defs>\n",
       "<path clip-path=\"url(#clip840)\" d=\"\n",
       "M184.191 1486.45 L2352.76 1486.45 L2352.76 47.2441 L184.191 47.2441  Z\n",
       "  \" fill=\"#ffffff\" fill-rule=\"evenodd\" fill-opacity=\"1\"/>\n",
       "<defs>\n",
       "  <clipPath id=\"clip842\">\n",
       "    <rect x=\"184\" y=\"47\" width=\"2170\" height=\"1440\"/>\n",
       "  </clipPath>\n",
       "</defs>\n",
       "<polyline clip-path=\"url(#clip842)\" style=\"stroke:#000000; stroke-linecap:round; stroke-linejoin:round; stroke-width:2; stroke-opacity:0.1; fill:none\" points=\"\n",
       "  291.985,1486.45 291.985,47.2441 \n",
       "  \"/>\n",
       "<polyline clip-path=\"url(#clip842)\" style=\"stroke:#000000; stroke-linecap:round; stroke-linejoin:round; stroke-width:2; stroke-opacity:0.1; fill:none\" points=\"\n",
       "  602.272,1486.45 602.272,47.2441 \n",
       "  \"/>\n",
       "<polyline clip-path=\"url(#clip842)\" style=\"stroke:#000000; stroke-linecap:round; stroke-linejoin:round; stroke-width:2; stroke-opacity:0.1; fill:none\" points=\"\n",
       "  912.559,1486.45 912.559,47.2441 \n",
       "  \"/>\n",
       "<polyline clip-path=\"url(#clip842)\" style=\"stroke:#000000; stroke-linecap:round; stroke-linejoin:round; stroke-width:2; stroke-opacity:0.1; fill:none\" points=\"\n",
       "  1222.85,1486.45 1222.85,47.2441 \n",
       "  \"/>\n",
       "<polyline clip-path=\"url(#clip842)\" style=\"stroke:#000000; stroke-linecap:round; stroke-linejoin:round; stroke-width:2; stroke-opacity:0.1; fill:none\" points=\"\n",
       "  1533.13,1486.45 1533.13,47.2441 \n",
       "  \"/>\n",
       "<polyline clip-path=\"url(#clip842)\" style=\"stroke:#000000; stroke-linecap:round; stroke-linejoin:round; stroke-width:2; stroke-opacity:0.1; fill:none\" points=\"\n",
       "  1843.42,1486.45 1843.42,47.2441 \n",
       "  \"/>\n",
       "<polyline clip-path=\"url(#clip842)\" style=\"stroke:#000000; stroke-linecap:round; stroke-linejoin:round; stroke-width:2; stroke-opacity:0.1; fill:none\" points=\"\n",
       "  2153.71,1486.45 2153.71,47.2441 \n",
       "  \"/>\n",
       "<polyline clip-path=\"url(#clip840)\" style=\"stroke:#000000; stroke-linecap:round; stroke-linejoin:round; stroke-width:4; stroke-opacity:1; fill:none\" points=\"\n",
       "  184.191,1486.45 2352.76,1486.45 \n",
       "  \"/>\n",
       "<polyline clip-path=\"url(#clip840)\" style=\"stroke:#000000; stroke-linecap:round; stroke-linejoin:round; stroke-width:4; stroke-opacity:1; fill:none\" points=\"\n",
       "  291.985,1486.45 291.985,1467.55 \n",
       "  \"/>\n",
       "<polyline clip-path=\"url(#clip840)\" style=\"stroke:#000000; stroke-linecap:round; stroke-linejoin:round; stroke-width:4; stroke-opacity:1; fill:none\" points=\"\n",
       "  602.272,1486.45 602.272,1467.55 \n",
       "  \"/>\n",
       "<polyline clip-path=\"url(#clip840)\" style=\"stroke:#000000; stroke-linecap:round; stroke-linejoin:round; stroke-width:4; stroke-opacity:1; fill:none\" points=\"\n",
       "  912.559,1486.45 912.559,1467.55 \n",
       "  \"/>\n",
       "<polyline clip-path=\"url(#clip840)\" style=\"stroke:#000000; stroke-linecap:round; stroke-linejoin:round; stroke-width:4; stroke-opacity:1; fill:none\" points=\"\n",
       "  1222.85,1486.45 1222.85,1467.55 \n",
       "  \"/>\n",
       "<polyline clip-path=\"url(#clip840)\" style=\"stroke:#000000; stroke-linecap:round; stroke-linejoin:round; stroke-width:4; stroke-opacity:1; fill:none\" points=\"\n",
       "  1533.13,1486.45 1533.13,1467.55 \n",
       "  \"/>\n",
       "<polyline clip-path=\"url(#clip840)\" style=\"stroke:#000000; stroke-linecap:round; stroke-linejoin:round; stroke-width:4; stroke-opacity:1; fill:none\" points=\"\n",
       "  1843.42,1486.45 1843.42,1467.55 \n",
       "  \"/>\n",
       "<polyline clip-path=\"url(#clip840)\" style=\"stroke:#000000; stroke-linecap:round; stroke-linejoin:round; stroke-width:4; stroke-opacity:1; fill:none\" points=\"\n",
       "  2153.71,1486.45 2153.71,1467.55 \n",
       "  \"/>\n",
       "<path clip-path=\"url(#clip840)\" d=\"M239.01 1532.02 L268.686 1532.02 L268.686 1535.95 L239.01 1535.95 L239.01 1532.02 Z\" fill=\"#000000\" fill-rule=\"evenodd\" fill-opacity=\"1\" /><path clip-path=\"url(#clip840)\" d=\"M277.598 1514.29 L299.82 1514.29 L299.82 1516.28 L287.274 1548.85 L282.39 1548.85 L294.195 1518.22 L277.598 1518.22 L277.598 1514.29 Z\" fill=\"#000000\" fill-rule=\"evenodd\" fill-opacity=\"1\" /><path clip-path=\"url(#clip840)\" d=\"M308.94 1542.97 L313.825 1542.97 L313.825 1548.85 L308.94 1548.85 L308.94 1542.97 Z\" fill=\"#000000\" fill-rule=\"evenodd\" fill-opacity=\"1\" /><path clip-path=\"url(#clip840)\" d=\"M324.056 1514.29 L342.412 1514.29 L342.412 1518.22 L328.338 1518.22 L328.338 1526.7 Q329.357 1526.35 330.376 1526.19 Q331.394 1526 332.413 1526 Q338.2 1526 341.579 1529.17 Q344.959 1532.34 344.959 1537.76 Q344.959 1543.34 341.487 1546.44 Q338.014 1549.52 331.695 1549.52 Q329.519 1549.52 327.251 1549.15 Q325.005 1548.78 322.598 1548.04 L322.598 1543.34 Q324.681 1544.47 326.903 1545.03 Q329.126 1545.58 331.602 1545.58 Q335.607 1545.58 337.945 1543.48 Q340.283 1541.37 340.283 1537.76 Q340.283 1534.15 337.945 1532.04 Q335.607 1529.94 331.602 1529.94 Q329.727 1529.94 327.852 1530.35 Q326.001 1530.77 324.056 1531.65 L324.056 1514.29 Z\" fill=\"#000000\" fill-rule=\"evenodd\" fill-opacity=\"1\" /><path clip-path=\"url(#clip840)\" d=\"M548.8 1532.02 L578.475 1532.02 L578.475 1535.95 L548.8 1535.95 L548.8 1532.02 Z\" fill=\"#000000\" fill-rule=\"evenodd\" fill-opacity=\"1\" /><path clip-path=\"url(#clip840)\" d=\"M588.614 1514.29 L606.971 1514.29 L606.971 1518.22 L592.897 1518.22 L592.897 1526.7 Q593.915 1526.35 594.934 1526.19 Q595.952 1526 596.971 1526 Q602.758 1526 606.137 1529.17 Q609.517 1532.34 609.517 1537.76 Q609.517 1543.34 606.045 1546.44 Q602.572 1549.52 596.253 1549.52 Q594.077 1549.52 591.809 1549.15 Q589.563 1548.78 587.156 1548.04 L587.156 1543.34 Q589.239 1544.47 591.461 1545.03 Q593.684 1545.58 596.16 1545.58 Q600.165 1545.58 602.503 1543.48 Q604.841 1541.37 604.841 1537.76 Q604.841 1534.15 602.503 1532.04 Q600.165 1529.94 596.16 1529.94 Q594.285 1529.94 592.41 1530.35 Q590.559 1530.77 588.614 1531.65 L588.614 1514.29 Z\" fill=\"#000000\" fill-rule=\"evenodd\" fill-opacity=\"1\" /><path clip-path=\"url(#clip840)\" d=\"M618.73 1542.97 L623.614 1542.97 L623.614 1548.85 L618.73 1548.85 L618.73 1542.97 Z\" fill=\"#000000\" fill-rule=\"evenodd\" fill-opacity=\"1\" /><path clip-path=\"url(#clip840)\" d=\"M643.799 1517.37 Q640.188 1517.37 638.359 1520.93 Q636.554 1524.47 636.554 1531.6 Q636.554 1538.71 638.359 1542.27 Q640.188 1545.82 643.799 1545.82 Q647.433 1545.82 649.239 1542.27 Q651.068 1538.71 651.068 1531.6 Q651.068 1524.47 649.239 1520.93 Q647.433 1517.37 643.799 1517.37 M643.799 1513.66 Q649.609 1513.66 652.665 1518.27 Q655.743 1522.85 655.743 1531.6 Q655.743 1540.33 652.665 1544.94 Q649.609 1549.52 643.799 1549.52 Q637.989 1549.52 634.91 1544.94 Q631.855 1540.33 631.855 1531.6 Q631.855 1522.85 634.91 1518.27 Q637.989 1513.66 643.799 1513.66 Z\" fill=\"#000000\" fill-rule=\"evenodd\" fill-opacity=\"1\" /><path clip-path=\"url(#clip840)\" d=\"M859.584 1532.02 L889.26 1532.02 L889.26 1535.95 L859.584 1535.95 L859.584 1532.02 Z\" fill=\"#000000\" fill-rule=\"evenodd\" fill-opacity=\"1\" /><path clip-path=\"url(#clip840)\" d=\"M903.38 1544.91 L919.7 1544.91 L919.7 1548.85 L897.755 1548.85 L897.755 1544.91 Q900.417 1542.16 905.001 1537.53 Q909.607 1532.88 910.788 1531.53 Q913.033 1529.01 913.913 1527.27 Q914.815 1525.51 914.815 1523.82 Q914.815 1521.07 912.871 1519.33 Q910.95 1517.6 907.848 1517.6 Q905.649 1517.6 903.195 1518.36 Q900.765 1519.13 897.987 1520.68 L897.987 1515.95 Q900.811 1514.82 903.265 1514.24 Q905.718 1513.66 907.755 1513.66 Q913.126 1513.66 916.32 1516.35 Q919.515 1519.03 919.515 1523.52 Q919.515 1525.65 918.704 1527.57 Q917.917 1529.47 915.811 1532.07 Q915.232 1532.74 912.13 1535.95 Q909.028 1539.15 903.38 1544.91 Z\" fill=\"#000000\" fill-rule=\"evenodd\" fill-opacity=\"1\" /><path clip-path=\"url(#clip840)\" d=\"M929.514 1542.97 L934.399 1542.97 L934.399 1548.85 L929.514 1548.85 L929.514 1542.97 Z\" fill=\"#000000\" fill-rule=\"evenodd\" fill-opacity=\"1\" /><path clip-path=\"url(#clip840)\" d=\"M944.63 1514.29 L962.986 1514.29 L962.986 1518.22 L948.912 1518.22 L948.912 1526.7 Q949.931 1526.35 950.95 1526.19 Q951.968 1526 952.987 1526 Q958.774 1526 962.153 1529.17 Q965.533 1532.34 965.533 1537.76 Q965.533 1543.34 962.061 1546.44 Q958.588 1549.52 952.269 1549.52 Q950.093 1549.52 947.825 1549.15 Q945.579 1548.78 943.172 1548.04 L943.172 1543.34 Q945.255 1544.47 947.477 1545.03 Q949.7 1545.58 952.176 1545.58 Q956.181 1545.58 958.519 1543.48 Q960.857 1541.37 960.857 1537.76 Q960.857 1534.15 958.519 1532.04 Q956.181 1529.94 952.176 1529.94 Q950.301 1529.94 948.426 1530.35 Q946.575 1530.77 944.63 1531.65 L944.63 1514.29 Z\" fill=\"#000000\" fill-rule=\"evenodd\" fill-opacity=\"1\" /><path clip-path=\"url(#clip840)\" d=\"M1200.23 1517.37 Q1196.62 1517.37 1194.79 1520.93 Q1192.98 1524.47 1192.98 1531.6 Q1192.98 1538.71 1194.79 1542.27 Q1196.62 1545.82 1200.23 1545.82 Q1203.86 1545.82 1205.67 1542.27 Q1207.5 1538.71 1207.5 1531.6 Q1207.5 1524.47 1205.67 1520.93 Q1203.86 1517.37 1200.23 1517.37 M1200.23 1513.66 Q1206.04 1513.66 1209.1 1518.27 Q1212.17 1522.85 1212.17 1531.6 Q1212.17 1540.33 1209.1 1544.94 Q1206.04 1549.52 1200.23 1549.52 Q1194.42 1549.52 1191.34 1544.94 Q1188.29 1540.33 1188.29 1531.6 Q1188.29 1522.85 1191.34 1518.27 Q1194.42 1513.66 1200.23 1513.66 Z\" fill=\"#000000\" fill-rule=\"evenodd\" fill-opacity=\"1\" /><path clip-path=\"url(#clip840)\" d=\"M1220.39 1542.97 L1225.28 1542.97 L1225.28 1548.85 L1220.39 1548.85 L1220.39 1542.97 Z\" fill=\"#000000\" fill-rule=\"evenodd\" fill-opacity=\"1\" /><path clip-path=\"url(#clip840)\" d=\"M1245.46 1517.37 Q1241.85 1517.37 1240.02 1520.93 Q1238.22 1524.47 1238.22 1531.6 Q1238.22 1538.71 1240.02 1542.27 Q1241.85 1545.82 1245.46 1545.82 Q1249.1 1545.82 1250.9 1542.27 Q1252.73 1538.71 1252.73 1531.6 Q1252.73 1524.47 1250.9 1520.93 Q1249.1 1517.37 1245.46 1517.37 M1245.46 1513.66 Q1251.27 1513.66 1254.33 1518.27 Q1257.41 1522.85 1257.41 1531.6 Q1257.41 1540.33 1254.33 1544.94 Q1251.27 1549.52 1245.46 1549.52 Q1239.65 1549.52 1236.57 1544.94 Q1233.52 1540.33 1233.52 1531.6 Q1233.52 1522.85 1236.57 1518.27 Q1239.65 1513.66 1245.46 1513.66 Z\" fill=\"#000000\" fill-rule=\"evenodd\" fill-opacity=\"1\" /><path clip-path=\"url(#clip840)\" d=\"M1504.87 1544.91 L1521.19 1544.91 L1521.19 1548.85 L1499.24 1548.85 L1499.24 1544.91 Q1501.91 1542.16 1506.49 1537.53 Q1511.1 1532.88 1512.28 1531.53 Q1514.52 1529.01 1515.4 1527.27 Q1516.3 1525.51 1516.3 1523.82 Q1516.3 1521.07 1514.36 1519.33 Q1512.44 1517.6 1509.34 1517.6 Q1507.14 1517.6 1504.68 1518.36 Q1502.25 1519.13 1499.48 1520.68 L1499.48 1515.95 Q1502.3 1514.82 1504.75 1514.24 Q1507.21 1513.66 1509.24 1513.66 Q1514.61 1513.66 1517.81 1516.35 Q1521 1519.03 1521 1523.52 Q1521 1525.65 1520.19 1527.57 Q1519.41 1529.47 1517.3 1532.07 Q1516.72 1532.74 1513.62 1535.95 Q1510.52 1539.15 1504.87 1544.91 Z\" fill=\"#000000\" fill-rule=\"evenodd\" fill-opacity=\"1\" /><path clip-path=\"url(#clip840)\" d=\"M1531 1542.97 L1535.89 1542.97 L1535.89 1548.85 L1531 1548.85 L1531 1542.97 Z\" fill=\"#000000\" fill-rule=\"evenodd\" fill-opacity=\"1\" /><path clip-path=\"url(#clip840)\" d=\"M1546.12 1514.29 L1564.47 1514.29 L1564.47 1518.22 L1550.4 1518.22 L1550.4 1526.7 Q1551.42 1526.35 1552.44 1526.19 Q1553.46 1526 1554.48 1526 Q1560.26 1526 1563.64 1529.17 Q1567.02 1532.34 1567.02 1537.76 Q1567.02 1543.34 1563.55 1546.44 Q1560.08 1549.52 1553.76 1549.52 Q1551.58 1549.52 1549.31 1549.15 Q1547.07 1548.78 1544.66 1548.04 L1544.66 1543.34 Q1546.74 1544.47 1548.97 1545.03 Q1551.19 1545.58 1553.66 1545.58 Q1557.67 1545.58 1560.01 1543.48 Q1562.35 1541.37 1562.35 1537.76 Q1562.35 1534.15 1560.01 1532.04 Q1557.67 1529.94 1553.66 1529.94 Q1551.79 1529.94 1549.91 1530.35 Q1548.06 1530.77 1546.12 1531.65 L1546.12 1514.29 Z\" fill=\"#000000\" fill-rule=\"evenodd\" fill-opacity=\"1\" /><path clip-path=\"url(#clip840)\" d=\"M1810.58 1514.29 L1828.94 1514.29 L1828.94 1518.22 L1814.87 1518.22 L1814.87 1526.7 Q1815.88 1526.35 1816.9 1526.19 Q1817.92 1526 1818.94 1526 Q1824.73 1526 1828.11 1529.17 Q1831.49 1532.34 1831.49 1537.76 Q1831.49 1543.34 1828.01 1546.44 Q1824.54 1549.52 1818.22 1549.52 Q1816.05 1549.52 1813.78 1549.15 Q1811.53 1548.78 1809.13 1548.04 L1809.13 1543.34 Q1811.21 1544.47 1813.43 1545.03 Q1815.65 1545.58 1818.13 1545.58 Q1822.13 1545.58 1824.47 1543.48 Q1826.81 1541.37 1826.81 1537.76 Q1826.81 1534.15 1824.47 1532.04 Q1822.13 1529.94 1818.13 1529.94 Q1816.26 1529.94 1814.38 1530.35 Q1812.53 1530.77 1810.58 1531.65 L1810.58 1514.29 Z\" fill=\"#000000\" fill-rule=\"evenodd\" fill-opacity=\"1\" /><path clip-path=\"url(#clip840)\" d=\"M1840.7 1542.97 L1845.58 1542.97 L1845.58 1548.85 L1840.7 1548.85 L1840.7 1542.97 Z\" fill=\"#000000\" fill-rule=\"evenodd\" fill-opacity=\"1\" /><path clip-path=\"url(#clip840)\" d=\"M1865.77 1517.37 Q1862.16 1517.37 1860.33 1520.93 Q1858.52 1524.47 1858.52 1531.6 Q1858.52 1538.71 1860.33 1542.27 Q1862.16 1545.82 1865.77 1545.82 Q1869.4 1545.82 1871.21 1542.27 Q1873.04 1538.71 1873.04 1531.6 Q1873.04 1524.47 1871.21 1520.93 Q1869.4 1517.37 1865.77 1517.37 M1865.77 1513.66 Q1871.58 1513.66 1874.63 1518.27 Q1877.71 1522.85 1877.71 1531.6 Q1877.71 1540.33 1874.63 1544.94 Q1871.58 1549.52 1865.77 1549.52 Q1859.96 1549.52 1856.88 1544.94 Q1853.82 1540.33 1853.82 1531.6 Q1853.82 1522.85 1856.88 1518.27 Q1859.96 1513.66 1865.77 1513.66 Z\" fill=\"#000000\" fill-rule=\"evenodd\" fill-opacity=\"1\" /><path clip-path=\"url(#clip840)\" d=\"M2120.03 1514.29 L2142.25 1514.29 L2142.25 1516.28 L2129.7 1548.85 L2124.82 1548.85 L2136.62 1518.22 L2120.03 1518.22 L2120.03 1514.29 Z\" fill=\"#000000\" fill-rule=\"evenodd\" fill-opacity=\"1\" /><path clip-path=\"url(#clip840)\" d=\"M2151.37 1542.97 L2156.25 1542.97 L2156.25 1548.85 L2151.37 1548.85 L2151.37 1542.97 Z\" fill=\"#000000\" fill-rule=\"evenodd\" fill-opacity=\"1\" /><path clip-path=\"url(#clip840)\" d=\"M2166.48 1514.29 L2184.84 1514.29 L2184.84 1518.22 L2170.77 1518.22 L2170.77 1526.7 Q2171.79 1526.35 2172.8 1526.19 Q2173.82 1526 2174.84 1526 Q2180.63 1526 2184.01 1529.17 Q2187.39 1532.34 2187.39 1537.76 Q2187.39 1543.34 2183.91 1546.44 Q2180.44 1549.52 2174.12 1549.52 Q2171.95 1549.52 2169.68 1549.15 Q2167.43 1548.78 2165.03 1548.04 L2165.03 1543.34 Q2167.11 1544.47 2169.33 1545.03 Q2171.55 1545.58 2174.03 1545.58 Q2178.04 1545.58 2180.37 1543.48 Q2182.71 1541.37 2182.71 1537.76 Q2182.71 1534.15 2180.37 1532.04 Q2178.04 1529.94 2174.03 1529.94 Q2172.16 1529.94 2170.28 1530.35 Q2168.43 1530.77 2166.48 1531.65 L2166.48 1514.29 Z\" fill=\"#000000\" fill-rule=\"evenodd\" fill-opacity=\"1\" /><polyline clip-path=\"url(#clip842)\" style=\"stroke:#000000; stroke-linecap:round; stroke-linejoin:round; stroke-width:2; stroke-opacity:0.1; fill:none\" points=\"\n",
       "  184.191,1445.72 2352.76,1445.72 \n",
       "  \"/>\n",
       "<polyline clip-path=\"url(#clip842)\" style=\"stroke:#000000; stroke-linecap:round; stroke-linejoin:round; stroke-width:2; stroke-opacity:0.1; fill:none\" points=\"\n",
       "  184.191,1135.43 2352.76,1135.43 \n",
       "  \"/>\n",
       "<polyline clip-path=\"url(#clip842)\" style=\"stroke:#000000; stroke-linecap:round; stroke-linejoin:round; stroke-width:2; stroke-opacity:0.1; fill:none\" points=\"\n",
       "  184.191,825.142 2352.76,825.142 \n",
       "  \"/>\n",
       "<polyline clip-path=\"url(#clip842)\" style=\"stroke:#000000; stroke-linecap:round; stroke-linejoin:round; stroke-width:2; stroke-opacity:0.1; fill:none\" points=\"\n",
       "  184.191,514.855 2352.76,514.855 \n",
       "  \"/>\n",
       "<polyline clip-path=\"url(#clip842)\" style=\"stroke:#000000; stroke-linecap:round; stroke-linejoin:round; stroke-width:2; stroke-opacity:0.1; fill:none\" points=\"\n",
       "  184.191,204.568 2352.76,204.568 \n",
       "  \"/>\n",
       "<polyline clip-path=\"url(#clip840)\" style=\"stroke:#000000; stroke-linecap:round; stroke-linejoin:round; stroke-width:4; stroke-opacity:1; fill:none\" points=\"\n",
       "  184.191,1486.45 184.191,47.2441 \n",
       "  \"/>\n",
       "<polyline clip-path=\"url(#clip840)\" style=\"stroke:#000000; stroke-linecap:round; stroke-linejoin:round; stroke-width:4; stroke-opacity:1; fill:none\" points=\"\n",
       "  184.191,1445.72 203.088,1445.72 \n",
       "  \"/>\n",
       "<polyline clip-path=\"url(#clip840)\" style=\"stroke:#000000; stroke-linecap:round; stroke-linejoin:round; stroke-width:4; stroke-opacity:1; fill:none\" points=\"\n",
       "  184.191,1135.43 203.088,1135.43 \n",
       "  \"/>\n",
       "<polyline clip-path=\"url(#clip840)\" style=\"stroke:#000000; stroke-linecap:round; stroke-linejoin:round; stroke-width:4; stroke-opacity:1; fill:none\" points=\"\n",
       "  184.191,825.142 203.088,825.142 \n",
       "  \"/>\n",
       "<polyline clip-path=\"url(#clip840)\" style=\"stroke:#000000; stroke-linecap:round; stroke-linejoin:round; stroke-width:4; stroke-opacity:1; fill:none\" points=\"\n",
       "  184.191,514.855 203.088,514.855 \n",
       "  \"/>\n",
       "<polyline clip-path=\"url(#clip840)\" style=\"stroke:#000000; stroke-linecap:round; stroke-linejoin:round; stroke-width:4; stroke-opacity:1; fill:none\" points=\"\n",
       "  184.191,204.568 203.088,204.568 \n",
       "  \"/>\n",
       "<path clip-path=\"url(#clip840)\" d=\"M91.0151 1431.51 Q87.404 1431.51 85.5753 1435.08 Q83.7697 1438.62 83.7697 1445.75 Q83.7697 1452.86 85.5753 1456.42 Q87.404 1459.96 91.0151 1459.96 Q94.6493 1459.96 96.4548 1456.42 Q98.2835 1452.86 98.2835 1445.75 Q98.2835 1438.62 96.4548 1435.08 Q94.6493 1431.51 91.0151 1431.51 M91.0151 1427.81 Q96.8252 1427.81 99.8808 1432.42 Q102.959 1437 102.959 1445.75 Q102.959 1454.48 99.8808 1459.08 Q96.8252 1463.67 91.0151 1463.67 Q85.2049 1463.67 82.1262 1459.08 Q79.0707 1454.48 79.0707 1445.75 Q79.0707 1437 82.1262 1432.42 Q85.2049 1427.81 91.0151 1427.81 Z\" fill=\"#000000\" fill-rule=\"evenodd\" fill-opacity=\"1\" /><path clip-path=\"url(#clip840)\" d=\"M111.177 1457.12 L116.061 1457.12 L116.061 1463 L111.177 1463 L111.177 1457.12 Z\" fill=\"#000000\" fill-rule=\"evenodd\" fill-opacity=\"1\" /><path clip-path=\"url(#clip840)\" d=\"M136.246 1431.51 Q132.635 1431.51 130.807 1435.08 Q129.001 1438.62 129.001 1445.75 Q129.001 1452.86 130.807 1456.42 Q132.635 1459.96 136.246 1459.96 Q139.881 1459.96 141.686 1456.42 Q143.515 1452.86 143.515 1445.75 Q143.515 1438.62 141.686 1435.08 Q139.881 1431.51 136.246 1431.51 M136.246 1427.81 Q142.056 1427.81 145.112 1432.42 Q148.191 1437 148.191 1445.75 Q148.191 1454.48 145.112 1459.08 Q142.056 1463.67 136.246 1463.67 Q130.436 1463.67 127.357 1459.08 Q124.302 1454.48 124.302 1445.75 Q124.302 1437 127.357 1432.42 Q130.436 1427.81 136.246 1427.81 Z\" fill=\"#000000\" fill-rule=\"evenodd\" fill-opacity=\"1\" /><path clip-path=\"url(#clip840)\" d=\"M86.0382 1148.77 L102.358 1148.77 L102.358 1152.71 L80.4133 1152.71 L80.4133 1148.77 Q83.0753 1146.02 87.6586 1141.39 Q92.2651 1136.74 93.4456 1135.39 Q95.691 1132.87 96.5706 1131.13 Q97.4734 1129.38 97.4734 1127.69 Q97.4734 1124.93 95.5289 1123.19 Q93.6076 1121.46 90.5058 1121.46 Q88.3067 1121.46 85.8531 1122.22 Q83.4225 1122.99 80.6447 1124.54 L80.6447 1119.82 Q83.4688 1118.68 85.9225 1118.1 Q88.3762 1117.52 90.4132 1117.52 Q95.7836 1117.52 98.978 1120.21 Q102.172 1122.89 102.172 1127.38 Q102.172 1129.51 101.362 1131.44 Q100.575 1133.33 98.4687 1135.93 Q97.89 1136.6 94.7882 1139.82 Q91.6864 1143.01 86.0382 1148.77 Z\" fill=\"#000000\" fill-rule=\"evenodd\" fill-opacity=\"1\" /><path clip-path=\"url(#clip840)\" d=\"M112.172 1146.83 L117.057 1146.83 L117.057 1152.71 L112.172 1152.71 L112.172 1146.83 Z\" fill=\"#000000\" fill-rule=\"evenodd\" fill-opacity=\"1\" /><path clip-path=\"url(#clip840)\" d=\"M127.288 1118.15 L145.644 1118.15 L145.644 1122.08 L131.57 1122.08 L131.57 1130.56 Q132.589 1130.21 133.607 1130.05 Q134.626 1129.86 135.644 1129.86 Q141.431 1129.86 144.811 1133.03 Q148.191 1136.2 148.191 1141.62 Q148.191 1147.2 144.718 1150.3 Q141.246 1153.38 134.927 1153.38 Q132.751 1153.38 130.482 1153.01 Q128.237 1152.64 125.83 1151.9 L125.83 1147.2 Q127.913 1148.33 130.135 1148.89 Q132.357 1149.44 134.834 1149.44 Q138.839 1149.44 141.177 1147.34 Q143.515 1145.23 143.515 1141.62 Q143.515 1138.01 141.177 1135.9 Q138.839 1133.8 134.834 1133.8 Q132.959 1133.8 131.084 1134.21 Q129.232 1134.63 127.288 1135.51 L127.288 1118.15 Z\" fill=\"#000000\" fill-rule=\"evenodd\" fill-opacity=\"1\" /><path clip-path=\"url(#clip840)\" d=\"M81.0614 807.862 L99.4178 807.862 L99.4178 811.797 L85.3438 811.797 L85.3438 820.269 Q86.3623 819.922 87.3808 819.76 Q88.3993 819.575 89.4178 819.575 Q95.2049 819.575 98.5845 822.746 Q101.964 825.917 101.964 831.334 Q101.964 836.912 98.4919 840.014 Q95.0197 843.093 88.7003 843.093 Q86.5243 843.093 84.2558 842.723 Q82.0105 842.352 79.6031 841.612 L79.6031 836.912 Q81.6864 838.047 83.9086 838.602 Q86.1308 839.158 88.6077 839.158 Q92.6123 839.158 94.9502 837.051 Q97.2882 834.945 97.2882 831.334 Q97.2882 827.723 94.9502 825.616 Q92.6123 823.51 88.6077 823.51 Q86.7327 823.51 84.8577 823.926 Q83.0058 824.343 81.0614 825.223 L81.0614 807.862 Z\" fill=\"#000000\" fill-rule=\"evenodd\" fill-opacity=\"1\" /><path clip-path=\"url(#clip840)\" d=\"M111.177 836.542 L116.061 836.542 L116.061 842.422 L111.177 842.422 L111.177 836.542 Z\" fill=\"#000000\" fill-rule=\"evenodd\" fill-opacity=\"1\" /><path clip-path=\"url(#clip840)\" d=\"M136.246 810.94 Q132.635 810.94 130.807 814.505 Q129.001 818.047 129.001 825.176 Q129.001 832.283 130.807 835.848 Q132.635 839.389 136.246 839.389 Q139.881 839.389 141.686 835.848 Q143.515 832.283 143.515 825.176 Q143.515 818.047 141.686 814.505 Q139.881 810.94 136.246 810.94 M136.246 807.237 Q142.056 807.237 145.112 811.843 Q148.191 816.426 148.191 825.176 Q148.191 833.903 145.112 838.51 Q142.056 843.093 136.246 843.093 Q130.436 843.093 127.357 838.51 Q124.302 833.903 124.302 825.176 Q124.302 816.426 127.357 811.843 Q130.436 807.237 136.246 807.237 Z\" fill=\"#000000\" fill-rule=\"evenodd\" fill-opacity=\"1\" /><path clip-path=\"url(#clip840)\" d=\"M80.8299 497.575 L103.052 497.575 L103.052 499.565 L90.5058 532.135 L85.6216 532.135 L97.4271 501.51 L80.8299 501.51 L80.8299 497.575 Z\" fill=\"#000000\" fill-rule=\"evenodd\" fill-opacity=\"1\" /><path clip-path=\"url(#clip840)\" d=\"M112.172 526.255 L117.057 526.255 L117.057 532.135 L112.172 532.135 L112.172 526.255 Z\" fill=\"#000000\" fill-rule=\"evenodd\" fill-opacity=\"1\" /><path clip-path=\"url(#clip840)\" d=\"M127.288 497.575 L145.644 497.575 L145.644 501.51 L131.57 501.51 L131.57 509.982 Q132.589 509.635 133.607 509.473 Q134.626 509.288 135.644 509.288 Q141.431 509.288 144.811 512.459 Q148.191 515.63 148.191 521.047 Q148.191 526.625 144.718 529.727 Q141.246 532.806 134.927 532.806 Q132.751 532.806 130.482 532.436 Q128.237 532.065 125.83 531.325 L125.83 526.625 Q127.913 527.76 130.135 528.315 Q132.357 528.871 134.834 528.871 Q138.839 528.871 141.177 526.764 Q143.515 524.658 143.515 521.047 Q143.515 517.436 141.177 515.329 Q138.839 513.223 134.834 513.223 Q132.959 513.223 131.084 513.639 Q129.232 514.056 127.288 514.936 L127.288 497.575 Z\" fill=\"#000000\" fill-rule=\"evenodd\" fill-opacity=\"1\" /><path clip-path=\"url(#clip840)\" d=\"M51.6634 217.913 L59.3023 217.913 L59.3023 191.547 L50.9921 193.214 L50.9921 188.954 L59.256 187.288 L63.9319 187.288 L63.9319 217.913 L71.5707 217.913 L71.5707 221.848 L51.6634 221.848 L51.6634 217.913 Z\" fill=\"#000000\" fill-rule=\"evenodd\" fill-opacity=\"1\" /><path clip-path=\"url(#clip840)\" d=\"M91.0151 190.366 Q87.404 190.366 85.5753 193.931 Q83.7697 197.473 83.7697 204.602 Q83.7697 211.709 85.5753 215.274 Q87.404 218.815 91.0151 218.815 Q94.6493 218.815 96.4548 215.274 Q98.2835 211.709 98.2835 204.602 Q98.2835 197.473 96.4548 193.931 Q94.6493 190.366 91.0151 190.366 M91.0151 186.663 Q96.8252 186.663 99.8808 191.269 Q102.959 195.852 102.959 204.602 Q102.959 213.329 99.8808 217.936 Q96.8252 222.519 91.0151 222.519 Q85.2049 222.519 82.1262 217.936 Q79.0707 213.329 79.0707 204.602 Q79.0707 195.852 82.1262 191.269 Q85.2049 186.663 91.0151 186.663 Z\" fill=\"#000000\" fill-rule=\"evenodd\" fill-opacity=\"1\" /><path clip-path=\"url(#clip840)\" d=\"M111.177 215.968 L116.061 215.968 L116.061 221.848 L111.177 221.848 L111.177 215.968 Z\" fill=\"#000000\" fill-rule=\"evenodd\" fill-opacity=\"1\" /><path clip-path=\"url(#clip840)\" d=\"M136.246 190.366 Q132.635 190.366 130.807 193.931 Q129.001 197.473 129.001 204.602 Q129.001 211.709 130.807 215.274 Q132.635 218.815 136.246 218.815 Q139.881 218.815 141.686 215.274 Q143.515 211.709 143.515 204.602 Q143.515 197.473 141.686 193.931 Q139.881 190.366 136.246 190.366 M136.246 186.663 Q142.056 186.663 145.112 191.269 Q148.191 195.852 148.191 204.602 Q148.191 213.329 145.112 217.936 Q142.056 222.519 136.246 222.519 Q130.436 222.519 127.357 217.936 Q124.302 213.329 124.302 204.602 Q124.302 195.852 127.357 191.269 Q130.436 186.663 136.246 186.663 Z\" fill=\"#000000\" fill-rule=\"evenodd\" fill-opacity=\"1\" /><polyline clip-path=\"url(#clip842)\" style=\"stroke:#009af9; stroke-linecap:round; stroke-linejoin:round; stroke-width:4; stroke-opacity:1; fill:none\" points=\"\n",
       "  1222.85,1445.72 1328.13,1210.11 1288.67,556.656 1208.82,87.9763 \n",
       "  \"/>\n",
       "<circle clip-path=\"url(#clip842)\" cx=\"1222.85\" cy=\"1445.72\" r=\"14.4\" fill=\"#e26f46\" fill-rule=\"evenodd\" fill-opacity=\"1\" stroke=\"#000000\" stroke-opacity=\"1\" stroke-width=\"3.2\"/>\n",
       "<circle clip-path=\"url(#clip842)\" cx=\"1328.13\" cy=\"1210.11\" r=\"14.4\" fill=\"#e26f46\" fill-rule=\"evenodd\" fill-opacity=\"1\" stroke=\"#000000\" stroke-opacity=\"1\" stroke-width=\"3.2\"/>\n",
       "<circle clip-path=\"url(#clip842)\" cx=\"1288.67\" cy=\"556.656\" r=\"14.4\" fill=\"#e26f46\" fill-rule=\"evenodd\" fill-opacity=\"1\" stroke=\"#000000\" stroke-opacity=\"1\" stroke-width=\"3.2\"/>\n",
       "<circle clip-path=\"url(#clip842)\" cx=\"1208.82\" cy=\"87.9763\" r=\"14.4\" fill=\"#e26f46\" fill-rule=\"evenodd\" fill-opacity=\"1\" stroke=\"#000000\" stroke-opacity=\"1\" stroke-width=\"3.2\"/>\n",
       "</svg>\n"
      ]
     },
     "execution_count": 4,
     "metadata": {},
     "output_type": "execute_result"
    }
   ],
   "source": [
    "plot(x,y,aspect_ratio = 1,legend = false)\n",
    "plot!(x,y,seriestype=:scatter)"
   ]
  },
  {
   "cell_type": "code",
   "execution_count": 5,
   "id": "9964a118",
   "metadata": {},
   "outputs": [
    {
     "data": {
      "text/plain": [
       "3-element Vector{Float64}:\n",
       " 12.0\n",
       "  0.0\n",
       "  8.0"
      ]
     },
     "execution_count": 5,
     "metadata": {},
     "output_type": "execute_result"
    }
   ],
   "source": [
    "position = [12.0, 0.0, 8.0]"
   ]
  },
  {
   "cell_type": "code",
   "execution_count": 6,
   "id": "c5076275",
   "metadata": {},
   "outputs": [
    {
     "data": {
      "text/plain": [
       "(2, [0.5303756281883905, 0.0, 7.163202984282234])"
      ]
     },
     "execution_count": 6,
     "metadata": {},
     "output_type": "execute_result"
    }
   ],
   "source": [
    "line_segment, progress = calculate_progress(points,position)"
   ]
  },
  {
   "cell_type": "code",
   "execution_count": 7,
   "id": "0f78aace",
   "metadata": {},
   "outputs": [
    {
     "data": {
      "image/svg+xml": [
       "<?xml version=\"1.0\" encoding=\"utf-8\"?>\n",
       "<svg xmlns=\"http://www.w3.org/2000/svg\" xmlns:xlink=\"http://www.w3.org/1999/xlink\" width=\"600\" height=\"400\" viewBox=\"0 0 2400 1600\">\n",
       "<defs>\n",
       "  <clipPath id=\"clip880\">\n",
       "    <rect x=\"0\" y=\"0\" width=\"2400\" height=\"1600\"/>\n",
       "  </clipPath>\n",
       "</defs>\n",
       "<path clip-path=\"url(#clip880)\" d=\"\n",
       "M0 1600 L2400 1600 L2400 0 L0 0  Z\n",
       "  \" fill=\"#ffffff\" fill-rule=\"evenodd\" fill-opacity=\"1\"/>\n",
       "<defs>\n",
       "  <clipPath id=\"clip881\">\n",
       "    <rect x=\"480\" y=\"0\" width=\"1681\" height=\"1600\"/>\n",
       "  </clipPath>\n",
       "</defs>\n",
       "<path clip-path=\"url(#clip880)\" d=\"\n",
       "M184.191 1486.45 L2352.76 1486.45 L2352.76 47.2441 L184.191 47.2441  Z\n",
       "  \" fill=\"#ffffff\" fill-rule=\"evenodd\" fill-opacity=\"1\"/>\n",
       "<defs>\n",
       "  <clipPath id=\"clip882\">\n",
       "    <rect x=\"184\" y=\"47\" width=\"2170\" height=\"1440\"/>\n",
       "  </clipPath>\n",
       "</defs>\n",
       "<polyline clip-path=\"url(#clip882)\" style=\"stroke:#000000; stroke-linecap:round; stroke-linejoin:round; stroke-width:2; stroke-opacity:0.1; fill:none\" points=\"\n",
       "  530.798,1486.45 530.798,47.2441 \n",
       "  \"/>\n",
       "<polyline clip-path=\"url(#clip882)\" style=\"stroke:#000000; stroke-linecap:round; stroke-linejoin:round; stroke-width:2; stroke-opacity:0.1; fill:none\" points=\"\n",
       "  903.142,1486.45 903.142,47.2441 \n",
       "  \"/>\n",
       "<polyline clip-path=\"url(#clip882)\" style=\"stroke:#000000; stroke-linecap:round; stroke-linejoin:round; stroke-width:2; stroke-opacity:0.1; fill:none\" points=\"\n",
       "  1275.49,1486.45 1275.49,47.2441 \n",
       "  \"/>\n",
       "<polyline clip-path=\"url(#clip882)\" style=\"stroke:#000000; stroke-linecap:round; stroke-linejoin:round; stroke-width:2; stroke-opacity:0.1; fill:none\" points=\"\n",
       "  1647.83,1486.45 1647.83,47.2441 \n",
       "  \"/>\n",
       "<polyline clip-path=\"url(#clip882)\" style=\"stroke:#000000; stroke-linecap:round; stroke-linejoin:round; stroke-width:2; stroke-opacity:0.1; fill:none\" points=\"\n",
       "  2020.18,1486.45 2020.18,47.2441 \n",
       "  \"/>\n",
       "<polyline clip-path=\"url(#clip880)\" style=\"stroke:#000000; stroke-linecap:round; stroke-linejoin:round; stroke-width:4; stroke-opacity:1; fill:none\" points=\"\n",
       "  184.191,1486.45 2352.76,1486.45 \n",
       "  \"/>\n",
       "<polyline clip-path=\"url(#clip880)\" style=\"stroke:#000000; stroke-linecap:round; stroke-linejoin:round; stroke-width:4; stroke-opacity:1; fill:none\" points=\"\n",
       "  530.798,1486.45 530.798,1467.55 \n",
       "  \"/>\n",
       "<polyline clip-path=\"url(#clip880)\" style=\"stroke:#000000; stroke-linecap:round; stroke-linejoin:round; stroke-width:4; stroke-opacity:1; fill:none\" points=\"\n",
       "  903.142,1486.45 903.142,1467.55 \n",
       "  \"/>\n",
       "<polyline clip-path=\"url(#clip880)\" style=\"stroke:#000000; stroke-linecap:round; stroke-linejoin:round; stroke-width:4; stroke-opacity:1; fill:none\" points=\"\n",
       "  1275.49,1486.45 1275.49,1467.55 \n",
       "  \"/>\n",
       "<polyline clip-path=\"url(#clip880)\" style=\"stroke:#000000; stroke-linecap:round; stroke-linejoin:round; stroke-width:4; stroke-opacity:1; fill:none\" points=\"\n",
       "  1647.83,1486.45 1647.83,1467.55 \n",
       "  \"/>\n",
       "<polyline clip-path=\"url(#clip880)\" style=\"stroke:#000000; stroke-linecap:round; stroke-linejoin:round; stroke-width:4; stroke-opacity:1; fill:none\" points=\"\n",
       "  2020.18,1486.45 2020.18,1467.55 \n",
       "  \"/>\n",
       "<path clip-path=\"url(#clip880)\" d=\"M530.798 1517.37 Q527.187 1517.37 525.358 1520.93 Q523.552 1524.47 523.552 1531.6 Q523.552 1538.71 525.358 1542.27 Q527.187 1545.82 530.798 1545.82 Q534.432 1545.82 536.237 1542.27 Q538.066 1538.71 538.066 1531.6 Q538.066 1524.47 536.237 1520.93 Q534.432 1517.37 530.798 1517.37 M530.798 1513.66 Q536.608 1513.66 539.663 1518.27 Q542.742 1522.85 542.742 1531.6 Q542.742 1540.33 539.663 1544.94 Q536.608 1549.52 530.798 1549.52 Q524.988 1549.52 521.909 1544.94 Q518.853 1540.33 518.853 1531.6 Q518.853 1522.85 521.909 1518.27 Q524.988 1513.66 530.798 1513.66 Z\" fill=\"#000000\" fill-rule=\"evenodd\" fill-opacity=\"1\" /><path clip-path=\"url(#clip880)\" d=\"M907.39 1530.21 Q910.746 1530.93 912.621 1533.2 Q914.519 1535.47 914.519 1538.8 Q914.519 1543.92 911.001 1546.72 Q907.482 1549.52 901.001 1549.52 Q898.825 1549.52 896.51 1549.08 Q894.219 1548.66 891.765 1547.81 L891.765 1543.29 Q893.709 1544.43 896.024 1545.01 Q898.339 1545.58 900.862 1545.58 Q905.26 1545.58 907.552 1543.85 Q909.867 1542.11 909.867 1538.8 Q909.867 1535.75 907.714 1534.03 Q905.584 1532.3 901.765 1532.3 L897.737 1532.3 L897.737 1528.45 L901.95 1528.45 Q905.399 1528.45 907.228 1527.09 Q909.056 1525.7 909.056 1523.11 Q909.056 1520.45 907.158 1519.03 Q905.283 1517.6 901.765 1517.6 Q899.843 1517.6 897.644 1518.01 Q895.445 1518.43 892.806 1519.31 L892.806 1515.14 Q895.469 1514.4 897.783 1514.03 Q900.121 1513.66 902.181 1513.66 Q907.505 1513.66 910.607 1516.09 Q913.709 1518.5 913.709 1522.62 Q913.709 1525.49 912.066 1527.48 Q910.422 1529.45 907.39 1530.21 Z\" fill=\"#000000\" fill-rule=\"evenodd\" fill-opacity=\"1\" /><path clip-path=\"url(#clip880)\" d=\"M1275.89 1529.7 Q1272.74 1529.7 1270.89 1531.86 Q1269.06 1534.01 1269.06 1537.76 Q1269.06 1541.49 1270.89 1543.66 Q1272.74 1545.82 1275.89 1545.82 Q1279.04 1545.82 1280.87 1543.66 Q1282.72 1541.49 1282.72 1537.76 Q1282.72 1534.01 1280.87 1531.86 Q1279.04 1529.7 1275.89 1529.7 M1285.17 1515.05 L1285.17 1519.31 Q1283.41 1518.48 1281.61 1518.04 Q1279.83 1517.6 1278.07 1517.6 Q1273.44 1517.6 1270.98 1520.72 Q1268.55 1523.85 1268.21 1530.17 Q1269.57 1528.15 1271.63 1527.09 Q1273.69 1526 1276.17 1526 Q1281.38 1526 1284.39 1529.17 Q1287.42 1532.32 1287.42 1537.76 Q1287.42 1543.08 1284.27 1546.3 Q1281.12 1549.52 1275.89 1549.52 Q1269.9 1549.52 1266.72 1544.94 Q1263.55 1540.33 1263.55 1531.6 Q1263.55 1523.41 1267.44 1518.55 Q1271.33 1513.66 1277.88 1513.66 Q1279.64 1513.66 1281.42 1514.01 Q1283.23 1514.36 1285.17 1515.05 Z\" fill=\"#000000\" fill-rule=\"evenodd\" fill-opacity=\"1\" /><path clip-path=\"url(#clip880)\" d=\"M1638.13 1548.13 L1638.13 1543.87 Q1639.89 1544.7 1641.7 1545.14 Q1643.5 1545.58 1645.24 1545.58 Q1649.87 1545.58 1652.3 1542.48 Q1654.75 1539.36 1655.1 1533.01 Q1653.76 1535.01 1651.7 1536.07 Q1649.64 1537.13 1647.14 1537.13 Q1641.95 1537.13 1638.92 1534.01 Q1635.91 1530.86 1635.91 1525.42 Q1635.91 1520.1 1639.06 1516.88 Q1642.21 1513.66 1647.44 1513.66 Q1653.43 1513.66 1656.58 1518.27 Q1659.75 1522.85 1659.75 1531.6 Q1659.75 1539.77 1655.86 1544.66 Q1652 1549.52 1645.45 1549.52 Q1643.69 1549.52 1641.88 1549.17 Q1640.08 1548.82 1638.13 1548.13 M1647.44 1533.48 Q1650.59 1533.48 1652.41 1531.32 Q1654.27 1529.17 1654.27 1525.42 Q1654.27 1521.7 1652.41 1519.54 Q1650.59 1517.37 1647.44 1517.37 Q1644.29 1517.37 1642.44 1519.54 Q1640.61 1521.7 1640.61 1525.42 Q1640.61 1529.17 1642.44 1531.32 Q1644.29 1533.48 1647.44 1533.48 Z\" fill=\"#000000\" fill-rule=\"evenodd\" fill-opacity=\"1\" /><path clip-path=\"url(#clip880)\" d=\"M1995.66 1544.91 L2003.3 1544.91 L2003.3 1518.55 L1994.99 1520.21 L1994.99 1515.95 L2003.25 1514.29 L2007.93 1514.29 L2007.93 1544.91 L2015.57 1544.91 L2015.57 1548.85 L1995.66 1548.85 L1995.66 1544.91 Z\" fill=\"#000000\" fill-rule=\"evenodd\" fill-opacity=\"1\" /><path clip-path=\"url(#clip880)\" d=\"M2029.04 1544.91 L2045.36 1544.91 L2045.36 1548.85 L2023.42 1548.85 L2023.42 1544.91 Q2026.08 1542.16 2030.66 1537.53 Q2035.27 1532.88 2036.45 1531.53 Q2038.69 1529.01 2039.57 1527.27 Q2040.48 1525.51 2040.48 1523.82 Q2040.48 1521.07 2038.53 1519.33 Q2036.61 1517.6 2033.51 1517.6 Q2031.31 1517.6 2028.86 1518.36 Q2026.43 1519.13 2023.65 1520.68 L2023.65 1515.95 Q2026.47 1514.82 2028.93 1514.24 Q2031.38 1513.66 2033.42 1513.66 Q2038.79 1513.66 2041.98 1516.35 Q2045.18 1519.03 2045.18 1523.52 Q2045.18 1525.65 2044.36 1527.57 Q2043.58 1529.47 2041.47 1532.07 Q2040.89 1532.74 2037.79 1535.95 Q2034.69 1539.15 2029.04 1544.91 Z\" fill=\"#000000\" fill-rule=\"evenodd\" fill-opacity=\"1\" /><polyline clip-path=\"url(#clip882)\" style=\"stroke:#000000; stroke-linecap:round; stroke-linejoin:round; stroke-width:2; stroke-opacity:0.1; fill:none\" points=\"\n",
       "  184.191,1445.72 2352.76,1445.72 \n",
       "  \"/>\n",
       "<polyline clip-path=\"url(#clip882)\" style=\"stroke:#000000; stroke-linecap:round; stroke-linejoin:round; stroke-width:2; stroke-opacity:0.1; fill:none\" points=\"\n",
       "  184.191,1135.43 2352.76,1135.43 \n",
       "  \"/>\n",
       "<polyline clip-path=\"url(#clip882)\" style=\"stroke:#000000; stroke-linecap:round; stroke-linejoin:round; stroke-width:2; stroke-opacity:0.1; fill:none\" points=\"\n",
       "  184.191,825.142 2352.76,825.142 \n",
       "  \"/>\n",
       "<polyline clip-path=\"url(#clip882)\" style=\"stroke:#000000; stroke-linecap:round; stroke-linejoin:round; stroke-width:2; stroke-opacity:0.1; fill:none\" points=\"\n",
       "  184.191,514.855 2352.76,514.855 \n",
       "  \"/>\n",
       "<polyline clip-path=\"url(#clip882)\" style=\"stroke:#000000; stroke-linecap:round; stroke-linejoin:round; stroke-width:2; stroke-opacity:0.1; fill:none\" points=\"\n",
       "  184.191,204.568 2352.76,204.568 \n",
       "  \"/>\n",
       "<polyline clip-path=\"url(#clip880)\" style=\"stroke:#000000; stroke-linecap:round; stroke-linejoin:round; stroke-width:4; stroke-opacity:1; fill:none\" points=\"\n",
       "  184.191,1486.45 184.191,47.2441 \n",
       "  \"/>\n",
       "<polyline clip-path=\"url(#clip880)\" style=\"stroke:#000000; stroke-linecap:round; stroke-linejoin:round; stroke-width:4; stroke-opacity:1; fill:none\" points=\"\n",
       "  184.191,1445.72 203.088,1445.72 \n",
       "  \"/>\n",
       "<polyline clip-path=\"url(#clip880)\" style=\"stroke:#000000; stroke-linecap:round; stroke-linejoin:round; stroke-width:4; stroke-opacity:1; fill:none\" points=\"\n",
       "  184.191,1135.43 203.088,1135.43 \n",
       "  \"/>\n",
       "<polyline clip-path=\"url(#clip880)\" style=\"stroke:#000000; stroke-linecap:round; stroke-linejoin:round; stroke-width:4; stroke-opacity:1; fill:none\" points=\"\n",
       "  184.191,825.142 203.088,825.142 \n",
       "  \"/>\n",
       "<polyline clip-path=\"url(#clip880)\" style=\"stroke:#000000; stroke-linecap:round; stroke-linejoin:round; stroke-width:4; stroke-opacity:1; fill:none\" points=\"\n",
       "  184.191,514.855 203.088,514.855 \n",
       "  \"/>\n",
       "<polyline clip-path=\"url(#clip880)\" style=\"stroke:#000000; stroke-linecap:round; stroke-linejoin:round; stroke-width:4; stroke-opacity:1; fill:none\" points=\"\n",
       "  184.191,204.568 203.088,204.568 \n",
       "  \"/>\n",
       "<path clip-path=\"url(#clip880)\" d=\"M91.0151 1431.51 Q87.404 1431.51 85.5753 1435.08 Q83.7697 1438.62 83.7697 1445.75 Q83.7697 1452.86 85.5753 1456.42 Q87.404 1459.96 91.0151 1459.96 Q94.6493 1459.96 96.4548 1456.42 Q98.2835 1452.86 98.2835 1445.75 Q98.2835 1438.62 96.4548 1435.08 Q94.6493 1431.51 91.0151 1431.51 M91.0151 1427.81 Q96.8252 1427.81 99.8808 1432.42 Q102.959 1437 102.959 1445.75 Q102.959 1454.48 99.8808 1459.08 Q96.8252 1463.67 91.0151 1463.67 Q85.2049 1463.67 82.1262 1459.08 Q79.0707 1454.48 79.0707 1445.75 Q79.0707 1437 82.1262 1432.42 Q85.2049 1427.81 91.0151 1427.81 Z\" fill=\"#000000\" fill-rule=\"evenodd\" fill-opacity=\"1\" /><path clip-path=\"url(#clip880)\" d=\"M111.177 1457.12 L116.061 1457.12 L116.061 1463 L111.177 1463 L111.177 1457.12 Z\" fill=\"#000000\" fill-rule=\"evenodd\" fill-opacity=\"1\" /><path clip-path=\"url(#clip880)\" d=\"M136.246 1431.51 Q132.635 1431.51 130.807 1435.08 Q129.001 1438.62 129.001 1445.75 Q129.001 1452.86 130.807 1456.42 Q132.635 1459.96 136.246 1459.96 Q139.881 1459.96 141.686 1456.42 Q143.515 1452.86 143.515 1445.75 Q143.515 1438.62 141.686 1435.08 Q139.881 1431.51 136.246 1431.51 M136.246 1427.81 Q142.056 1427.81 145.112 1432.42 Q148.191 1437 148.191 1445.75 Q148.191 1454.48 145.112 1459.08 Q142.056 1463.67 136.246 1463.67 Q130.436 1463.67 127.357 1459.08 Q124.302 1454.48 124.302 1445.75 Q124.302 1437 127.357 1432.42 Q130.436 1427.81 136.246 1427.81 Z\" fill=\"#000000\" fill-rule=\"evenodd\" fill-opacity=\"1\" /><path clip-path=\"url(#clip880)\" d=\"M86.0382 1148.77 L102.358 1148.77 L102.358 1152.71 L80.4133 1152.71 L80.4133 1148.77 Q83.0753 1146.02 87.6586 1141.39 Q92.2651 1136.74 93.4456 1135.39 Q95.691 1132.87 96.5706 1131.13 Q97.4734 1129.38 97.4734 1127.69 Q97.4734 1124.93 95.5289 1123.19 Q93.6076 1121.46 90.5058 1121.46 Q88.3067 1121.46 85.8531 1122.22 Q83.4225 1122.99 80.6447 1124.54 L80.6447 1119.82 Q83.4688 1118.68 85.9225 1118.1 Q88.3762 1117.52 90.4132 1117.52 Q95.7836 1117.52 98.978 1120.21 Q102.172 1122.89 102.172 1127.38 Q102.172 1129.51 101.362 1131.44 Q100.575 1133.33 98.4687 1135.93 Q97.89 1136.6 94.7882 1139.82 Q91.6864 1143.01 86.0382 1148.77 Z\" fill=\"#000000\" fill-rule=\"evenodd\" fill-opacity=\"1\" /><path clip-path=\"url(#clip880)\" d=\"M112.172 1146.83 L117.057 1146.83 L117.057 1152.71 L112.172 1152.71 L112.172 1146.83 Z\" fill=\"#000000\" fill-rule=\"evenodd\" fill-opacity=\"1\" /><path clip-path=\"url(#clip880)\" d=\"M127.288 1118.15 L145.644 1118.15 L145.644 1122.08 L131.57 1122.08 L131.57 1130.56 Q132.589 1130.21 133.607 1130.05 Q134.626 1129.86 135.644 1129.86 Q141.431 1129.86 144.811 1133.03 Q148.191 1136.2 148.191 1141.62 Q148.191 1147.2 144.718 1150.3 Q141.246 1153.38 134.927 1153.38 Q132.751 1153.38 130.482 1153.01 Q128.237 1152.64 125.83 1151.9 L125.83 1147.2 Q127.913 1148.33 130.135 1148.89 Q132.357 1149.44 134.834 1149.44 Q138.839 1149.44 141.177 1147.34 Q143.515 1145.23 143.515 1141.62 Q143.515 1138.01 141.177 1135.9 Q138.839 1133.8 134.834 1133.8 Q132.959 1133.8 131.084 1134.21 Q129.232 1134.63 127.288 1135.51 L127.288 1118.15 Z\" fill=\"#000000\" fill-rule=\"evenodd\" fill-opacity=\"1\" /><path clip-path=\"url(#clip880)\" d=\"M81.0614 807.862 L99.4178 807.862 L99.4178 811.797 L85.3438 811.797 L85.3438 820.269 Q86.3623 819.922 87.3808 819.76 Q88.3993 819.575 89.4178 819.575 Q95.2049 819.575 98.5845 822.746 Q101.964 825.917 101.964 831.334 Q101.964 836.912 98.4919 840.014 Q95.0197 843.093 88.7003 843.093 Q86.5243 843.093 84.2558 842.723 Q82.0105 842.352 79.6031 841.612 L79.6031 836.912 Q81.6864 838.047 83.9086 838.602 Q86.1308 839.158 88.6077 839.158 Q92.6123 839.158 94.9502 837.051 Q97.2882 834.945 97.2882 831.334 Q97.2882 827.723 94.9502 825.616 Q92.6123 823.51 88.6077 823.51 Q86.7327 823.51 84.8577 823.926 Q83.0058 824.343 81.0614 825.223 L81.0614 807.862 Z\" fill=\"#000000\" fill-rule=\"evenodd\" fill-opacity=\"1\" /><path clip-path=\"url(#clip880)\" d=\"M111.177 836.542 L116.061 836.542 L116.061 842.422 L111.177 842.422 L111.177 836.542 Z\" fill=\"#000000\" fill-rule=\"evenodd\" fill-opacity=\"1\" /><path clip-path=\"url(#clip880)\" d=\"M136.246 810.94 Q132.635 810.94 130.807 814.505 Q129.001 818.047 129.001 825.176 Q129.001 832.283 130.807 835.848 Q132.635 839.389 136.246 839.389 Q139.881 839.389 141.686 835.848 Q143.515 832.283 143.515 825.176 Q143.515 818.047 141.686 814.505 Q139.881 810.94 136.246 810.94 M136.246 807.237 Q142.056 807.237 145.112 811.843 Q148.191 816.426 148.191 825.176 Q148.191 833.903 145.112 838.51 Q142.056 843.093 136.246 843.093 Q130.436 843.093 127.357 838.51 Q124.302 833.903 124.302 825.176 Q124.302 816.426 127.357 811.843 Q130.436 807.237 136.246 807.237 Z\" fill=\"#000000\" fill-rule=\"evenodd\" fill-opacity=\"1\" /><path clip-path=\"url(#clip880)\" d=\"M80.8299 497.575 L103.052 497.575 L103.052 499.565 L90.5058 532.135 L85.6216 532.135 L97.4271 501.51 L80.8299 501.51 L80.8299 497.575 Z\" fill=\"#000000\" fill-rule=\"evenodd\" fill-opacity=\"1\" /><path clip-path=\"url(#clip880)\" d=\"M112.172 526.255 L117.057 526.255 L117.057 532.135 L112.172 532.135 L112.172 526.255 Z\" fill=\"#000000\" fill-rule=\"evenodd\" fill-opacity=\"1\" /><path clip-path=\"url(#clip880)\" d=\"M127.288 497.575 L145.644 497.575 L145.644 501.51 L131.57 501.51 L131.57 509.982 Q132.589 509.635 133.607 509.473 Q134.626 509.288 135.644 509.288 Q141.431 509.288 144.811 512.459 Q148.191 515.63 148.191 521.047 Q148.191 526.625 144.718 529.727 Q141.246 532.806 134.927 532.806 Q132.751 532.806 130.482 532.436 Q128.237 532.065 125.83 531.325 L125.83 526.625 Q127.913 527.76 130.135 528.315 Q132.357 528.871 134.834 528.871 Q138.839 528.871 141.177 526.764 Q143.515 524.658 143.515 521.047 Q143.515 517.436 141.177 515.329 Q138.839 513.223 134.834 513.223 Q132.959 513.223 131.084 513.639 Q129.232 514.056 127.288 514.936 L127.288 497.575 Z\" fill=\"#000000\" fill-rule=\"evenodd\" fill-opacity=\"1\" /><path clip-path=\"url(#clip880)\" d=\"M51.6634 217.913 L59.3023 217.913 L59.3023 191.547 L50.9921 193.214 L50.9921 188.954 L59.256 187.288 L63.9319 187.288 L63.9319 217.913 L71.5707 217.913 L71.5707 221.848 L51.6634 221.848 L51.6634 217.913 Z\" fill=\"#000000\" fill-rule=\"evenodd\" fill-opacity=\"1\" /><path clip-path=\"url(#clip880)\" d=\"M91.0151 190.366 Q87.404 190.366 85.5753 193.931 Q83.7697 197.473 83.7697 204.602 Q83.7697 211.709 85.5753 215.274 Q87.404 218.815 91.0151 218.815 Q94.6493 218.815 96.4548 215.274 Q98.2835 211.709 98.2835 204.602 Q98.2835 197.473 96.4548 193.931 Q94.6493 190.366 91.0151 190.366 M91.0151 186.663 Q96.8252 186.663 99.8808 191.269 Q102.959 195.852 102.959 204.602 Q102.959 213.329 99.8808 217.936 Q96.8252 222.519 91.0151 222.519 Q85.2049 222.519 82.1262 217.936 Q79.0707 213.329 79.0707 204.602 Q79.0707 195.852 82.1262 191.269 Q85.2049 186.663 91.0151 186.663 Z\" fill=\"#000000\" fill-rule=\"evenodd\" fill-opacity=\"1\" /><path clip-path=\"url(#clip880)\" d=\"M111.177 215.968 L116.061 215.968 L116.061 221.848 L111.177 221.848 L111.177 215.968 Z\" fill=\"#000000\" fill-rule=\"evenodd\" fill-opacity=\"1\" /><path clip-path=\"url(#clip880)\" d=\"M136.246 190.366 Q132.635 190.366 130.807 193.931 Q129.001 197.473 129.001 204.602 Q129.001 211.709 130.807 215.274 Q132.635 218.815 136.246 218.815 Q139.881 218.815 141.686 215.274 Q143.515 211.709 143.515 204.602 Q143.515 197.473 141.686 193.931 Q139.881 190.366 136.246 190.366 M136.246 186.663 Q142.056 186.663 145.112 191.269 Q148.191 195.852 148.191 204.602 Q148.191 213.329 145.112 217.936 Q142.056 222.519 136.246 222.519 Q130.436 222.519 127.357 217.936 Q124.302 213.329 124.302 204.602 Q124.302 195.852 127.357 191.269 Q130.436 186.663 136.246 186.663 Z\" fill=\"#000000\" fill-rule=\"evenodd\" fill-opacity=\"1\" /><polyline clip-path=\"url(#clip882)\" style=\"stroke:#009af9; stroke-linecap:round; stroke-linejoin:round; stroke-width:4; stroke-opacity:1; fill:none\" points=\"\n",
       "  530.798,1445.72 636.08,1210.11 596.625,556.656 516.771,87.9763 \n",
       "  \"/>\n",
       "<circle clip-path=\"url(#clip882)\" cx=\"530.798\" cy=\"1445.72\" r=\"14.4\" fill=\"#e26f46\" fill-rule=\"evenodd\" fill-opacity=\"1\" stroke=\"#000000\" stroke-opacity=\"1\" stroke-width=\"3.2\"/>\n",
       "<circle clip-path=\"url(#clip882)\" cx=\"636.08\" cy=\"1210.11\" r=\"14.4\" fill=\"#e26f46\" fill-rule=\"evenodd\" fill-opacity=\"1\" stroke=\"#000000\" stroke-opacity=\"1\" stroke-width=\"3.2\"/>\n",
       "<circle clip-path=\"url(#clip882)\" cx=\"596.625\" cy=\"556.656\" r=\"14.4\" fill=\"#e26f46\" fill-rule=\"evenodd\" fill-opacity=\"1\" stroke=\"#000000\" stroke-opacity=\"1\" stroke-width=\"3.2\"/>\n",
       "<circle clip-path=\"url(#clip882)\" cx=\"516.771\" cy=\"87.9763\" r=\"14.4\" fill=\"#e26f46\" fill-rule=\"evenodd\" fill-opacity=\"1\" stroke=\"#000000\" stroke-opacity=\"1\" stroke-width=\"3.2\"/>\n",
       "<circle clip-path=\"url(#clip882)\" cx=\"596.625\" cy=\"556.656\" r=\"14.4\" fill=\"#3da44d\" fill-rule=\"evenodd\" fill-opacity=\"1\" stroke=\"#000000\" stroke-opacity=\"1\" stroke-width=\"3.2\"/>\n",
       "<circle clip-path=\"url(#clip882)\" cx=\"2020.18\" cy=\"452.797\" r=\"14.4\" fill=\"#c271d2\" fill-rule=\"evenodd\" fill-opacity=\"1\" stroke=\"#000000\" stroke-opacity=\"1\" stroke-width=\"3.2\"/>\n",
       "</svg>\n"
      ]
     },
     "execution_count": 7,
     "metadata": {},
     "output_type": "execute_result"
    }
   ],
   "source": [
    "plot!([progress[1]],[progress[3]],seriestype=:scatter)\n",
    "plot!([position[1]],[position[3]],seriestype=:scatter)"
   ]
  },
  {
   "cell_type": "code",
   "execution_count": 11,
   "id": "afff0c28",
   "metadata": {},
   "outputs": [
    {
     "name": "stderr",
     "output_type": "stream",
     "text": [
      "┌ Info: MeshCat server started. You can open the visualizer by visiting the following URL in your browser:\n",
      "│ http://127.0.0.1:8701\n",
      "└ @ MeshCat /home/larissa/.julia/packages/MeshCat/Ax8pH/src/visualizer.jl:73\n"
     ]
    }
   ],
   "source": [
    "create_visualization();"
   ]
  },
  {
   "cell_type": "code",
   "execution_count": 12,
   "id": "548191f9",
   "metadata": {},
   "outputs": [],
   "source": [
    "visualize_waypoints(points, 0.15)"
   ]
  },
  {
   "cell_type": "code",
   "execution_count": 10,
   "id": "712acdbe",
   "metadata": {},
   "outputs": [],
   "source": [
    "close_visualization(); # closes the MeshCat visualization"
   ]
  }
 ],
 "metadata": {
  "kernelspec": {
   "display_name": "Julia 1.8.0",
   "language": "julia",
   "name": "julia-1.8"
  },
  "language_info": {
   "file_extension": ".jl",
   "mimetype": "application/julia",
   "name": "julia",
   "version": "1.8.0"
  }
 },
 "nbformat": 4,
 "nbformat_minor": 5
}
