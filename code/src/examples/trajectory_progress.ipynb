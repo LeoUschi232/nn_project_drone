{
 "cells": [
  {
   "cell_type": "code",
   "execution_count": 1,
   "id": "d399147e",
   "metadata": {},
   "outputs": [],
   "source": [
    "include(\"../Flyonic.jl\");\n",
    "using .Flyonic;\n",
    "\n",
    "using Plots;"
   ]
  },
  {
   "cell_type": "code",
   "execution_count": 2,
   "id": "119340d2",
   "metadata": {},
   "outputs": [
    {
     "data": {
      "text/plain": [
       "4-element Vector{Vector{Float64}}:\n",
       " [0.0, 0.0, 0.0]\n",
       " [3.2374764649933017, 0.0, 5.425300446098989]\n",
       " [6.978729717623274, 0.0, 7.282351361169248]\n",
       " [5.97845412110895, 0.0, 11.363706121181142]"
      ]
     },
     "execution_count": 2,
     "metadata": {},
     "output_type": "execute_result"
    }
   ],
   "source": [
    "points = generate_trajectory(4)"
   ]
  },
  {
   "cell_type": "code",
   "execution_count": 3,
   "id": "84dd8e1c",
   "metadata": {},
   "outputs": [],
   "source": [
    "x = zeros(size(points))\n",
    "y = zeros(size(points))\n",
    "\n",
    "for i in eachindex(points)\n",
    "    x[i] = points[i][1]\n",
    "    y[i] = points[i][3]\n",
    "end"
   ]
  },
  {
   "cell_type": "code",
   "execution_count": 4,
   "id": "394748e7",
   "metadata": {},
   "outputs": [
    {
     "data": {
      "image/svg+xml": [
       "<?xml version=\"1.0\" encoding=\"utf-8\"?>\n",
       "<svg xmlns=\"http://www.w3.org/2000/svg\" xmlns:xlink=\"http://www.w3.org/1999/xlink\" width=\"600\" height=\"400\" viewBox=\"0 0 2400 1600\">\n",
       "<defs>\n",
       "  <clipPath id=\"clip930\">\n",
       "    <rect x=\"0\" y=\"0\" width=\"2400\" height=\"1600\"/>\n",
       "  </clipPath>\n",
       "</defs>\n",
       "<path clip-path=\"url(#clip930)\" d=\"\n",
       "M0 1600 L2400 1600 L2400 0 L0 0  Z\n",
       "  \" fill=\"#ffffff\" fill-rule=\"evenodd\" fill-opacity=\"1\"/>\n",
       "<defs>\n",
       "  <clipPath id=\"clip931\">\n",
       "    <rect x=\"480\" y=\"0\" width=\"1681\" height=\"1600\"/>\n",
       "  </clipPath>\n",
       "</defs>\n",
       "<path clip-path=\"url(#clip930)\" d=\"\n",
       "M184.191 1486.45 L2352.76 1486.45 L2352.76 47.2441 L184.191 47.2441  Z\n",
       "  \" fill=\"#ffffff\" fill-rule=\"evenodd\" fill-opacity=\"1\"/>\n",
       "<defs>\n",
       "  <clipPath id=\"clip932\">\n",
       "    <rect x=\"184\" y=\"47\" width=\"2170\" height=\"1440\"/>\n",
       "  </clipPath>\n",
       "</defs>\n",
       "<polyline clip-path=\"url(#clip932)\" style=\"stroke:#000000; stroke-linecap:round; stroke-linejoin:round; stroke-width:2; stroke-opacity:0.1; fill:none\" points=\"\n",
       "  254.161,1486.45 254.161,47.2441 \n",
       "  \"/>\n",
       "<polyline clip-path=\"url(#clip932)\" style=\"stroke:#000000; stroke-linecap:round; stroke-linejoin:round; stroke-width:2; stroke-opacity:0.1; fill:none\" points=\"\n",
       "  851.563,1486.45 851.563,47.2441 \n",
       "  \"/>\n",
       "<polyline clip-path=\"url(#clip932)\" style=\"stroke:#000000; stroke-linecap:round; stroke-linejoin:round; stroke-width:2; stroke-opacity:0.1; fill:none\" points=\"\n",
       "  1448.96,1486.45 1448.96,47.2441 \n",
       "  \"/>\n",
       "<polyline clip-path=\"url(#clip932)\" style=\"stroke:#000000; stroke-linecap:round; stroke-linejoin:round; stroke-width:2; stroke-opacity:0.1; fill:none\" points=\"\n",
       "  2046.37,1486.45 2046.37,47.2441 \n",
       "  \"/>\n",
       "<polyline clip-path=\"url(#clip930)\" style=\"stroke:#000000; stroke-linecap:round; stroke-linejoin:round; stroke-width:4; stroke-opacity:1; fill:none\" points=\"\n",
       "  184.191,1486.45 2352.76,1486.45 \n",
       "  \"/>\n",
       "<polyline clip-path=\"url(#clip930)\" style=\"stroke:#000000; stroke-linecap:round; stroke-linejoin:round; stroke-width:4; stroke-opacity:1; fill:none\" points=\"\n",
       "  254.161,1486.45 254.161,1467.55 \n",
       "  \"/>\n",
       "<polyline clip-path=\"url(#clip930)\" style=\"stroke:#000000; stroke-linecap:round; stroke-linejoin:round; stroke-width:4; stroke-opacity:1; fill:none\" points=\"\n",
       "  851.563,1486.45 851.563,1467.55 \n",
       "  \"/>\n",
       "<polyline clip-path=\"url(#clip930)\" style=\"stroke:#000000; stroke-linecap:round; stroke-linejoin:round; stroke-width:4; stroke-opacity:1; fill:none\" points=\"\n",
       "  1448.96,1486.45 1448.96,1467.55 \n",
       "  \"/>\n",
       "<polyline clip-path=\"url(#clip930)\" style=\"stroke:#000000; stroke-linecap:round; stroke-linejoin:round; stroke-width:4; stroke-opacity:1; fill:none\" points=\"\n",
       "  2046.37,1486.45 2046.37,1467.55 \n",
       "  \"/>\n",
       "<path clip-path=\"url(#clip930)\" d=\"M223.803 1532.02 L253.478 1532.02 L253.478 1535.95 L223.803 1535.95 L223.803 1532.02 Z\" fill=\"#000000\" fill-rule=\"evenodd\" fill-opacity=\"1\" /><path clip-path=\"url(#clip930)\" d=\"M263.617 1514.29 L281.973 1514.29 L281.973 1518.22 L267.899 1518.22 L267.899 1526.7 Q268.918 1526.35 269.937 1526.19 Q270.955 1526 271.974 1526 Q277.761 1526 281.14 1529.17 Q284.52 1532.34 284.52 1537.76 Q284.52 1543.34 281.048 1546.44 Q277.575 1549.52 271.256 1549.52 Q269.08 1549.52 266.812 1549.15 Q264.566 1548.78 262.159 1548.04 L262.159 1543.34 Q264.242 1544.47 266.464 1545.03 Q268.687 1545.58 271.163 1545.58 Q275.168 1545.58 277.506 1543.48 Q279.844 1541.37 279.844 1537.76 Q279.844 1534.15 277.506 1532.04 Q275.168 1529.94 271.163 1529.94 Q269.288 1529.94 267.413 1530.35 Q265.562 1530.77 263.617 1531.65 L263.617 1514.29 Z\" fill=\"#000000\" fill-rule=\"evenodd\" fill-opacity=\"1\" /><path clip-path=\"url(#clip930)\" d=\"M851.563 1517.37 Q847.952 1517.37 846.123 1520.93 Q844.317 1524.47 844.317 1531.6 Q844.317 1538.71 846.123 1542.27 Q847.952 1545.82 851.563 1545.82 Q855.197 1545.82 857.003 1542.27 Q858.831 1538.71 858.831 1531.6 Q858.831 1524.47 857.003 1520.93 Q855.197 1517.37 851.563 1517.37 M851.563 1513.66 Q857.373 1513.66 860.429 1518.27 Q863.507 1522.85 863.507 1531.6 Q863.507 1540.33 860.429 1544.94 Q857.373 1549.52 851.563 1549.52 Q845.753 1549.52 842.674 1544.94 Q839.618 1540.33 839.618 1531.6 Q839.618 1522.85 842.674 1518.27 Q845.753 1513.66 851.563 1513.66 Z\" fill=\"#000000\" fill-rule=\"evenodd\" fill-opacity=\"1\" /><path clip-path=\"url(#clip930)\" d=\"M1439.24 1514.29 L1457.6 1514.29 L1457.6 1518.22 L1443.52 1518.22 L1443.52 1526.7 Q1444.54 1526.35 1445.56 1526.19 Q1446.58 1526 1447.6 1526 Q1453.39 1526 1456.77 1529.17 Q1460.14 1532.34 1460.14 1537.76 Q1460.14 1543.34 1456.67 1546.44 Q1453.2 1549.52 1446.88 1549.52 Q1444.71 1549.52 1442.44 1549.15 Q1440.19 1548.78 1437.78 1548.04 L1437.78 1543.34 Q1439.87 1544.47 1442.09 1545.03 Q1444.31 1545.58 1446.79 1545.58 Q1450.79 1545.58 1453.13 1543.48 Q1455.47 1541.37 1455.47 1537.76 Q1455.47 1534.15 1453.13 1532.04 Q1450.79 1529.94 1446.79 1529.94 Q1444.91 1529.94 1443.04 1530.35 Q1441.19 1530.77 1439.24 1531.65 L1439.24 1514.29 Z\" fill=\"#000000\" fill-rule=\"evenodd\" fill-opacity=\"1\" /><path clip-path=\"url(#clip930)\" d=\"M2021.05 1544.91 L2028.69 1544.91 L2028.69 1518.55 L2020.38 1520.21 L2020.38 1515.95 L2028.65 1514.29 L2033.32 1514.29 L2033.32 1544.91 L2040.96 1544.91 L2040.96 1548.85 L2021.05 1548.85 L2021.05 1544.91 Z\" fill=\"#000000\" fill-rule=\"evenodd\" fill-opacity=\"1\" /><path clip-path=\"url(#clip930)\" d=\"M2060.41 1517.37 Q2056.79 1517.37 2054.97 1520.93 Q2053.16 1524.47 2053.16 1531.6 Q2053.16 1538.71 2054.97 1542.27 Q2056.79 1545.82 2060.41 1545.82 Q2064.04 1545.82 2065.85 1542.27 Q2067.67 1538.71 2067.67 1531.6 Q2067.67 1524.47 2065.85 1520.93 Q2064.04 1517.37 2060.41 1517.37 M2060.41 1513.66 Q2066.22 1513.66 2069.27 1518.27 Q2072.35 1522.85 2072.35 1531.6 Q2072.35 1540.33 2069.27 1544.94 Q2066.22 1549.52 2060.41 1549.52 Q2054.6 1549.52 2051.52 1544.94 Q2048.46 1540.33 2048.46 1531.6 Q2048.46 1522.85 2051.52 1518.27 Q2054.6 1513.66 2060.41 1513.66 Z\" fill=\"#000000\" fill-rule=\"evenodd\" fill-opacity=\"1\" /><polyline clip-path=\"url(#clip932)\" style=\"stroke:#000000; stroke-linecap:round; stroke-linejoin:round; stroke-width:2; stroke-opacity:0.1; fill:none\" points=\"\n",
       "  184.191,1445.72 2352.76,1445.72 \n",
       "  \"/>\n",
       "<polyline clip-path=\"url(#clip932)\" style=\"stroke:#000000; stroke-linecap:round; stroke-linejoin:round; stroke-width:2; stroke-opacity:0.1; fill:none\" points=\"\n",
       "  184.191,1147.01 2352.76,1147.01 \n",
       "  \"/>\n",
       "<polyline clip-path=\"url(#clip932)\" style=\"stroke:#000000; stroke-linecap:round; stroke-linejoin:round; stroke-width:2; stroke-opacity:0.1; fill:none\" points=\"\n",
       "  184.191,848.314 2352.76,848.314 \n",
       "  \"/>\n",
       "<polyline clip-path=\"url(#clip932)\" style=\"stroke:#000000; stroke-linecap:round; stroke-linejoin:round; stroke-width:2; stroke-opacity:0.1; fill:none\" points=\"\n",
       "  184.191,549.613 2352.76,549.613 \n",
       "  \"/>\n",
       "<polyline clip-path=\"url(#clip932)\" style=\"stroke:#000000; stroke-linecap:round; stroke-linejoin:round; stroke-width:2; stroke-opacity:0.1; fill:none\" points=\"\n",
       "  184.191,250.912 2352.76,250.912 \n",
       "  \"/>\n",
       "<polyline clip-path=\"url(#clip930)\" style=\"stroke:#000000; stroke-linecap:round; stroke-linejoin:round; stroke-width:4; stroke-opacity:1; fill:none\" points=\"\n",
       "  184.191,1486.45 184.191,47.2441 \n",
       "  \"/>\n",
       "<polyline clip-path=\"url(#clip930)\" style=\"stroke:#000000; stroke-linecap:round; stroke-linejoin:round; stroke-width:4; stroke-opacity:1; fill:none\" points=\"\n",
       "  184.191,1445.72 203.088,1445.72 \n",
       "  \"/>\n",
       "<polyline clip-path=\"url(#clip930)\" style=\"stroke:#000000; stroke-linecap:round; stroke-linejoin:round; stroke-width:4; stroke-opacity:1; fill:none\" points=\"\n",
       "  184.191,1147.01 203.088,1147.01 \n",
       "  \"/>\n",
       "<polyline clip-path=\"url(#clip930)\" style=\"stroke:#000000; stroke-linecap:round; stroke-linejoin:round; stroke-width:4; stroke-opacity:1; fill:none\" points=\"\n",
       "  184.191,848.314 203.088,848.314 \n",
       "  \"/>\n",
       "<polyline clip-path=\"url(#clip930)\" style=\"stroke:#000000; stroke-linecap:round; stroke-linejoin:round; stroke-width:4; stroke-opacity:1; fill:none\" points=\"\n",
       "  184.191,549.613 203.088,549.613 \n",
       "  \"/>\n",
       "<polyline clip-path=\"url(#clip930)\" style=\"stroke:#000000; stroke-linecap:round; stroke-linejoin:round; stroke-width:4; stroke-opacity:1; fill:none\" points=\"\n",
       "  184.191,250.912 203.088,250.912 \n",
       "  \"/>\n",
       "<path clip-path=\"url(#clip930)\" d=\"M91.0151 1431.51 Q87.404 1431.51 85.5753 1435.08 Q83.7697 1438.62 83.7697 1445.75 Q83.7697 1452.86 85.5753 1456.42 Q87.404 1459.96 91.0151 1459.96 Q94.6493 1459.96 96.4548 1456.42 Q98.2835 1452.86 98.2835 1445.75 Q98.2835 1438.62 96.4548 1435.08 Q94.6493 1431.51 91.0151 1431.51 M91.0151 1427.81 Q96.8252 1427.81 99.8808 1432.42 Q102.959 1437 102.959 1445.75 Q102.959 1454.48 99.8808 1459.08 Q96.8252 1463.67 91.0151 1463.67 Q85.2049 1463.67 82.1262 1459.08 Q79.0707 1454.48 79.0707 1445.75 Q79.0707 1437 82.1262 1432.42 Q85.2049 1427.81 91.0151 1427.81 Z\" fill=\"#000000\" fill-rule=\"evenodd\" fill-opacity=\"1\" /><path clip-path=\"url(#clip930)\" d=\"M111.177 1457.12 L116.061 1457.12 L116.061 1463 L111.177 1463 L111.177 1457.12 Z\" fill=\"#000000\" fill-rule=\"evenodd\" fill-opacity=\"1\" /><path clip-path=\"url(#clip930)\" d=\"M136.246 1431.51 Q132.635 1431.51 130.807 1435.08 Q129.001 1438.62 129.001 1445.75 Q129.001 1452.86 130.807 1456.42 Q132.635 1459.96 136.246 1459.96 Q139.881 1459.96 141.686 1456.42 Q143.515 1452.86 143.515 1445.75 Q143.515 1438.62 141.686 1435.08 Q139.881 1431.51 136.246 1431.51 M136.246 1427.81 Q142.056 1427.81 145.112 1432.42 Q148.191 1437 148.191 1445.75 Q148.191 1454.48 145.112 1459.08 Q142.056 1463.67 136.246 1463.67 Q130.436 1463.67 127.357 1459.08 Q124.302 1454.48 124.302 1445.75 Q124.302 1437 127.357 1432.42 Q130.436 1427.81 136.246 1427.81 Z\" fill=\"#000000\" fill-rule=\"evenodd\" fill-opacity=\"1\" /><path clip-path=\"url(#clip930)\" d=\"M86.0382 1160.36 L102.358 1160.36 L102.358 1164.29 L80.4133 1164.29 L80.4133 1160.36 Q83.0753 1157.61 87.6586 1152.98 Q92.2651 1148.32 93.4456 1146.98 Q95.691 1144.46 96.5706 1142.72 Q97.4734 1140.96 97.4734 1139.27 Q97.4734 1136.52 95.5289 1134.78 Q93.6076 1133.05 90.5058 1133.05 Q88.3067 1133.05 85.8531 1133.81 Q83.4225 1134.57 80.6447 1136.12 L80.6447 1131.4 Q83.4688 1130.27 85.9225 1129.69 Q88.3762 1129.11 90.4132 1129.11 Q95.7836 1129.11 98.978 1131.8 Q102.172 1134.48 102.172 1138.97 Q102.172 1141.1 101.362 1143.02 Q100.575 1144.92 98.4687 1147.51 Q97.89 1148.18 94.7882 1151.4 Q91.6864 1154.6 86.0382 1160.36 Z\" fill=\"#000000\" fill-rule=\"evenodd\" fill-opacity=\"1\" /><path clip-path=\"url(#clip930)\" d=\"M112.172 1158.42 L117.057 1158.42 L117.057 1164.29 L112.172 1164.29 L112.172 1158.42 Z\" fill=\"#000000\" fill-rule=\"evenodd\" fill-opacity=\"1\" /><path clip-path=\"url(#clip930)\" d=\"M127.288 1129.73 L145.644 1129.73 L145.644 1133.67 L131.57 1133.67 L131.57 1142.14 Q132.589 1141.79 133.607 1141.63 Q134.626 1141.45 135.644 1141.45 Q141.431 1141.45 144.811 1144.62 Q148.191 1147.79 148.191 1153.21 Q148.191 1158.79 144.718 1161.89 Q141.246 1164.97 134.927 1164.97 Q132.751 1164.97 130.482 1164.6 Q128.237 1164.23 125.83 1163.48 L125.83 1158.79 Q127.913 1159.92 130.135 1160.48 Q132.357 1161.03 134.834 1161.03 Q138.839 1161.03 141.177 1158.92 Q143.515 1156.82 143.515 1153.21 Q143.515 1149.6 141.177 1147.49 Q138.839 1145.38 134.834 1145.38 Q132.959 1145.38 131.084 1145.8 Q129.232 1146.22 127.288 1147.1 L127.288 1129.73 Z\" fill=\"#000000\" fill-rule=\"evenodd\" fill-opacity=\"1\" /><path clip-path=\"url(#clip930)\" d=\"M81.0614 831.034 L99.4178 831.034 L99.4178 834.969 L85.3438 834.969 L85.3438 843.441 Q86.3623 843.094 87.3808 842.932 Q88.3993 842.747 89.4178 842.747 Q95.2049 842.747 98.5845 845.918 Q101.964 849.089 101.964 854.506 Q101.964 860.085 98.4919 863.187 Q95.0197 866.265 88.7003 866.265 Q86.5243 866.265 84.2558 865.895 Q82.0105 865.525 79.6031 864.784 L79.6031 860.085 Q81.6864 861.219 83.9086 861.775 Q86.1308 862.33 88.6077 862.33 Q92.6123 862.33 94.9502 860.224 Q97.2882 858.117 97.2882 854.506 Q97.2882 850.895 94.9502 848.789 Q92.6123 846.682 88.6077 846.682 Q86.7327 846.682 84.8577 847.099 Q83.0058 847.515 81.0614 848.395 L81.0614 831.034 Z\" fill=\"#000000\" fill-rule=\"evenodd\" fill-opacity=\"1\" /><path clip-path=\"url(#clip930)\" d=\"M111.177 859.714 L116.061 859.714 L116.061 865.594 L111.177 865.594 L111.177 859.714 Z\" fill=\"#000000\" fill-rule=\"evenodd\" fill-opacity=\"1\" /><path clip-path=\"url(#clip930)\" d=\"M136.246 834.113 Q132.635 834.113 130.807 837.677 Q129.001 841.219 129.001 848.349 Q129.001 855.455 130.807 859.02 Q132.635 862.562 136.246 862.562 Q139.881 862.562 141.686 859.02 Q143.515 855.455 143.515 848.349 Q143.515 841.219 141.686 837.677 Q139.881 834.113 136.246 834.113 M136.246 830.409 Q142.056 830.409 145.112 835.015 Q148.191 839.599 148.191 848.349 Q148.191 857.076 145.112 861.682 Q142.056 866.265 136.246 866.265 Q130.436 866.265 127.357 861.682 Q124.302 857.076 124.302 848.349 Q124.302 839.599 127.357 835.015 Q130.436 830.409 136.246 830.409 Z\" fill=\"#000000\" fill-rule=\"evenodd\" fill-opacity=\"1\" /><path clip-path=\"url(#clip930)\" d=\"M80.8299 532.333 L103.052 532.333 L103.052 534.324 L90.5058 566.893 L85.6216 566.893 L97.4271 536.268 L80.8299 536.268 L80.8299 532.333 Z\" fill=\"#000000\" fill-rule=\"evenodd\" fill-opacity=\"1\" /><path clip-path=\"url(#clip930)\" d=\"M112.172 561.014 L117.057 561.014 L117.057 566.893 L112.172 566.893 L112.172 561.014 Z\" fill=\"#000000\" fill-rule=\"evenodd\" fill-opacity=\"1\" /><path clip-path=\"url(#clip930)\" d=\"M127.288 532.333 L145.644 532.333 L145.644 536.268 L131.57 536.268 L131.57 544.741 Q132.589 544.393 133.607 544.231 Q134.626 544.046 135.644 544.046 Q141.431 544.046 144.811 547.217 Q148.191 550.389 148.191 555.805 Q148.191 561.384 144.718 564.486 Q141.246 567.564 134.927 567.564 Q132.751 567.564 130.482 567.194 Q128.237 566.824 125.83 566.083 L125.83 561.384 Q127.913 562.518 130.135 563.074 Q132.357 563.629 134.834 563.629 Q138.839 563.629 141.177 561.523 Q143.515 559.416 143.515 555.805 Q143.515 552.194 141.177 550.088 Q138.839 547.981 134.834 547.981 Q132.959 547.981 131.084 548.398 Q129.232 548.815 127.288 549.694 L127.288 532.333 Z\" fill=\"#000000\" fill-rule=\"evenodd\" fill-opacity=\"1\" /><path clip-path=\"url(#clip930)\" d=\"M51.6634 264.257 L59.3023 264.257 L59.3023 237.892 L50.9921 239.558 L50.9921 235.299 L59.256 233.632 L63.9319 233.632 L63.9319 264.257 L71.5707 264.257 L71.5707 268.192 L51.6634 268.192 L51.6634 264.257 Z\" fill=\"#000000\" fill-rule=\"evenodd\" fill-opacity=\"1\" /><path clip-path=\"url(#clip930)\" d=\"M91.0151 236.711 Q87.404 236.711 85.5753 240.276 Q83.7697 243.817 83.7697 250.947 Q83.7697 258.054 85.5753 261.618 Q87.404 265.16 91.0151 265.16 Q94.6493 265.16 96.4548 261.618 Q98.2835 258.054 98.2835 250.947 Q98.2835 243.817 96.4548 240.276 Q94.6493 236.711 91.0151 236.711 M91.0151 233.007 Q96.8252 233.007 99.8808 237.614 Q102.959 242.197 102.959 250.947 Q102.959 259.674 99.8808 264.28 Q96.8252 268.864 91.0151 268.864 Q85.2049 268.864 82.1262 264.28 Q79.0707 259.674 79.0707 250.947 Q79.0707 242.197 82.1262 237.614 Q85.2049 233.007 91.0151 233.007 Z\" fill=\"#000000\" fill-rule=\"evenodd\" fill-opacity=\"1\" /><path clip-path=\"url(#clip930)\" d=\"M111.177 262.313 L116.061 262.313 L116.061 268.192 L111.177 268.192 L111.177 262.313 Z\" fill=\"#000000\" fill-rule=\"evenodd\" fill-opacity=\"1\" /><path clip-path=\"url(#clip930)\" d=\"M136.246 236.711 Q132.635 236.711 130.807 240.276 Q129.001 243.817 129.001 250.947 Q129.001 258.054 130.807 261.618 Q132.635 265.16 136.246 265.16 Q139.881 265.16 141.686 261.618 Q143.515 258.054 143.515 250.947 Q143.515 243.817 141.686 240.276 Q139.881 236.711 136.246 236.711 M136.246 233.007 Q142.056 233.007 145.112 237.614 Q148.191 242.197 148.191 250.947 Q148.191 259.674 145.112 264.28 Q142.056 268.864 136.246 268.864 Q130.436 268.864 127.357 264.28 Q124.302 259.674 124.302 250.947 Q124.302 242.197 127.357 237.614 Q130.436 233.007 136.246 233.007 Z\" fill=\"#000000\" fill-rule=\"evenodd\" fill-opacity=\"1\" /><polyline clip-path=\"url(#clip932)\" style=\"stroke:#009af9; stroke-linecap:round; stroke-linejoin:round; stroke-width:4; stroke-opacity:1; fill:none\" points=\"\n",
       "  851.563,1445.72 1238.38,797.499 1685.38,575.618 1565.87,87.9763 \n",
       "  \"/>\n",
       "<circle clip-path=\"url(#clip932)\" cx=\"851.563\" cy=\"1445.72\" r=\"14.4\" fill=\"#e26f46\" fill-rule=\"evenodd\" fill-opacity=\"1\" stroke=\"#000000\" stroke-opacity=\"1\" stroke-width=\"3.2\"/>\n",
       "<circle clip-path=\"url(#clip932)\" cx=\"1238.38\" cy=\"797.499\" r=\"14.4\" fill=\"#e26f46\" fill-rule=\"evenodd\" fill-opacity=\"1\" stroke=\"#000000\" stroke-opacity=\"1\" stroke-width=\"3.2\"/>\n",
       "<circle clip-path=\"url(#clip932)\" cx=\"1685.38\" cy=\"575.618\" r=\"14.4\" fill=\"#e26f46\" fill-rule=\"evenodd\" fill-opacity=\"1\" stroke=\"#000000\" stroke-opacity=\"1\" stroke-width=\"3.2\"/>\n",
       "<circle clip-path=\"url(#clip932)\" cx=\"1565.87\" cy=\"87.9763\" r=\"14.4\" fill=\"#e26f46\" fill-rule=\"evenodd\" fill-opacity=\"1\" stroke=\"#000000\" stroke-opacity=\"1\" stroke-width=\"3.2\"/>\n",
       "</svg>\n"
      ]
     },
     "execution_count": 4,
     "metadata": {},
     "output_type": "execute_result"
    }
   ],
   "source": [
    "plot(x,y,aspect_ratio = 1,legend = false)\n",
    "plot!(x,y,seriestype=:scatter)"
   ]
  },
  {
   "cell_type": "code",
   "execution_count": 5,
   "id": "9964a118",
   "metadata": {},
   "outputs": [
    {
     "data": {
      "text/plain": [
       "3-element Vector{Float64}:\n",
       " 0.0\n",
       " 0.0\n",
       " 5.0"
      ]
     },
     "execution_count": 5,
     "metadata": {},
     "output_type": "execute_result"
    }
   ],
   "source": [
    "position = [0.0, 0.0, 5.0]"
   ]
  },
  {
   "cell_type": "code",
   "execution_count": 6,
   "id": "c5076275",
   "metadata": {},
   "outputs": [
    {
     "data": {
      "text/plain": [
       "(1, [2.200203111076167, 0.0, 3.687057820837196])"
      ]
     },
     "execution_count": 6,
     "metadata": {},
     "output_type": "execute_result"
    }
   ],
   "source": [
    "line_segment, progress = calculate_progress(points,position)"
   ]
  },
  {
   "cell_type": "code",
   "execution_count": 7,
   "id": "0f78aace",
   "metadata": {},
   "outputs": [
    {
     "data": {
      "image/svg+xml": [
       "<?xml version=\"1.0\" encoding=\"utf-8\"?>\n",
       "<svg xmlns=\"http://www.w3.org/2000/svg\" xmlns:xlink=\"http://www.w3.org/1999/xlink\" width=\"600\" height=\"400\" viewBox=\"0 0 2400 1600\">\n",
       "<defs>\n",
       "  <clipPath id=\"clip970\">\n",
       "    <rect x=\"0\" y=\"0\" width=\"2400\" height=\"1600\"/>\n",
       "  </clipPath>\n",
       "</defs>\n",
       "<path clip-path=\"url(#clip970)\" d=\"\n",
       "M0 1600 L2400 1600 L2400 0 L0 0  Z\n",
       "  \" fill=\"#ffffff\" fill-rule=\"evenodd\" fill-opacity=\"1\"/>\n",
       "<defs>\n",
       "  <clipPath id=\"clip971\">\n",
       "    <rect x=\"480\" y=\"0\" width=\"1681\" height=\"1600\"/>\n",
       "  </clipPath>\n",
       "</defs>\n",
       "<path clip-path=\"url(#clip970)\" d=\"\n",
       "M184.191 1486.45 L2352.76 1486.45 L2352.76 47.2441 L184.191 47.2441  Z\n",
       "  \" fill=\"#ffffff\" fill-rule=\"evenodd\" fill-opacity=\"1\"/>\n",
       "<defs>\n",
       "  <clipPath id=\"clip972\">\n",
       "    <rect x=\"184\" y=\"47\" width=\"2170\" height=\"1440\"/>\n",
       "  </clipPath>\n",
       "</defs>\n",
       "<polyline clip-path=\"url(#clip972)\" style=\"stroke:#000000; stroke-linecap:round; stroke-linejoin:round; stroke-width:2; stroke-opacity:0.1; fill:none\" points=\"\n",
       "  254.161,1486.45 254.161,47.2441 \n",
       "  \"/>\n",
       "<polyline clip-path=\"url(#clip972)\" style=\"stroke:#000000; stroke-linecap:round; stroke-linejoin:round; stroke-width:2; stroke-opacity:0.1; fill:none\" points=\"\n",
       "  851.563,1486.45 851.563,47.2441 \n",
       "  \"/>\n",
       "<polyline clip-path=\"url(#clip972)\" style=\"stroke:#000000; stroke-linecap:round; stroke-linejoin:round; stroke-width:2; stroke-opacity:0.1; fill:none\" points=\"\n",
       "  1448.96,1486.45 1448.96,47.2441 \n",
       "  \"/>\n",
       "<polyline clip-path=\"url(#clip972)\" style=\"stroke:#000000; stroke-linecap:round; stroke-linejoin:round; stroke-width:2; stroke-opacity:0.1; fill:none\" points=\"\n",
       "  2046.37,1486.45 2046.37,47.2441 \n",
       "  \"/>\n",
       "<polyline clip-path=\"url(#clip970)\" style=\"stroke:#000000; stroke-linecap:round; stroke-linejoin:round; stroke-width:4; stroke-opacity:1; fill:none\" points=\"\n",
       "  184.191,1486.45 2352.76,1486.45 \n",
       "  \"/>\n",
       "<polyline clip-path=\"url(#clip970)\" style=\"stroke:#000000; stroke-linecap:round; stroke-linejoin:round; stroke-width:4; stroke-opacity:1; fill:none\" points=\"\n",
       "  254.161,1486.45 254.161,1467.55 \n",
       "  \"/>\n",
       "<polyline clip-path=\"url(#clip970)\" style=\"stroke:#000000; stroke-linecap:round; stroke-linejoin:round; stroke-width:4; stroke-opacity:1; fill:none\" points=\"\n",
       "  851.563,1486.45 851.563,1467.55 \n",
       "  \"/>\n",
       "<polyline clip-path=\"url(#clip970)\" style=\"stroke:#000000; stroke-linecap:round; stroke-linejoin:round; stroke-width:4; stroke-opacity:1; fill:none\" points=\"\n",
       "  1448.96,1486.45 1448.96,1467.55 \n",
       "  \"/>\n",
       "<polyline clip-path=\"url(#clip970)\" style=\"stroke:#000000; stroke-linecap:round; stroke-linejoin:round; stroke-width:4; stroke-opacity:1; fill:none\" points=\"\n",
       "  2046.37,1486.45 2046.37,1467.55 \n",
       "  \"/>\n",
       "<path clip-path=\"url(#clip970)\" d=\"M223.803 1532.02 L253.478 1532.02 L253.478 1535.95 L223.803 1535.95 L223.803 1532.02 Z\" fill=\"#000000\" fill-rule=\"evenodd\" fill-opacity=\"1\" /><path clip-path=\"url(#clip970)\" d=\"M263.617 1514.29 L281.973 1514.29 L281.973 1518.22 L267.899 1518.22 L267.899 1526.7 Q268.918 1526.35 269.937 1526.19 Q270.955 1526 271.974 1526 Q277.761 1526 281.14 1529.17 Q284.52 1532.34 284.52 1537.76 Q284.52 1543.34 281.048 1546.44 Q277.575 1549.52 271.256 1549.52 Q269.08 1549.52 266.812 1549.15 Q264.566 1548.78 262.159 1548.04 L262.159 1543.34 Q264.242 1544.47 266.464 1545.03 Q268.687 1545.58 271.163 1545.58 Q275.168 1545.58 277.506 1543.48 Q279.844 1541.37 279.844 1537.76 Q279.844 1534.15 277.506 1532.04 Q275.168 1529.94 271.163 1529.94 Q269.288 1529.94 267.413 1530.35 Q265.562 1530.77 263.617 1531.65 L263.617 1514.29 Z\" fill=\"#000000\" fill-rule=\"evenodd\" fill-opacity=\"1\" /><path clip-path=\"url(#clip970)\" d=\"M851.563 1517.37 Q847.952 1517.37 846.123 1520.93 Q844.317 1524.47 844.317 1531.6 Q844.317 1538.71 846.123 1542.27 Q847.952 1545.82 851.563 1545.82 Q855.197 1545.82 857.003 1542.27 Q858.831 1538.71 858.831 1531.6 Q858.831 1524.47 857.003 1520.93 Q855.197 1517.37 851.563 1517.37 M851.563 1513.66 Q857.373 1513.66 860.429 1518.27 Q863.507 1522.85 863.507 1531.6 Q863.507 1540.33 860.429 1544.94 Q857.373 1549.52 851.563 1549.52 Q845.753 1549.52 842.674 1544.94 Q839.618 1540.33 839.618 1531.6 Q839.618 1522.85 842.674 1518.27 Q845.753 1513.66 851.563 1513.66 Z\" fill=\"#000000\" fill-rule=\"evenodd\" fill-opacity=\"1\" /><path clip-path=\"url(#clip970)\" d=\"M1439.24 1514.29 L1457.6 1514.29 L1457.6 1518.22 L1443.52 1518.22 L1443.52 1526.7 Q1444.54 1526.35 1445.56 1526.19 Q1446.58 1526 1447.6 1526 Q1453.39 1526 1456.77 1529.17 Q1460.14 1532.34 1460.14 1537.76 Q1460.14 1543.34 1456.67 1546.44 Q1453.2 1549.52 1446.88 1549.52 Q1444.71 1549.52 1442.44 1549.15 Q1440.19 1548.78 1437.78 1548.04 L1437.78 1543.34 Q1439.87 1544.47 1442.09 1545.03 Q1444.31 1545.58 1446.79 1545.58 Q1450.79 1545.58 1453.13 1543.48 Q1455.47 1541.37 1455.47 1537.76 Q1455.47 1534.15 1453.13 1532.04 Q1450.79 1529.94 1446.79 1529.94 Q1444.91 1529.94 1443.04 1530.35 Q1441.19 1530.77 1439.24 1531.65 L1439.24 1514.29 Z\" fill=\"#000000\" fill-rule=\"evenodd\" fill-opacity=\"1\" /><path clip-path=\"url(#clip970)\" d=\"M2021.05 1544.91 L2028.69 1544.91 L2028.69 1518.55 L2020.38 1520.21 L2020.38 1515.95 L2028.65 1514.29 L2033.32 1514.29 L2033.32 1544.91 L2040.96 1544.91 L2040.96 1548.85 L2021.05 1548.85 L2021.05 1544.91 Z\" fill=\"#000000\" fill-rule=\"evenodd\" fill-opacity=\"1\" /><path clip-path=\"url(#clip970)\" d=\"M2060.41 1517.37 Q2056.79 1517.37 2054.97 1520.93 Q2053.16 1524.47 2053.16 1531.6 Q2053.16 1538.71 2054.97 1542.27 Q2056.79 1545.82 2060.41 1545.82 Q2064.04 1545.82 2065.85 1542.27 Q2067.67 1538.71 2067.67 1531.6 Q2067.67 1524.47 2065.85 1520.93 Q2064.04 1517.37 2060.41 1517.37 M2060.41 1513.66 Q2066.22 1513.66 2069.27 1518.27 Q2072.35 1522.85 2072.35 1531.6 Q2072.35 1540.33 2069.27 1544.94 Q2066.22 1549.52 2060.41 1549.52 Q2054.6 1549.52 2051.52 1544.94 Q2048.46 1540.33 2048.46 1531.6 Q2048.46 1522.85 2051.52 1518.27 Q2054.6 1513.66 2060.41 1513.66 Z\" fill=\"#000000\" fill-rule=\"evenodd\" fill-opacity=\"1\" /><polyline clip-path=\"url(#clip972)\" style=\"stroke:#000000; stroke-linecap:round; stroke-linejoin:round; stroke-width:2; stroke-opacity:0.1; fill:none\" points=\"\n",
       "  184.191,1445.72 2352.76,1445.72 \n",
       "  \"/>\n",
       "<polyline clip-path=\"url(#clip972)\" style=\"stroke:#000000; stroke-linecap:round; stroke-linejoin:round; stroke-width:2; stroke-opacity:0.1; fill:none\" points=\"\n",
       "  184.191,1147.01 2352.76,1147.01 \n",
       "  \"/>\n",
       "<polyline clip-path=\"url(#clip972)\" style=\"stroke:#000000; stroke-linecap:round; stroke-linejoin:round; stroke-width:2; stroke-opacity:0.1; fill:none\" points=\"\n",
       "  184.191,848.314 2352.76,848.314 \n",
       "  \"/>\n",
       "<polyline clip-path=\"url(#clip972)\" style=\"stroke:#000000; stroke-linecap:round; stroke-linejoin:round; stroke-width:2; stroke-opacity:0.1; fill:none\" points=\"\n",
       "  184.191,549.613 2352.76,549.613 \n",
       "  \"/>\n",
       "<polyline clip-path=\"url(#clip972)\" style=\"stroke:#000000; stroke-linecap:round; stroke-linejoin:round; stroke-width:2; stroke-opacity:0.1; fill:none\" points=\"\n",
       "  184.191,250.912 2352.76,250.912 \n",
       "  \"/>\n",
       "<polyline clip-path=\"url(#clip970)\" style=\"stroke:#000000; stroke-linecap:round; stroke-linejoin:round; stroke-width:4; stroke-opacity:1; fill:none\" points=\"\n",
       "  184.191,1486.45 184.191,47.2441 \n",
       "  \"/>\n",
       "<polyline clip-path=\"url(#clip970)\" style=\"stroke:#000000; stroke-linecap:round; stroke-linejoin:round; stroke-width:4; stroke-opacity:1; fill:none\" points=\"\n",
       "  184.191,1445.72 203.088,1445.72 \n",
       "  \"/>\n",
       "<polyline clip-path=\"url(#clip970)\" style=\"stroke:#000000; stroke-linecap:round; stroke-linejoin:round; stroke-width:4; stroke-opacity:1; fill:none\" points=\"\n",
       "  184.191,1147.01 203.088,1147.01 \n",
       "  \"/>\n",
       "<polyline clip-path=\"url(#clip970)\" style=\"stroke:#000000; stroke-linecap:round; stroke-linejoin:round; stroke-width:4; stroke-opacity:1; fill:none\" points=\"\n",
       "  184.191,848.314 203.088,848.314 \n",
       "  \"/>\n",
       "<polyline clip-path=\"url(#clip970)\" style=\"stroke:#000000; stroke-linecap:round; stroke-linejoin:round; stroke-width:4; stroke-opacity:1; fill:none\" points=\"\n",
       "  184.191,549.613 203.088,549.613 \n",
       "  \"/>\n",
       "<polyline clip-path=\"url(#clip970)\" style=\"stroke:#000000; stroke-linecap:round; stroke-linejoin:round; stroke-width:4; stroke-opacity:1; fill:none\" points=\"\n",
       "  184.191,250.912 203.088,250.912 \n",
       "  \"/>\n",
       "<path clip-path=\"url(#clip970)\" d=\"M91.0151 1431.51 Q87.404 1431.51 85.5753 1435.08 Q83.7697 1438.62 83.7697 1445.75 Q83.7697 1452.86 85.5753 1456.42 Q87.404 1459.96 91.0151 1459.96 Q94.6493 1459.96 96.4548 1456.42 Q98.2835 1452.86 98.2835 1445.75 Q98.2835 1438.62 96.4548 1435.08 Q94.6493 1431.51 91.0151 1431.51 M91.0151 1427.81 Q96.8252 1427.81 99.8808 1432.42 Q102.959 1437 102.959 1445.75 Q102.959 1454.48 99.8808 1459.08 Q96.8252 1463.67 91.0151 1463.67 Q85.2049 1463.67 82.1262 1459.08 Q79.0707 1454.48 79.0707 1445.75 Q79.0707 1437 82.1262 1432.42 Q85.2049 1427.81 91.0151 1427.81 Z\" fill=\"#000000\" fill-rule=\"evenodd\" fill-opacity=\"1\" /><path clip-path=\"url(#clip970)\" d=\"M111.177 1457.12 L116.061 1457.12 L116.061 1463 L111.177 1463 L111.177 1457.12 Z\" fill=\"#000000\" fill-rule=\"evenodd\" fill-opacity=\"1\" /><path clip-path=\"url(#clip970)\" d=\"M136.246 1431.51 Q132.635 1431.51 130.807 1435.08 Q129.001 1438.62 129.001 1445.75 Q129.001 1452.86 130.807 1456.42 Q132.635 1459.96 136.246 1459.96 Q139.881 1459.96 141.686 1456.42 Q143.515 1452.86 143.515 1445.75 Q143.515 1438.62 141.686 1435.08 Q139.881 1431.51 136.246 1431.51 M136.246 1427.81 Q142.056 1427.81 145.112 1432.42 Q148.191 1437 148.191 1445.75 Q148.191 1454.48 145.112 1459.08 Q142.056 1463.67 136.246 1463.67 Q130.436 1463.67 127.357 1459.08 Q124.302 1454.48 124.302 1445.75 Q124.302 1437 127.357 1432.42 Q130.436 1427.81 136.246 1427.81 Z\" fill=\"#000000\" fill-rule=\"evenodd\" fill-opacity=\"1\" /><path clip-path=\"url(#clip970)\" d=\"M86.0382 1160.36 L102.358 1160.36 L102.358 1164.29 L80.4133 1164.29 L80.4133 1160.36 Q83.0753 1157.61 87.6586 1152.98 Q92.2651 1148.32 93.4456 1146.98 Q95.691 1144.46 96.5706 1142.72 Q97.4734 1140.96 97.4734 1139.27 Q97.4734 1136.52 95.5289 1134.78 Q93.6076 1133.05 90.5058 1133.05 Q88.3067 1133.05 85.8531 1133.81 Q83.4225 1134.57 80.6447 1136.12 L80.6447 1131.4 Q83.4688 1130.27 85.9225 1129.69 Q88.3762 1129.11 90.4132 1129.11 Q95.7836 1129.11 98.978 1131.8 Q102.172 1134.48 102.172 1138.97 Q102.172 1141.1 101.362 1143.02 Q100.575 1144.92 98.4687 1147.51 Q97.89 1148.18 94.7882 1151.4 Q91.6864 1154.6 86.0382 1160.36 Z\" fill=\"#000000\" fill-rule=\"evenodd\" fill-opacity=\"1\" /><path clip-path=\"url(#clip970)\" d=\"M112.172 1158.42 L117.057 1158.42 L117.057 1164.29 L112.172 1164.29 L112.172 1158.42 Z\" fill=\"#000000\" fill-rule=\"evenodd\" fill-opacity=\"1\" /><path clip-path=\"url(#clip970)\" d=\"M127.288 1129.73 L145.644 1129.73 L145.644 1133.67 L131.57 1133.67 L131.57 1142.14 Q132.589 1141.79 133.607 1141.63 Q134.626 1141.45 135.644 1141.45 Q141.431 1141.45 144.811 1144.62 Q148.191 1147.79 148.191 1153.21 Q148.191 1158.79 144.718 1161.89 Q141.246 1164.97 134.927 1164.97 Q132.751 1164.97 130.482 1164.6 Q128.237 1164.23 125.83 1163.48 L125.83 1158.79 Q127.913 1159.92 130.135 1160.48 Q132.357 1161.03 134.834 1161.03 Q138.839 1161.03 141.177 1158.92 Q143.515 1156.82 143.515 1153.21 Q143.515 1149.6 141.177 1147.49 Q138.839 1145.38 134.834 1145.38 Q132.959 1145.38 131.084 1145.8 Q129.232 1146.22 127.288 1147.1 L127.288 1129.73 Z\" fill=\"#000000\" fill-rule=\"evenodd\" fill-opacity=\"1\" /><path clip-path=\"url(#clip970)\" d=\"M81.0614 831.034 L99.4178 831.034 L99.4178 834.969 L85.3438 834.969 L85.3438 843.441 Q86.3623 843.094 87.3808 842.932 Q88.3993 842.747 89.4178 842.747 Q95.2049 842.747 98.5845 845.918 Q101.964 849.089 101.964 854.506 Q101.964 860.085 98.4919 863.187 Q95.0197 866.265 88.7003 866.265 Q86.5243 866.265 84.2558 865.895 Q82.0105 865.525 79.6031 864.784 L79.6031 860.085 Q81.6864 861.219 83.9086 861.775 Q86.1308 862.33 88.6077 862.33 Q92.6123 862.33 94.9502 860.224 Q97.2882 858.117 97.2882 854.506 Q97.2882 850.895 94.9502 848.789 Q92.6123 846.682 88.6077 846.682 Q86.7327 846.682 84.8577 847.099 Q83.0058 847.515 81.0614 848.395 L81.0614 831.034 Z\" fill=\"#000000\" fill-rule=\"evenodd\" fill-opacity=\"1\" /><path clip-path=\"url(#clip970)\" d=\"M111.177 859.714 L116.061 859.714 L116.061 865.594 L111.177 865.594 L111.177 859.714 Z\" fill=\"#000000\" fill-rule=\"evenodd\" fill-opacity=\"1\" /><path clip-path=\"url(#clip970)\" d=\"M136.246 834.113 Q132.635 834.113 130.807 837.677 Q129.001 841.219 129.001 848.349 Q129.001 855.455 130.807 859.02 Q132.635 862.562 136.246 862.562 Q139.881 862.562 141.686 859.02 Q143.515 855.455 143.515 848.349 Q143.515 841.219 141.686 837.677 Q139.881 834.113 136.246 834.113 M136.246 830.409 Q142.056 830.409 145.112 835.015 Q148.191 839.599 148.191 848.349 Q148.191 857.076 145.112 861.682 Q142.056 866.265 136.246 866.265 Q130.436 866.265 127.357 861.682 Q124.302 857.076 124.302 848.349 Q124.302 839.599 127.357 835.015 Q130.436 830.409 136.246 830.409 Z\" fill=\"#000000\" fill-rule=\"evenodd\" fill-opacity=\"1\" /><path clip-path=\"url(#clip970)\" d=\"M80.8299 532.333 L103.052 532.333 L103.052 534.324 L90.5058 566.893 L85.6216 566.893 L97.4271 536.268 L80.8299 536.268 L80.8299 532.333 Z\" fill=\"#000000\" fill-rule=\"evenodd\" fill-opacity=\"1\" /><path clip-path=\"url(#clip970)\" d=\"M112.172 561.014 L117.057 561.014 L117.057 566.893 L112.172 566.893 L112.172 561.014 Z\" fill=\"#000000\" fill-rule=\"evenodd\" fill-opacity=\"1\" /><path clip-path=\"url(#clip970)\" d=\"M127.288 532.333 L145.644 532.333 L145.644 536.268 L131.57 536.268 L131.57 544.741 Q132.589 544.393 133.607 544.231 Q134.626 544.046 135.644 544.046 Q141.431 544.046 144.811 547.217 Q148.191 550.389 148.191 555.805 Q148.191 561.384 144.718 564.486 Q141.246 567.564 134.927 567.564 Q132.751 567.564 130.482 567.194 Q128.237 566.824 125.83 566.083 L125.83 561.384 Q127.913 562.518 130.135 563.074 Q132.357 563.629 134.834 563.629 Q138.839 563.629 141.177 561.523 Q143.515 559.416 143.515 555.805 Q143.515 552.194 141.177 550.088 Q138.839 547.981 134.834 547.981 Q132.959 547.981 131.084 548.398 Q129.232 548.815 127.288 549.694 L127.288 532.333 Z\" fill=\"#000000\" fill-rule=\"evenodd\" fill-opacity=\"1\" /><path clip-path=\"url(#clip970)\" d=\"M51.6634 264.257 L59.3023 264.257 L59.3023 237.892 L50.9921 239.558 L50.9921 235.299 L59.256 233.632 L63.9319 233.632 L63.9319 264.257 L71.5707 264.257 L71.5707 268.192 L51.6634 268.192 L51.6634 264.257 Z\" fill=\"#000000\" fill-rule=\"evenodd\" fill-opacity=\"1\" /><path clip-path=\"url(#clip970)\" d=\"M91.0151 236.711 Q87.404 236.711 85.5753 240.276 Q83.7697 243.817 83.7697 250.947 Q83.7697 258.054 85.5753 261.618 Q87.404 265.16 91.0151 265.16 Q94.6493 265.16 96.4548 261.618 Q98.2835 258.054 98.2835 250.947 Q98.2835 243.817 96.4548 240.276 Q94.6493 236.711 91.0151 236.711 M91.0151 233.007 Q96.8252 233.007 99.8808 237.614 Q102.959 242.197 102.959 250.947 Q102.959 259.674 99.8808 264.28 Q96.8252 268.864 91.0151 268.864 Q85.2049 268.864 82.1262 264.28 Q79.0707 259.674 79.0707 250.947 Q79.0707 242.197 82.1262 237.614 Q85.2049 233.007 91.0151 233.007 Z\" fill=\"#000000\" fill-rule=\"evenodd\" fill-opacity=\"1\" /><path clip-path=\"url(#clip970)\" d=\"M111.177 262.313 L116.061 262.313 L116.061 268.192 L111.177 268.192 L111.177 262.313 Z\" fill=\"#000000\" fill-rule=\"evenodd\" fill-opacity=\"1\" /><path clip-path=\"url(#clip970)\" d=\"M136.246 236.711 Q132.635 236.711 130.807 240.276 Q129.001 243.817 129.001 250.947 Q129.001 258.054 130.807 261.618 Q132.635 265.16 136.246 265.16 Q139.881 265.16 141.686 261.618 Q143.515 258.054 143.515 250.947 Q143.515 243.817 141.686 240.276 Q139.881 236.711 136.246 236.711 M136.246 233.007 Q142.056 233.007 145.112 237.614 Q148.191 242.197 148.191 250.947 Q148.191 259.674 145.112 264.28 Q142.056 268.864 136.246 268.864 Q130.436 268.864 127.357 264.28 Q124.302 259.674 124.302 250.947 Q124.302 242.197 127.357 237.614 Q130.436 233.007 136.246 233.007 Z\" fill=\"#000000\" fill-rule=\"evenodd\" fill-opacity=\"1\" /><polyline clip-path=\"url(#clip972)\" style=\"stroke:#009af9; stroke-linecap:round; stroke-linejoin:round; stroke-width:4; stroke-opacity:1; fill:none\" points=\"\n",
       "  851.563,1445.72 1238.38,797.499 1685.38,575.618 1565.87,87.9763 \n",
       "  \"/>\n",
       "<circle clip-path=\"url(#clip972)\" cx=\"851.563\" cy=\"1445.72\" r=\"14.4\" fill=\"#e26f46\" fill-rule=\"evenodd\" fill-opacity=\"1\" stroke=\"#000000\" stroke-opacity=\"1\" stroke-width=\"3.2\"/>\n",
       "<circle clip-path=\"url(#clip972)\" cx=\"1238.38\" cy=\"797.499\" r=\"14.4\" fill=\"#e26f46\" fill-rule=\"evenodd\" fill-opacity=\"1\" stroke=\"#000000\" stroke-opacity=\"1\" stroke-width=\"3.2\"/>\n",
       "<circle clip-path=\"url(#clip972)\" cx=\"1685.38\" cy=\"575.618\" r=\"14.4\" fill=\"#e26f46\" fill-rule=\"evenodd\" fill-opacity=\"1\" stroke=\"#000000\" stroke-opacity=\"1\" stroke-width=\"3.2\"/>\n",
       "<circle clip-path=\"url(#clip972)\" cx=\"1565.87\" cy=\"87.9763\" r=\"14.4\" fill=\"#e26f46\" fill-rule=\"evenodd\" fill-opacity=\"1\" stroke=\"#000000\" stroke-opacity=\"1\" stroke-width=\"3.2\"/>\n",
       "<circle clip-path=\"url(#clip972)\" cx=\"1114.44\" cy=\"1005.18\" r=\"14.4\" fill=\"#3da44d\" fill-rule=\"evenodd\" fill-opacity=\"1\" stroke=\"#000000\" stroke-opacity=\"1\" stroke-width=\"3.2\"/>\n",
       "<circle clip-path=\"url(#clip972)\" cx=\"851.563\" cy=\"848.314\" r=\"14.4\" fill=\"#c271d2\" fill-rule=\"evenodd\" fill-opacity=\"1\" stroke=\"#000000\" stroke-opacity=\"1\" stroke-width=\"3.2\"/>\n",
       "</svg>\n"
      ]
     },
     "execution_count": 7,
     "metadata": {},
     "output_type": "execute_result"
    }
   ],
   "source": [
    "plot!([progress[1]],[progress[3]],seriestype=:scatter)\n",
    "plot!([position[1]],[position[3]],seriestype=:scatter)"
   ]
  },
  {
   "cell_type": "code",
   "execution_count": 11,
   "id": "afff0c28",
   "metadata": {},
   "outputs": [
    {
     "name": "stderr",
     "output_type": "stream",
     "text": [
      "\u001b[36m\u001b[1m┌ \u001b[22m\u001b[39m\u001b[36m\u001b[1mInfo: \u001b[22m\u001b[39mMeshCat server started. You can open the visualizer by visiting the following URL in your browser:\n",
      "\u001b[36m\u001b[1m└ \u001b[22m\u001b[39mhttp://127.0.0.1:8710\n"
     ]
    }
   ],
   "source": [
    "create_visualization();"
   ]
  },
  {
   "cell_type": "code",
   "execution_count": 12,
   "id": "548191f9",
   "metadata": {},
   "outputs": [],
   "source": [
    "visualize_waypoints(points, 0.15)"
   ]
  },
  {
   "cell_type": "code",
   "execution_count": 13,
   "id": "712acdbe",
   "metadata": {},
   "outputs": [],
   "source": [
    "close_visualization(); # closes the MeshCat visualization"
   ]
  }
 ],
 "metadata": {
  "kernelspec": {
   "display_name": "Julia 1.8.0",
   "language": "julia",
   "name": "julia-1.8"
  },
  "language_info": {
   "file_extension": ".jl",
   "mimetype": "application/julia",
   "name": "julia",
   "version": "1.8.0"
  }
 },
 "nbformat": 4,
 "nbformat_minor": 5
}
