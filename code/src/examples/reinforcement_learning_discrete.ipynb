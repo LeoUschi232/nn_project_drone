{
 "cells": [
  {
   "cell_type": "markdown",
   "id": "0649b76a",
   "metadata": {},
   "source": [
    "# Init Bionic VTOL"
   ]
  },
  {
   "cell_type": "code",
   "execution_count": 1,
   "id": "96751412",
   "metadata": {},
   "outputs": [],
   "source": [
    "include(\"../Flyonic.jl\");\n",
    "using .Flyonic;\n",
    "\n",
    "using Rotations; # used for initial position"
   ]
  },
  {
   "cell_type": "code",
   "execution_count": 2,
   "id": "f7e4ee64",
   "metadata": {},
   "outputs": [
    {
     "name": "stderr",
     "output_type": "stream",
     "text": [
      "┌ Info: MeshCat server started. You can open the visualizer by visiting the following URL in your browser:\n",
      "│ http://127.0.0.1:8700\n",
      "└ @ MeshCat /Users/hanna/.julia/packages/MeshCat/Ax8pH/src/visualizer.jl:73\n"
     ]
    }
   ],
   "source": [
    "create_visualization();\n",
    "create_VTOL(\"vtol1\", actuators = true, color_vec=[1.0; 1.0; 0.6; 1.0]);"
   ]
  },
  {
   "cell_type": "code",
   "execution_count": 3,
   "id": "f28bea61",
   "metadata": {},
   "outputs": [
    {
     "data": {
      "text/plain": [
       "MeshCat Visualizer with path /meshcat/vtol1/elevon_large_right at http://127.0.0.1:8700"
      ]
     },
     "execution_count": 3,
     "metadata": {},
     "output_type": "execute_result"
    }
   ],
   "source": [
    "# Set the global wind\n",
    "wind_W = [0.0;0.0;0.0];\n",
    "\n",
    "# Set init state \n",
    "# here it would be better to set the status directly in the status of the environoment so that it does not have to be passed globally.\n",
    "global x_W = [0.0; 0.0; 0.0];\n",
    "global v_B = [0.0; 0.0; 0.0];\n",
    "global R_W = UnitQuaternion(RotY(-pi/2.0)*RotX(pi));\n",
    "global ω_B = [0.0; 0.0; 0.0];\n",
    "\n",
    "# Visualize initial state\n",
    "set_transform(\"vtol1\", x_W,QuatRotation(R_W));\n",
    "set_actuators(\"vtol1\", [0.0; 0.0; 0.0; 0.0])\n"
   ]
  },
  {
   "cell_type": "markdown",
   "id": "5411db62",
   "metadata": {},
   "source": [
    "# Create Reinforcement Learning Environment"
   ]
  },
  {
   "cell_type": "code",
   "execution_count": 4,
   "id": "72039adf",
   "metadata": {},
   "outputs": [],
   "source": [
    "using ReinforcementLearning;\n",
    "using StableRNGs;\n",
    "using Flux;\n",
    "using Flux.Losses;\n",
    "using Random;\n",
    "using IntervalSets;\n",
    "using LinearAlgebra;"
   ]
  },
  {
   "cell_type": "code",
   "execution_count": 5,
   "id": "96af6ee0",
   "metadata": {},
   "outputs": [],
   "source": [
    "mutable struct VtolEnv{A,T,ACT,R<:AbstractRNG} <: AbstractEnv\n",
    "    action_space::A\n",
    "    observation_space::Space{Vector{ClosedInterval{T}}}\n",
    "    state::Vector{T}\n",
    "    action::ACT\n",
    "    done::Bool\n",
    "    t::AbstractFloat\n",
    "    rng::R\n",
    "end"
   ]
  },
  {
   "cell_type": "code",
   "execution_count": 6,
   "id": "14a6873d",
   "metadata": {},
   "outputs": [],
   "source": [
    "function VtolEnv(;\n",
    "    T = Float64,\n",
    "    continuous = false,\n",
    "    rng = Random.GLOBAL_RNG,\n",
    "    kwargs...\n",
    ")\n",
    "    action_space = Base.OneTo(21) # 21 discrete positions for the flaps\n",
    "    state_space = Space( # Three continuous values in state space.\n",
    "        ClosedInterval{T}[\n",
    "            typemin(T)..typemax(T), # rotation arround y\n",
    "            typemin(T)..typemax(T), # rotation velocity arround y\n",
    "            typemin(T)..typemax(T), # world position along x\n",
    "            ], \n",
    "    )\n",
    "    env = VtolEnv(\n",
    "        action_space,\n",
    "        state_space,\n",
    "        zeros(T, 3), # current state, the other variables could go in here.\n",
    "        rand(action_space),\n",
    "        false, # done\n",
    "        0.0, # time\n",
    "        rng,\n",
    "    )\n",
    "    reset!(env)\n",
    "    env\n",
    "end;"
   ]
  },
  {
   "cell_type": "code",
   "execution_count": 7,
   "id": "0f822029",
   "metadata": {},
   "outputs": [],
   "source": [
    "VtolEnv{T}(; kwargs...) where {T} = VtolEnv(T = T, kwargs...)\n",
    "\n",
    "Random.seed!(env::VtolEnv, seed) = Random.seed!(env.rng, seed)\n",
    "RLBase.action_space(env::VtolEnv) = env.action_space\n",
    "RLBase.state_space(env::VtolEnv) = env.observation_space\n",
    "RLBase.is_terminated(env::VtolEnv) = env.done\n",
    "RLBase.state(env::VtolEnv) = env.state"
   ]
  },
  {
   "cell_type": "code",
   "execution_count": 8,
   "id": "7a91f45c",
   "metadata": {},
   "outputs": [],
   "source": [
    "RLBase.reward(env::VtolEnv{A,T}) where {A,T} = 3 - abs(env.state[1]-pi*0.5) - abs(env.state[3]*0.2)"
   ]
  },
  {
   "cell_type": "code",
   "execution_count": 9,
   "id": "ae45ec04",
   "metadata": {},
   "outputs": [],
   "source": [
    "function RLBase.reset!(env::VtolEnv{A,T}) where {A,T}\n",
    "    \n",
    "    # Set init state\n",
    "    # The controller still contains an error when it starts in the origin.\n",
    "    global x_W = [0.0; 0.0; 0.0];\n",
    "    global v_B = [0.0; 0.0; 0.0];\n",
    "    global R_W = Matrix(UnitQuaternion(RotY(-pi/2.0)*RotX(pi)));\n",
    "    global ω_B = [0.0; 0.0; 0.0];\n",
    "    global t = 0.0;\n",
    "\n",
    "    # Visualize initial state\n",
    "    set_transform(\"vtol1\", x_W,QuatRotation(R_W));\n",
    "\n",
    "\n",
    "    \n",
    "    env.state = [ω_B[2] ,Rotations.params(RotYXZ(R_W))[1], 0.0]\n",
    "    env.t = 0.0\n",
    "    env.action = 0.0\n",
    "    env.done = false\n",
    "    nothing\n",
    "end;"
   ]
  },
  {
   "cell_type": "code",
   "execution_count": 10,
   "id": "1cf1a7b7",
   "metadata": {},
   "outputs": [],
   "source": [
    "function (env::VtolEnv{<:Base.OneTo{Int}})(a::Int)\n",
    "    @assert a in env.action_space\n",
    "    env.action = a\n",
    "    _step!(env, ((a-11)/10))\n",
    "end;"
   ]
  },
  {
   "cell_type": "code",
   "execution_count": 11,
   "id": "9e7d4727",
   "metadata": {},
   "outputs": [],
   "source": [
    "function _step!(env::VtolEnv, a)\n",
    "    \n",
    "    Δt = 1e-3; # This could be integrated into generally passed parameters\n",
    "    \n",
    "    action = [0.75,0.75,a,a] # set the propeller trust fix and adujst the two flaps\n",
    "    \n",
    "    # caluclate wind impact\n",
    "    v_in_wind_B = vtol_add_wind(v_B, R_W, wind_W)\n",
    "    # caluclate aerodynamic forces\n",
    "    torque_B, force_B = vtol_model(v_in_wind_B, action, eth_vtol_param);\n",
    "    # integrate rigid body dynamics for Δt\n",
    "    global x_W, v_B, R_W, ω_B, time = rigid_body_simple(torque_B, force_B, x_W, v_B, R_W, ω_B, t, Δt, eth_vtol_param)\n",
    "\n",
    "\n",
    "    # Visualize the new state\n",
    "    set_transform(\"vtol1\", x_W, QuatRotation(R_W));\n",
    "    set_actuators(\"vtol1\", action)\n",
    " \n",
    "    #global t += Δt\n",
    "    env.t += Δt\n",
    "    \n",
    "    # State space\n",
    "    rot = Rotations.params(RotYXZ(R_W))[1]\n",
    "    env.state[1] = rot # rotation arround y\n",
    "    env.state[2] = ω_B[2] # rotation velocity arround y\n",
    "    env.state[3] = x_W[1] # world position along x\n",
    "    \n",
    "    # Termination criteria\n",
    "    env.done =\n",
    "        #norm(v_B) > 2.0 || # stop if body is to fast\n",
    "        x_W[3] < -2.0 || # stop if body is below -2m\n",
    "        0.0 > rot || # Stop if the drone is pitched 90°.\n",
    "        rot > pi || # Stop if the drone is pitched 90°.\n",
    "        env.t > 10 # stop after 10s\n",
    "    nothing\n",
    "end;"
   ]
  },
  {
   "cell_type": "markdown",
   "id": "c223a31f",
   "metadata": {},
   "source": [
    "Show an overview of the environment."
   ]
  },
  {
   "cell_type": "code",
   "execution_count": 12,
   "id": "8d1887a9",
   "metadata": {},
   "outputs": [
    {
     "data": {
      "text/markdown": [
       "# VtolEnv\n",
       "\n",
       "## Traits\n",
       "\n",
       "| Trait Type        |                  Value |\n",
       "|:----------------- | ----------------------:|\n",
       "| NumAgentStyle     |          SingleAgent() |\n",
       "| DynamicStyle      |           Sequential() |\n",
       "| InformationStyle  | ImperfectInformation() |\n",
       "| ChanceStyle       |           Stochastic() |\n",
       "| RewardStyle       |           StepReward() |\n",
       "| UtilityStyle      |           GeneralSum() |\n",
       "| ActionStyle       |     MinimalActionSet() |\n",
       "| StateStyle        |     Observation{Any}() |\n",
       "| DefaultStateStyle |     Observation{Any}() |\n",
       "\n",
       "## Is Environment Terminated?\n",
       "\n",
       "No\n",
       "\n",
       "## State Space\n",
       "\n",
       "`Space{Vector{ClosedInterval{Float64}}}(ClosedInterval{Float64}[-Inf..Inf, -Inf..Inf, -Inf..Inf])`\n",
       "\n",
       "## Action Space\n",
       "\n",
       "`Base.OneTo(21)`\n",
       "\n",
       "## Current State\n",
       "\n",
       "```\n",
       "[0.0, 1.5707963267948966, 0.0]\n",
       "```\n"
      ],
      "text/plain": [
       "# VtolEnv\n",
       "\n",
       "## Traits\n",
       "\n",
       "| Trait Type        |                  Value |\n",
       "|:----------------- | ----------------------:|\n",
       "| NumAgentStyle     |          SingleAgent() |\n",
       "| DynamicStyle      |           Sequential() |\n",
       "| InformationStyle  | ImperfectInformation() |\n",
       "| ChanceStyle       |           Stochastic() |\n",
       "| RewardStyle       |           StepReward() |\n",
       "| UtilityStyle      |           GeneralSum() |\n",
       "| ActionStyle       |     MinimalActionSet() |\n",
       "| StateStyle        |     Observation{Any}() |\n",
       "| DefaultStateStyle |     Observation{Any}() |\n",
       "\n",
       "## Is Environment Terminated?\n",
       "\n",
       "No\n",
       "\n",
       "## State Space\n",
       "\n",
       "`Space{Vector{ClosedInterval{Float64}}}(ClosedInterval{Float64}[-Inf..Inf, -Inf..Inf, -Inf..Inf])`\n",
       "\n",
       "## Action Space\n",
       "\n",
       "`Base.OneTo(21)`\n",
       "\n",
       "## Current State\n",
       "\n",
       "```\n",
       "[0.0, 1.5707963267948966, 0.0]\n",
       "```\n"
      ]
     },
     "execution_count": 12,
     "metadata": {},
     "output_type": "execute_result"
    }
   ],
   "source": [
    "env = VtolEnv()"
   ]
  },
  {
   "cell_type": "markdown",
   "id": "c1a0e4b5",
   "metadata": {},
   "source": [
    "# Setup of a reinforcement learning experiment."
   ]
  },
  {
   "cell_type": "code",
   "execution_count": 13,
   "id": "f01c6c83",
   "metadata": {},
   "outputs": [],
   "source": [
    "function RL.Experiment(\n",
    "    ::Val{:JuliaRL},\n",
    "    ::Val{:BasicDQN},\n",
    "    ::Val{:Vtol},\n",
    "    ::Nothing;\n",
    "    seed = 123,\n",
    ")\n",
    "    rng = StableRNG(seed)\n",
    "    env = VtolEnv(; T = Float32, rng = rng)\n",
    "    ns, na = length(state(env)), length(action_space(env))\n",
    "\n",
    "    policy = Agent(\n",
    "        policy = QBasedPolicy(\n",
    "            learner = BasicDQNLearner(\n",
    "                approximator = NeuralNetworkApproximator(\n",
    "                    model = Chain(\n",
    "                        Dense(ns, 128, relu; init = glorot_uniform(rng)),\n",
    "                        Dense(128, 128, relu; init = glorot_uniform(rng)),\n",
    "                        Dense(128, na; init = glorot_uniform(rng)),\n",
    "                    ) |> gpu,\n",
    "                    optimizer = ADAM(),\n",
    "                ),\n",
    "                batch_size = 32,\n",
    "                min_replay_history = 1000,\n",
    "                loss_func = huber_loss,\n",
    "                rng = rng,\n",
    "            ),\n",
    "            explorer = EpsilonGreedyExplorer(\n",
    "                kind = :exp,\n",
    "                ϵ_stable = 0.01,\n",
    "                decay_steps = 500,\n",
    "                rng = rng,\n",
    "            ),\n",
    "        ),\n",
    "        trajectory = CircularArraySARTTrajectory(\n",
    "            capacity = 1000,\n",
    "            state = Vector{Float32} => (ns,),\n",
    "        ),\n",
    "    )\n",
    "    stop_condition = StopAfterStep(600_000, is_show_progress=!haskey(ENV, \"CI\"))\n",
    "    hook = TotalRewardPerEpisode()\n",
    "    Experiment(policy, env, stop_condition, hook, \"# BasicDQN <-> Vtol\")\n",
    "end"
   ]
  },
  {
   "cell_type": "code",
   "execution_count": 14,
   "id": "8642c818",
   "metadata": {},
   "outputs": [
    {
     "name": "stderr",
     "output_type": "stream",
     "text": [
      "┌ Info: The GPU function is being called but the GPU is not accessible. \n",
      "│ Defaulting back to the CPU. (No action is required if you want to run on the CPU).\n",
      "└ @ Flux /Users/hanna/.julia/packages/Flux/7nTyc/src/functor.jl:187\n"
     ]
    },
    {
     "data": {
      "text/latex": [
       "\\section{BasicDQN <-> Vtol}\n"
      ],
      "text/markdown": [
       "# BasicDQN <-> Vtol\n"
      ],
      "text/plain": [
       "\u001b[1m  BasicDQN <-> Vtol\u001b[22m\n",
       "\u001b[1m  ≡≡≡≡≡≡≡≡≡≡≡≡≡≡≡≡≡≡≡\u001b[22m"
      ]
     },
     "metadata": {},
     "output_type": "display_data"
    },
    {
     "name": "stderr",
     "output_type": "stream",
     "text": [
      "\u001b[32mProgress: 100%|█████████████████████████████████████████| Time: 0:16:34\u001b[39m39m\n"
     ]
    },
    {
     "name": "stdout",
     "output_type": "stream",
     "text": [
      "               ⠀⠀⠀⠀⠀⠀⠀⠀⠀\u001b[97;1mTotal reward per episode\u001b[0m⠀⠀⠀⠀⠀⠀⠀⠀⠀ \n",
      "               \u001b[38;5;8m┌────────────────────────────────────────┐\u001b[0m \n",
      "         \u001b[38;5;8m30000\u001b[0m \u001b[38;5;8m│\u001b[0m⠀⠀⠀⠀⠀⠀⠀⠀⠀⠀⠀⠀⠀⠀⠀⠀⠀⠀⠀⠀⠀⠀⠀⠀⠀⠀⠀⠀⠀⠀⠀⠀⠀⠀⠀⠀⠀⠀⠀⠀\u001b[38;5;8m│\u001b[0m \u001b[38;5;8m\u001b[0m\n",
      "              \u001b[38;5;8m\u001b[0m \u001b[38;5;8m│\u001b[0m⠀⠀⠀⠀⠀⠀⠀⠀⠀⠀⠀⠀⠀\u001b[38;5;2m⢠\u001b[0m⠀⠀⠀⠀⠀⠀⠀⠀⠀⠀⠀⠀⠀⠀⠀⠀⠀⠀⠀⠀⠀⠀⠀⠀⠀⠀\u001b[38;5;8m│\u001b[0m \u001b[38;5;8m\u001b[0m\n",
      "              \u001b[38;5;8m\u001b[0m \u001b[38;5;8m│\u001b[0m⠀⠀⠀⠀⠀⠀⠀⠀⠀⠀⠀⠀⠀\u001b[38;5;2m⢸\u001b[0m⠀⠀⠀⠀⠀⠀⠀\u001b[38;5;2m⢀\u001b[0m⠀⠀⠀⠀⠀⠀\u001b[38;5;2m⢀\u001b[0m⠀⠀⠀⠀⠀⠀⠀⠀⠀⠀⠀\u001b[38;5;8m│\u001b[0m \u001b[38;5;8m\u001b[0m\n",
      "              \u001b[38;5;8m\u001b[0m \u001b[38;5;8m│\u001b[0m⠀⠀⠀⠀⠀⠀⠀⠀⠀⠀⠀⠀⠀\u001b[38;5;2m⢸\u001b[0m⠀⠀⠀⠀⠀⠀⠀\u001b[38;5;2m⢸\u001b[0m⠀⠀⠀⠀⠀⠀\u001b[38;5;2m⢸\u001b[0m⠀⠀⠀⠀⠀⠀⠀⠀⠀⠀⠀\u001b[38;5;8m│\u001b[0m \u001b[38;5;8m\u001b[0m\n",
      "              \u001b[38;5;8m\u001b[0m \u001b[38;5;8m│\u001b[0m⠀⠀⠀⠀⠀⠀⠀⠀⠀⠀⠀⠀⠀\u001b[38;5;2m⢸\u001b[0m⠀⠀⠀⠀⠀⠀⠀\u001b[38;5;2m⢸\u001b[0m⠀⠀⠀⠀⠀⠀\u001b[38;5;2m⣼\u001b[0m⠀⠀⠀⠀⠀⠀⠀⠀⠀⠀⠀\u001b[38;5;8m│\u001b[0m \u001b[38;5;8m\u001b[0m\n",
      "              \u001b[38;5;8m\u001b[0m \u001b[38;5;8m│\u001b[0m⠀⠀⠀⠀⠀⠀⠀⠀⠀⠀⠀⠀⠀\u001b[38;5;2m⢸\u001b[0m⠀⠀⠀⠀⠀⠀⠀\u001b[38;5;2m⢸\u001b[0m⠀⠀⠀⠀⠀⠀\u001b[38;5;2m⣿\u001b[0m⠀⠀⠀⠀⠀⠀⠀⠀⠀⠀⠀\u001b[38;5;8m│\u001b[0m \u001b[38;5;8m\u001b[0m\n",
      "              \u001b[38;5;8m\u001b[0m \u001b[38;5;8m│\u001b[0m⠀⠀⠀⠀⠀⠀⠀⠀⠀⠀⠀⠀⠀\u001b[38;5;2m⢸\u001b[0m⠀⠀⠀⠀⠀⠀⠀\u001b[38;5;2m⢸\u001b[0m\u001b[38;5;2m⡆\u001b[0m⠀⠀⠀⠀\u001b[38;5;2m⢰\u001b[0m\u001b[38;5;2m⣿\u001b[0m⠀⠀⠀⠀⠀⠀⠀⠀⠀⠀⠀\u001b[38;5;8m│\u001b[0m \u001b[38;5;8m\u001b[0m\n",
      "   Score      \u001b[38;5;8m\u001b[0m \u001b[38;5;8m│\u001b[0m⠀⠀⠀⠀⠀⠀⠀⠀⠀⠀⠀\u001b[38;5;2m⡄\u001b[0m\u001b[38;5;2m⢸\u001b[0m\u001b[38;5;2m⢸\u001b[0m⠀⠀⠀⠀⠀⠀\u001b[38;5;2m⡀\u001b[0m\u001b[38;5;2m⣾\u001b[0m\u001b[38;5;2m⡇\u001b[0m⠀⠀⠀⠀\u001b[38;5;2m⢸\u001b[0m\u001b[38;5;2m⣿\u001b[0m\u001b[38;5;2m⡇\u001b[0m⠀⠀⠀⠀⠀⠀⠀⠀⠀⠀\u001b[38;5;8m│\u001b[0m \u001b[38;5;8m\u001b[0m\n",
      "              \u001b[38;5;8m\u001b[0m \u001b[38;5;8m│\u001b[0m⠀⠀⠀⠀⠀⠀⠀⠀⠀⠀⠀\u001b[38;5;2m⣧\u001b[0m\u001b[38;5;2m⣼\u001b[0m\u001b[38;5;2m⢸\u001b[0m⠀\u001b[38;5;2m⡆\u001b[0m⠀⠀⠀⠀\u001b[38;5;2m⡇\u001b[0m\u001b[38;5;2m⣿\u001b[0m\u001b[38;5;2m⡇\u001b[0m⠀⠀⠀\u001b[38;5;2m⣾\u001b[0m\u001b[38;5;2m⢸\u001b[0m\u001b[38;5;2m⣿\u001b[0m\u001b[38;5;2m⡇\u001b[0m⠀⠀⠀⠀⠀⠀⠀⠀⠀⠀\u001b[38;5;8m│\u001b[0m \u001b[38;5;8m\u001b[0m\n",
      "              \u001b[38;5;8m\u001b[0m \u001b[38;5;8m│\u001b[0m⠀⠀⠀⠀⠀⠀⠀⠀⠀\u001b[38;5;2m⡄\u001b[0m\u001b[38;5;2m⢠\u001b[0m\u001b[38;5;2m⣿\u001b[0m\u001b[38;5;2m⣿\u001b[0m\u001b[38;5;2m⣸\u001b[0m\u001b[38;5;2m⢀\u001b[0m\u001b[38;5;2m⡇\u001b[0m⠀⠀\u001b[38;5;2m⡀\u001b[0m\u001b[38;5;2m⢸\u001b[0m\u001b[38;5;2m⡇\u001b[0m\u001b[38;5;2m⣿\u001b[0m\u001b[38;5;2m⡇\u001b[0m⠀⠀\u001b[38;5;2m⣸\u001b[0m\u001b[38;5;2m⣿\u001b[0m\u001b[38;5;2m⢸\u001b[0m\u001b[38;5;2m⣿\u001b[0m\u001b[38;5;2m⡇\u001b[0m⠀⠀⠀⠀⠀⠀⠀⠀⠀⠀\u001b[38;5;8m│\u001b[0m \u001b[38;5;8m\u001b[0m\n",
      "              \u001b[38;5;8m\u001b[0m \u001b[38;5;8m│\u001b[0m⠀⠀⠀⠀\u001b[38;5;2m⢰\u001b[0m\u001b[38;5;2m⡆\u001b[0m⠀⠀\u001b[38;5;2m⢰\u001b[0m\u001b[38;5;2m⡇\u001b[0m\u001b[38;5;2m⢸\u001b[0m\u001b[38;5;2m⣿\u001b[0m\u001b[38;5;2m⣿\u001b[0m\u001b[38;5;2m⣿\u001b[0m\u001b[38;5;2m⢸\u001b[0m\u001b[38;5;2m⡇\u001b[0m\u001b[38;5;2m⢰\u001b[0m⠀\u001b[38;5;2m⡇\u001b[0m\u001b[38;5;2m⢸\u001b[0m\u001b[38;5;2m⣇\u001b[0m\u001b[38;5;2m⣿\u001b[0m\u001b[38;5;2m⣷\u001b[0m\u001b[38;5;2m⡀\u001b[0m\u001b[38;5;2m⡀\u001b[0m\u001b[38;5;2m⣿\u001b[0m\u001b[38;5;2m⣿\u001b[0m\u001b[38;5;2m⣾\u001b[0m\u001b[38;5;2m⣿\u001b[0m\u001b[38;5;2m⡇\u001b[0m⠀⠀⠀⠀⠀⠀⠀⠀⠀⠀\u001b[38;5;8m│\u001b[0m \u001b[38;5;8m\u001b[0m\n",
      "              \u001b[38;5;8m\u001b[0m \u001b[38;5;8m│\u001b[0m⠀⠀⠀⠀\u001b[38;5;2m⢸\u001b[0m\u001b[38;5;2m⡇\u001b[0m\u001b[38;5;2m⣀\u001b[0m\u001b[38;5;2m⣄\u001b[0m\u001b[38;5;2m⢸\u001b[0m\u001b[38;5;2m⡇\u001b[0m\u001b[38;5;2m⢸\u001b[0m\u001b[38;5;2m⡿\u001b[0m\u001b[38;5;2m⣿\u001b[0m\u001b[38;5;2m⣿\u001b[0m\u001b[38;5;2m⡟\u001b[0m\u001b[38;5;2m⣷\u001b[0m\u001b[38;5;2m⣼\u001b[0m\u001b[38;5;2m⣰\u001b[0m\u001b[38;5;2m⣿\u001b[0m\u001b[38;5;2m⣾\u001b[0m\u001b[38;5;2m⣿\u001b[0m\u001b[38;5;2m⣿\u001b[0m\u001b[38;5;2m⣿\u001b[0m\u001b[38;5;2m⣿\u001b[0m\u001b[38;5;2m⡇\u001b[0m\u001b[38;5;2m⣿\u001b[0m\u001b[38;5;2m⡟\u001b[0m\u001b[38;5;2m⣿\u001b[0m\u001b[38;5;2m⣿\u001b[0m\u001b[38;5;2m⠁\u001b[0m⠀⠀⠀⠀⠀⠀⠀⠀⠀⠀\u001b[38;5;8m│\u001b[0m \u001b[38;5;8m\u001b[0m\n",
      "              \u001b[38;5;8m\u001b[0m \u001b[38;5;8m│\u001b[0m⠀⠀⠀\u001b[38;5;2m⣰\u001b[0m\u001b[38;5;2m⣿\u001b[0m\u001b[38;5;2m⣷\u001b[0m\u001b[38;5;2m⣿\u001b[0m\u001b[38;5;2m⢻\u001b[0m\u001b[38;5;2m⡎\u001b[0m\u001b[38;5;2m⣿\u001b[0m\u001b[38;5;2m⡟\u001b[0m\u001b[38;5;2m⡇\u001b[0m\u001b[38;5;2m⣿\u001b[0m\u001b[38;5;2m⣿\u001b[0m\u001b[38;5;2m⡇\u001b[0m\u001b[38;5;2m⡟\u001b[0m\u001b[38;5;2m⢻\u001b[0m\u001b[38;5;2m⡿\u001b[0m\u001b[38;5;2m⢻\u001b[0m\u001b[38;5;2m⣿\u001b[0m\u001b[38;5;2m⣿\u001b[0m\u001b[38;5;2m⡏\u001b[0m\u001b[38;5;2m⢸\u001b[0m\u001b[38;5;2m⣿\u001b[0m\u001b[38;5;2m⣿\u001b[0m\u001b[38;5;2m⢿\u001b[0m\u001b[38;5;2m⡇\u001b[0m\u001b[38;5;2m⣿\u001b[0m\u001b[38;5;2m⣿\u001b[0m⠀⠀⠀⠀⠀⠀⠀⠀⠀⠀⠀\u001b[38;5;8m│\u001b[0m \u001b[38;5;8m\u001b[0m\n",
      "              \u001b[38;5;8m\u001b[0m \u001b[38;5;8m│\u001b[0m\u001b[38;5;2m⣄\u001b[0m\u001b[38;5;2m⢠\u001b[0m\u001b[38;5;2m⣾\u001b[0m\u001b[38;5;2m⡏\u001b[0m\u001b[38;5;2m⡟\u001b[0m\u001b[38;5;2m⠋\u001b[0m\u001b[38;5;2m⠋\u001b[0m⠀\u001b[38;5;2m⠁\u001b[0m\u001b[38;5;2m⠈\u001b[0m\u001b[38;5;2m⠁\u001b[0m\u001b[38;5;2m⠇\u001b[0m\u001b[38;5;2m⡟\u001b[0m\u001b[38;5;2m⠹\u001b[0m\u001b[38;5;2m⠇\u001b[0m⠀\u001b[38;5;2m⠈\u001b[0m⠀\u001b[38;5;2m⢸\u001b[0m\u001b[38;5;2m⠏\u001b[0m\u001b[38;5;2m⢿\u001b[0m\u001b[38;5;2m⠇\u001b[0m\u001b[38;5;2m⠸\u001b[0m\u001b[38;5;2m⠈\u001b[0m\u001b[38;5;2m⠉\u001b[0m\u001b[38;5;2m⠘\u001b[0m\u001b[38;5;2m⡇\u001b[0m\u001b[38;5;2m⠉\u001b[0m\u001b[38;5;2m⢸\u001b[0m⠀⠀⠀⠀⠀⠀⠀⠀⠀⠀⠀\u001b[38;5;8m│\u001b[0m \u001b[38;5;8m\u001b[0m\n",
      "             \u001b[38;5;8m0\u001b[0m \u001b[38;5;8m│\u001b[0m\u001b[38;5;2m⠈\u001b[0m\u001b[38;5;2m⠉\u001b[0m\u001b[38;5;2m⠋\u001b[0m\u001b[38;5;2m⠃\u001b[0m\u001b[38;5;2m⠃\u001b[0m⠀⠀⠀⠀⠀⠀⠀⠀⠀⠀⠀⠀⠀\u001b[38;5;2m⠘\u001b[0m⠀\u001b[38;5;2m⠘\u001b[0m⠀⠀⠀⠀⠀\u001b[38;5;2m⠁\u001b[0m⠀\u001b[38;5;2m⠈\u001b[0m⠀⠀⠀⠀⠀⠀⠀⠀⠀⠀⠀\u001b[38;5;8m│\u001b[0m \u001b[38;5;8m\u001b[0m\n",
      "               \u001b[38;5;8m└────────────────────────────────────────┘\u001b[0m \n",
      "               ⠀\u001b[38;5;8m0\u001b[0m⠀⠀⠀⠀⠀⠀⠀⠀⠀⠀⠀⠀⠀⠀⠀⠀⠀⠀\u001b[38;5;8m\u001b[0m⠀⠀⠀⠀⠀⠀⠀⠀⠀⠀⠀⠀⠀⠀⠀⠀⠀⠀\u001b[38;5;8m300\u001b[0m⠀ \n",
      "               ⠀⠀⠀⠀⠀⠀⠀⠀⠀⠀⠀⠀⠀⠀⠀⠀⠀⠀Episode⠀⠀⠀⠀⠀⠀⠀⠀⠀⠀⠀⠀⠀⠀⠀⠀⠀ \n"
     ]
    },
    {
     "data": {
      "image/svg+xml": [
       "<?xml version=\"1.0\" encoding=\"utf-8\"?>\n",
       "<svg xmlns=\"http://www.w3.org/2000/svg\" xmlns:xlink=\"http://www.w3.org/1999/xlink\" width=\"600\" height=\"400\" viewBox=\"0 0 2400 1600\">\n",
       "<defs>\n",
       "  <clipPath id=\"clip930\">\n",
       "    <rect x=\"0\" y=\"0\" width=\"2400\" height=\"1600\"/>\n",
       "  </clipPath>\n",
       "</defs>\n",
       "<path clip-path=\"url(#clip930)\" d=\"\n",
       "M0 1600 L2400 1600 L2400 0 L0 0  Z\n",
       "  \" fill=\"#ffffff\" fill-rule=\"evenodd\" fill-opacity=\"1\"/>\n",
       "<defs>\n",
       "  <clipPath id=\"clip931\">\n",
       "    <rect x=\"480\" y=\"0\" width=\"1681\" height=\"1600\"/>\n",
       "  </clipPath>\n",
       "</defs>\n",
       "<path clip-path=\"url(#clip930)\" d=\"\n",
       "M306.435 1486.45 L2352.76 1486.45 L2352.76 47.2441 L306.435 47.2441  Z\n",
       "  \" fill=\"#ffffff\" fill-rule=\"evenodd\" fill-opacity=\"1\"/>\n",
       "<defs>\n",
       "  <clipPath id=\"clip932\">\n",
       "    <rect x=\"306\" y=\"47\" width=\"2047\" height=\"1440\"/>\n",
       "  </clipPath>\n",
       "</defs>\n",
       "<polyline clip-path=\"url(#clip932)\" style=\"stroke:#000000; stroke-linecap:round; stroke-linejoin:round; stroke-width:2; stroke-opacity:0.1; fill:none\" points=\"\n",
       "  355.535,1486.45 355.535,47.2441 \n",
       "  \"/>\n",
       "<polyline clip-path=\"url(#clip932)\" style=\"stroke:#000000; stroke-linecap:round; stroke-linejoin:round; stroke-width:2; stroke-opacity:0.1; fill:none\" points=\"\n",
       "  796.286,1486.45 796.286,47.2441 \n",
       "  \"/>\n",
       "<polyline clip-path=\"url(#clip932)\" style=\"stroke:#000000; stroke-linecap:round; stroke-linejoin:round; stroke-width:2; stroke-opacity:0.1; fill:none\" points=\"\n",
       "  1237.04,1486.45 1237.04,47.2441 \n",
       "  \"/>\n",
       "<polyline clip-path=\"url(#clip932)\" style=\"stroke:#000000; stroke-linecap:round; stroke-linejoin:round; stroke-width:2; stroke-opacity:0.1; fill:none\" points=\"\n",
       "  1677.79,1486.45 1677.79,47.2441 \n",
       "  \"/>\n",
       "<polyline clip-path=\"url(#clip932)\" style=\"stroke:#000000; stroke-linecap:round; stroke-linejoin:round; stroke-width:2; stroke-opacity:0.1; fill:none\" points=\"\n",
       "  2118.54,1486.45 2118.54,47.2441 \n",
       "  \"/>\n",
       "<polyline clip-path=\"url(#clip930)\" style=\"stroke:#000000; stroke-linecap:round; stroke-linejoin:round; stroke-width:4; stroke-opacity:1; fill:none\" points=\"\n",
       "  306.435,1486.45 2352.76,1486.45 \n",
       "  \"/>\n",
       "<polyline clip-path=\"url(#clip930)\" style=\"stroke:#000000; stroke-linecap:round; stroke-linejoin:round; stroke-width:4; stroke-opacity:1; fill:none\" points=\"\n",
       "  355.535,1486.45 355.535,1467.55 \n",
       "  \"/>\n",
       "<polyline clip-path=\"url(#clip930)\" style=\"stroke:#000000; stroke-linecap:round; stroke-linejoin:round; stroke-width:4; stroke-opacity:1; fill:none\" points=\"\n",
       "  796.286,1486.45 796.286,1467.55 \n",
       "  \"/>\n",
       "<polyline clip-path=\"url(#clip930)\" style=\"stroke:#000000; stroke-linecap:round; stroke-linejoin:round; stroke-width:4; stroke-opacity:1; fill:none\" points=\"\n",
       "  1237.04,1486.45 1237.04,1467.55 \n",
       "  \"/>\n",
       "<polyline clip-path=\"url(#clip930)\" style=\"stroke:#000000; stroke-linecap:round; stroke-linejoin:round; stroke-width:4; stroke-opacity:1; fill:none\" points=\"\n",
       "  1677.79,1486.45 1677.79,1467.55 \n",
       "  \"/>\n",
       "<polyline clip-path=\"url(#clip930)\" style=\"stroke:#000000; stroke-linecap:round; stroke-linejoin:round; stroke-width:4; stroke-opacity:1; fill:none\" points=\"\n",
       "  2118.54,1486.45 2118.54,1467.55 \n",
       "  \"/>\n",
       "<path clip-path=\"url(#clip930)\" d=\"M355.535 1517.37 Q351.924 1517.37 350.095 1520.93 Q348.29 1524.47 348.29 1531.6 Q348.29 1538.71 350.095 1542.27 Q351.924 1545.82 355.535 1545.82 Q359.169 1545.82 360.975 1542.27 Q362.804 1538.71 362.804 1531.6 Q362.804 1524.47 360.975 1520.93 Q359.169 1517.37 355.535 1517.37 M355.535 1513.66 Q361.345 1513.66 364.401 1518.27 Q367.479 1522.85 367.479 1531.6 Q367.479 1540.33 364.401 1544.94 Q361.345 1549.52 355.535 1549.52 Q349.725 1549.52 346.646 1544.94 Q343.591 1540.33 343.591 1531.6 Q343.591 1522.85 346.646 1518.27 Q349.725 1513.66 355.535 1513.66 Z\" fill=\"#000000\" fill-rule=\"evenodd\" fill-opacity=\"1\" /><path clip-path=\"url(#clip930)\" d=\"M770.986 1514.29 L789.342 1514.29 L789.342 1518.22 L775.268 1518.22 L775.268 1526.7 Q776.287 1526.35 777.305 1526.19 Q778.324 1526 779.342 1526 Q785.129 1526 788.509 1529.17 Q791.888 1532.34 791.888 1537.76 Q791.888 1543.34 788.416 1546.44 Q784.944 1549.52 778.625 1549.52 Q776.449 1549.52 774.18 1549.15 Q771.935 1548.78 769.527 1548.04 L769.527 1543.34 Q771.611 1544.47 773.833 1545.03 Q776.055 1545.58 778.532 1545.58 Q782.537 1545.58 784.875 1543.48 Q787.212 1541.37 787.212 1537.76 Q787.212 1534.15 784.875 1532.04 Q782.537 1529.94 778.532 1529.94 Q776.657 1529.94 774.782 1530.35 Q772.93 1530.77 770.986 1531.65 L770.986 1514.29 Z\" fill=\"#000000\" fill-rule=\"evenodd\" fill-opacity=\"1\" /><path clip-path=\"url(#clip930)\" d=\"M811.101 1517.37 Q807.49 1517.37 805.661 1520.93 Q803.856 1524.47 803.856 1531.6 Q803.856 1538.71 805.661 1542.27 Q807.49 1545.82 811.101 1545.82 Q814.735 1545.82 816.541 1542.27 Q818.37 1538.71 818.37 1531.6 Q818.37 1524.47 816.541 1520.93 Q814.735 1517.37 811.101 1517.37 M811.101 1513.66 Q816.911 1513.66 819.967 1518.27 Q823.046 1522.85 823.046 1531.6 Q823.046 1540.33 819.967 1544.94 Q816.911 1549.52 811.101 1549.52 Q805.291 1549.52 802.212 1544.94 Q799.157 1540.33 799.157 1531.6 Q799.157 1522.85 802.212 1518.27 Q805.291 1513.66 811.101 1513.66 Z\" fill=\"#000000\" fill-rule=\"evenodd\" fill-opacity=\"1\" /><path clip-path=\"url(#clip930)\" d=\"M1196.64 1544.91 L1204.28 1544.91 L1204.28 1518.55 L1195.97 1520.21 L1195.97 1515.95 L1204.24 1514.29 L1208.91 1514.29 L1208.91 1544.91 L1216.55 1544.91 L1216.55 1548.85 L1196.64 1548.85 L1196.64 1544.91 Z\" fill=\"#000000\" fill-rule=\"evenodd\" fill-opacity=\"1\" /><path clip-path=\"url(#clip930)\" d=\"M1236 1517.37 Q1232.39 1517.37 1230.56 1520.93 Q1228.75 1524.47 1228.75 1531.6 Q1228.75 1538.71 1230.56 1542.27 Q1232.39 1545.82 1236 1545.82 Q1239.63 1545.82 1241.44 1542.27 Q1243.26 1538.71 1243.26 1531.6 Q1243.26 1524.47 1241.44 1520.93 Q1239.63 1517.37 1236 1517.37 M1236 1513.66 Q1241.81 1513.66 1244.86 1518.27 Q1247.94 1522.85 1247.94 1531.6 Q1247.94 1540.33 1244.86 1544.94 Q1241.81 1549.52 1236 1549.52 Q1230.19 1549.52 1227.11 1544.94 Q1224.05 1540.33 1224.05 1531.6 Q1224.05 1522.85 1227.11 1518.27 Q1230.19 1513.66 1236 1513.66 Z\" fill=\"#000000\" fill-rule=\"evenodd\" fill-opacity=\"1\" /><path clip-path=\"url(#clip930)\" d=\"M1266.16 1517.37 Q1262.55 1517.37 1260.72 1520.93 Q1258.91 1524.47 1258.91 1531.6 Q1258.91 1538.71 1260.72 1542.27 Q1262.55 1545.82 1266.16 1545.82 Q1269.79 1545.82 1271.6 1542.27 Q1273.43 1538.71 1273.43 1531.6 Q1273.43 1524.47 1271.6 1520.93 Q1269.79 1517.37 1266.16 1517.37 M1266.16 1513.66 Q1271.97 1513.66 1275.02 1518.27 Q1278.1 1522.85 1278.1 1531.6 Q1278.1 1540.33 1275.02 1544.94 Q1271.97 1549.52 1266.16 1549.52 Q1260.35 1549.52 1257.27 1544.94 Q1254.21 1540.33 1254.21 1531.6 Q1254.21 1522.85 1257.27 1518.27 Q1260.35 1513.66 1266.16 1513.66 Z\" fill=\"#000000\" fill-rule=\"evenodd\" fill-opacity=\"1\" /><path clip-path=\"url(#clip930)\" d=\"M1637.4 1544.91 L1645.03 1544.91 L1645.03 1518.55 L1636.72 1520.21 L1636.72 1515.95 L1644.99 1514.29 L1649.66 1514.29 L1649.66 1544.91 L1657.3 1544.91 L1657.3 1548.85 L1637.4 1548.85 L1637.4 1544.91 Z\" fill=\"#000000\" fill-rule=\"evenodd\" fill-opacity=\"1\" /><path clip-path=\"url(#clip930)\" d=\"M1666.79 1514.29 L1685.15 1514.29 L1685.15 1518.22 L1671.08 1518.22 L1671.08 1526.7 Q1672.09 1526.35 1673.11 1526.19 Q1674.13 1526 1675.15 1526 Q1680.94 1526 1684.32 1529.17 Q1687.7 1532.34 1687.7 1537.76 Q1687.7 1543.34 1684.22 1546.44 Q1680.75 1549.52 1674.43 1549.52 Q1672.26 1549.52 1669.99 1549.15 Q1667.74 1548.78 1665.34 1548.04 L1665.34 1543.34 Q1667.42 1544.47 1669.64 1545.03 Q1671.86 1545.58 1674.34 1545.58 Q1678.34 1545.58 1680.68 1543.48 Q1683.02 1541.37 1683.02 1537.76 Q1683.02 1534.15 1680.68 1532.04 Q1678.34 1529.94 1674.34 1529.94 Q1672.47 1529.94 1670.59 1530.35 Q1668.74 1530.77 1666.79 1531.65 L1666.79 1514.29 Z\" fill=\"#000000\" fill-rule=\"evenodd\" fill-opacity=\"1\" /><path clip-path=\"url(#clip930)\" d=\"M1706.91 1517.37 Q1703.3 1517.37 1701.47 1520.93 Q1699.66 1524.47 1699.66 1531.6 Q1699.66 1538.71 1701.47 1542.27 Q1703.3 1545.82 1706.91 1545.82 Q1710.54 1545.82 1712.35 1542.27 Q1714.18 1538.71 1714.18 1531.6 Q1714.18 1524.47 1712.35 1520.93 Q1710.54 1517.37 1706.91 1517.37 M1706.91 1513.66 Q1712.72 1513.66 1715.78 1518.27 Q1718.85 1522.85 1718.85 1531.6 Q1718.85 1540.33 1715.78 1544.94 Q1712.72 1549.52 1706.91 1549.52 Q1701.1 1549.52 1698.02 1544.94 Q1694.97 1540.33 1694.97 1531.6 Q1694.97 1522.85 1698.02 1518.27 Q1701.1 1513.66 1706.91 1513.66 Z\" fill=\"#000000\" fill-rule=\"evenodd\" fill-opacity=\"1\" /><path clip-path=\"url(#clip930)\" d=\"M2082.23 1544.91 L2098.55 1544.91 L2098.55 1548.85 L2076.61 1548.85 L2076.61 1544.91 Q2079.27 1542.16 2083.85 1537.53 Q2088.46 1532.88 2089.64 1531.53 Q2091.89 1529.01 2092.77 1527.27 Q2093.67 1525.51 2093.67 1523.82 Q2093.67 1521.07 2091.72 1519.33 Q2089.8 1517.6 2086.7 1517.6 Q2084.5 1517.6 2082.05 1518.36 Q2079.62 1519.13 2076.84 1520.68 L2076.84 1515.95 Q2079.66 1514.82 2082.12 1514.24 Q2084.57 1513.66 2086.61 1513.66 Q2091.98 1513.66 2095.17 1516.35 Q2098.37 1519.03 2098.37 1523.52 Q2098.37 1525.65 2097.56 1527.57 Q2096.77 1529.47 2094.66 1532.07 Q2094.08 1532.74 2090.98 1535.95 Q2087.88 1539.15 2082.23 1544.91 Z\" fill=\"#000000\" fill-rule=\"evenodd\" fill-opacity=\"1\" /><path clip-path=\"url(#clip930)\" d=\"M2118.37 1517.37 Q2114.76 1517.37 2112.93 1520.93 Q2111.12 1524.47 2111.12 1531.6 Q2111.12 1538.71 2112.93 1542.27 Q2114.76 1545.82 2118.37 1545.82 Q2122 1545.82 2123.81 1542.27 Q2125.64 1538.71 2125.64 1531.6 Q2125.64 1524.47 2123.81 1520.93 Q2122 1517.37 2118.37 1517.37 M2118.37 1513.66 Q2124.18 1513.66 2127.23 1518.27 Q2130.31 1522.85 2130.31 1531.6 Q2130.31 1540.33 2127.23 1544.94 Q2124.18 1549.52 2118.37 1549.52 Q2112.56 1549.52 2109.48 1544.94 Q2106.42 1540.33 2106.42 1531.6 Q2106.42 1522.85 2109.48 1518.27 Q2112.56 1513.66 2118.37 1513.66 Z\" fill=\"#000000\" fill-rule=\"evenodd\" fill-opacity=\"1\" /><path clip-path=\"url(#clip930)\" d=\"M2148.53 1517.37 Q2144.92 1517.37 2143.09 1520.93 Q2141.28 1524.47 2141.28 1531.6 Q2141.28 1538.71 2143.09 1542.27 Q2144.92 1545.82 2148.53 1545.82 Q2152.16 1545.82 2153.97 1542.27 Q2155.8 1538.71 2155.8 1531.6 Q2155.8 1524.47 2153.97 1520.93 Q2152.16 1517.37 2148.53 1517.37 M2148.53 1513.66 Q2154.34 1513.66 2157.39 1518.27 Q2160.47 1522.85 2160.47 1531.6 Q2160.47 1540.33 2157.39 1544.94 Q2154.34 1549.52 2148.53 1549.52 Q2142.72 1549.52 2139.64 1544.94 Q2136.58 1540.33 2136.58 1531.6 Q2136.58 1522.85 2139.64 1518.27 Q2142.72 1513.66 2148.53 1513.66 Z\" fill=\"#000000\" fill-rule=\"evenodd\" fill-opacity=\"1\" /><polyline clip-path=\"url(#clip932)\" style=\"stroke:#000000; stroke-linecap:round; stroke-linejoin:round; stroke-width:2; stroke-opacity:0.1; fill:none\" points=\"\n",
       "  306.435,1246.59 2352.76,1246.59 \n",
       "  \"/>\n",
       "<polyline clip-path=\"url(#clip932)\" style=\"stroke:#000000; stroke-linecap:round; stroke-linejoin:round; stroke-width:2; stroke-opacity:0.1; fill:none\" points=\"\n",
       "  306.435,982.396 2352.76,982.396 \n",
       "  \"/>\n",
       "<polyline clip-path=\"url(#clip932)\" style=\"stroke:#000000; stroke-linecap:round; stroke-linejoin:round; stroke-width:2; stroke-opacity:0.1; fill:none\" points=\"\n",
       "  306.435,718.206 2352.76,718.206 \n",
       "  \"/>\n",
       "<polyline clip-path=\"url(#clip932)\" style=\"stroke:#000000; stroke-linecap:round; stroke-linejoin:round; stroke-width:2; stroke-opacity:0.1; fill:none\" points=\"\n",
       "  306.435,454.016 2352.76,454.016 \n",
       "  \"/>\n",
       "<polyline clip-path=\"url(#clip932)\" style=\"stroke:#000000; stroke-linecap:round; stroke-linejoin:round; stroke-width:2; stroke-opacity:0.1; fill:none\" points=\"\n",
       "  306.435,189.826 2352.76,189.826 \n",
       "  \"/>\n",
       "<polyline clip-path=\"url(#clip930)\" style=\"stroke:#000000; stroke-linecap:round; stroke-linejoin:round; stroke-width:4; stroke-opacity:1; fill:none\" points=\"\n",
       "  306.435,1486.45 306.435,47.2441 \n",
       "  \"/>\n",
       "<polyline clip-path=\"url(#clip930)\" style=\"stroke:#000000; stroke-linecap:round; stroke-linejoin:round; stroke-width:4; stroke-opacity:1; fill:none\" points=\"\n",
       "  306.435,1246.59 325.333,1246.59 \n",
       "  \"/>\n",
       "<polyline clip-path=\"url(#clip930)\" style=\"stroke:#000000; stroke-linecap:round; stroke-linejoin:round; stroke-width:4; stroke-opacity:1; fill:none\" points=\"\n",
       "  306.435,982.396 325.333,982.396 \n",
       "  \"/>\n",
       "<polyline clip-path=\"url(#clip930)\" style=\"stroke:#000000; stroke-linecap:round; stroke-linejoin:round; stroke-width:4; stroke-opacity:1; fill:none\" points=\"\n",
       "  306.435,718.206 325.333,718.206 \n",
       "  \"/>\n",
       "<polyline clip-path=\"url(#clip930)\" style=\"stroke:#000000; stroke-linecap:round; stroke-linejoin:round; stroke-width:4; stroke-opacity:1; fill:none\" points=\"\n",
       "  306.435,454.016 325.333,454.016 \n",
       "  \"/>\n",
       "<polyline clip-path=\"url(#clip930)\" style=\"stroke:#000000; stroke-linecap:round; stroke-linejoin:round; stroke-width:4; stroke-opacity:1; fill:none\" points=\"\n",
       "  306.435,189.826 325.333,189.826 \n",
       "  \"/>\n",
       "<path clip-path=\"url(#clip930)\" d=\"M54.6105 1235.75 L72.9668 1235.75 L72.9668 1239.69 L58.8928 1239.69 L58.8928 1248.16 Q59.9113 1247.81 60.9299 1247.65 Q61.9484 1247.47 62.9669 1247.47 Q68.7539 1247.47 72.1335 1250.64 Q75.5131 1253.81 75.5131 1259.23 Q75.5131 1264.8 72.0409 1267.91 Q68.5687 1270.98 62.2493 1270.98 Q60.0734 1270.98 57.8049 1270.61 Q55.5595 1270.24 53.1521 1269.5 L53.1521 1264.8 Q55.2354 1265.94 57.4577 1266.49 Q59.6799 1267.05 62.1567 1267.05 Q66.1613 1267.05 68.4993 1264.94 Q70.8372 1262.84 70.8372 1259.23 Q70.8372 1255.61 68.4993 1253.51 Q66.1613 1251.4 62.1567 1251.4 Q60.2817 1251.4 58.4067 1251.82 Q56.5549 1252.23 54.6105 1253.11 L54.6105 1235.75 Z\" fill=\"#000000\" fill-rule=\"evenodd\" fill-opacity=\"1\" /><path clip-path=\"url(#clip930)\" d=\"M84.726 1264.43 L89.6103 1264.43 L89.6103 1270.31 L84.726 1270.31 L84.726 1264.43 Z\" fill=\"#000000\" fill-rule=\"evenodd\" fill-opacity=\"1\" /><path clip-path=\"url(#clip930)\" d=\"M109.795 1238.83 Q106.184 1238.83 104.356 1242.4 Q102.55 1245.94 102.55 1253.07 Q102.55 1260.17 104.356 1263.74 Q106.184 1267.28 109.795 1267.28 Q113.43 1267.28 115.235 1263.74 Q117.064 1260.17 117.064 1253.07 Q117.064 1245.94 115.235 1242.4 Q113.43 1238.83 109.795 1238.83 M109.795 1235.13 Q115.605 1235.13 118.661 1239.73 Q121.74 1244.32 121.74 1253.07 Q121.74 1261.8 118.661 1266.4 Q115.605 1270.98 109.795 1270.98 Q103.985 1270.98 100.906 1266.4 Q97.851 1261.8 97.851 1253.07 Q97.851 1244.32 100.906 1239.73 Q103.985 1235.13 109.795 1235.13 Z\" fill=\"#000000\" fill-rule=\"evenodd\" fill-opacity=\"1\" /><path clip-path=\"url(#clip930)\" d=\"M139.957 1238.83 Q136.346 1238.83 134.517 1242.4 Q132.712 1245.94 132.712 1253.07 Q132.712 1260.17 134.517 1263.74 Q136.346 1267.28 139.957 1267.28 Q143.591 1267.28 145.397 1263.74 Q147.226 1260.17 147.226 1253.07 Q147.226 1245.94 145.397 1242.4 Q143.591 1238.83 139.957 1238.83 M139.957 1235.13 Q145.767 1235.13 148.823 1239.73 Q151.902 1244.32 151.902 1253.07 Q151.902 1261.8 148.823 1266.4 Q145.767 1270.98 139.957 1270.98 Q134.147 1270.98 131.068 1266.4 Q128.013 1261.8 128.013 1253.07 Q128.013 1244.32 131.068 1239.73 Q134.147 1235.13 139.957 1235.13 Z\" fill=\"#000000\" fill-rule=\"evenodd\" fill-opacity=\"1\" /><path clip-path=\"url(#clip930)\" d=\"M188.29 1244.85 L177.712 1255.48 L188.29 1266.05 L185.536 1268.86 L174.911 1258.23 L164.286 1268.86 L161.554 1266.05 L172.11 1255.48 L161.554 1244.85 L164.286 1242.05 L174.911 1252.67 L185.536 1242.05 L188.29 1244.85 Z\" fill=\"#000000\" fill-rule=\"evenodd\" fill-opacity=\"1\" /><path clip-path=\"url(#clip930)\" d=\"M200.651 1266.38 L208.29 1266.38 L208.29 1240.01 L199.98 1241.68 L199.98 1237.42 L208.244 1235.75 L212.92 1235.75 L212.92 1266.38 L220.559 1266.38 L220.559 1270.31 L200.651 1270.31 L200.651 1266.38 Z\" fill=\"#000000\" fill-rule=\"evenodd\" fill-opacity=\"1\" /><path clip-path=\"url(#clip930)\" d=\"M240.003 1238.83 Q236.392 1238.83 234.563 1242.4 Q232.758 1245.94 232.758 1253.07 Q232.758 1260.17 234.563 1263.74 Q236.392 1267.28 240.003 1267.28 Q243.637 1267.28 245.443 1263.74 Q247.271 1260.17 247.271 1253.07 Q247.271 1245.94 245.443 1242.4 Q243.637 1238.83 240.003 1238.83 M240.003 1235.13 Q245.813 1235.13 248.869 1239.73 Q251.947 1244.32 251.947 1253.07 Q251.947 1261.8 248.869 1266.4 Q245.813 1270.98 240.003 1270.98 Q234.193 1270.98 231.114 1266.4 Q228.059 1261.8 228.059 1253.07 Q228.059 1244.32 231.114 1239.73 Q234.193 1235.13 240.003 1235.13 Z\" fill=\"#000000\" fill-rule=\"evenodd\" fill-opacity=\"1\" /><path clip-path=\"url(#clip930)\" d=\"M264.643 1227.76 Q267.37 1228.35 268.893 1230.19 Q270.435 1232.03 270.435 1234.74 Q270.435 1238.9 267.577 1241.17 Q264.718 1243.45 259.452 1243.45 Q257.684 1243.45 255.803 1243.09 Q253.941 1242.75 251.947 1242.06 L251.947 1238.39 Q253.527 1239.31 255.408 1239.78 Q257.289 1240.25 259.339 1240.25 Q262.912 1240.25 264.774 1238.84 Q266.655 1237.43 266.655 1234.74 Q266.655 1232.26 264.906 1230.87 Q263.176 1229.46 260.072 1229.46 L256.8 1229.46 L256.8 1226.33 L260.223 1226.33 Q263.025 1226.33 264.511 1225.22 Q265.997 1224.1 265.997 1221.99 Q265.997 1219.83 264.455 1218.68 Q262.931 1217.51 260.072 1217.51 Q258.511 1217.51 256.725 1217.85 Q254.938 1218.19 252.794 1218.9 L252.794 1215.52 Q254.957 1214.92 256.837 1214.62 Q258.737 1214.32 260.411 1214.32 Q264.737 1214.32 267.257 1216.29 Q269.777 1218.25 269.777 1221.59 Q269.777 1223.93 268.442 1225.54 Q267.106 1227.14 264.643 1227.76 Z\" fill=\"#000000\" fill-rule=\"evenodd\" fill-opacity=\"1\" /><path clip-path=\"url(#clip930)\" d=\"M53.3995 1002.19 L61.0384 1002.19 L61.0384 975.823 L52.7282 977.489 L52.7282 973.23 L60.9921 971.563 L65.668 971.563 L65.668 1002.19 L73.3068 1002.19 L73.3068 1006.12 L53.3995 1006.12 L53.3995 1002.19 Z\" fill=\"#000000\" fill-rule=\"evenodd\" fill-opacity=\"1\" /><path clip-path=\"url(#clip930)\" d=\"M82.7512 1000.24 L87.6354 1000.24 L87.6354 1006.12 L82.7512 1006.12 L82.7512 1000.24 Z\" fill=\"#000000\" fill-rule=\"evenodd\" fill-opacity=\"1\" /><path clip-path=\"url(#clip930)\" d=\"M107.821 974.642 Q104.209 974.642 102.381 978.207 Q100.575 981.749 100.575 988.878 Q100.575 995.985 102.381 999.549 Q104.209 1003.09 107.821 1003.09 Q111.455 1003.09 113.26 999.549 Q115.089 995.985 115.089 988.878 Q115.089 981.749 113.26 978.207 Q111.455 974.642 107.821 974.642 M107.821 970.939 Q113.631 970.939 116.686 975.545 Q119.765 980.128 119.765 988.878 Q119.765 997.605 116.686 1002.21 Q113.631 1006.79 107.821 1006.79 Q102.01 1006.79 98.9317 1002.21 Q95.8761 997.605 95.8761 988.878 Q95.8761 980.128 98.9317 975.545 Q102.01 970.939 107.821 970.939 Z\" fill=\"#000000\" fill-rule=\"evenodd\" fill-opacity=\"1\" /><path clip-path=\"url(#clip930)\" d=\"M137.982 974.642 Q134.371 974.642 132.543 978.207 Q130.737 981.749 130.737 988.878 Q130.737 995.985 132.543 999.549 Q134.371 1003.09 137.982 1003.09 Q141.617 1003.09 143.422 999.549 Q145.251 995.985 145.251 988.878 Q145.251 981.749 143.422 978.207 Q141.617 974.642 137.982 974.642 M137.982 970.939 Q143.793 970.939 146.848 975.545 Q149.927 980.128 149.927 988.878 Q149.927 997.605 146.848 1002.21 Q143.793 1006.79 137.982 1006.79 Q132.172 1006.79 129.094 1002.21 Q126.038 997.605 126.038 988.878 Q126.038 980.128 129.094 975.545 Q132.172 970.939 137.982 970.939 Z\" fill=\"#000000\" fill-rule=\"evenodd\" fill-opacity=\"1\" /><path clip-path=\"url(#clip930)\" d=\"M186.315 980.661 L175.737 991.286 L186.315 1001.86 L183.561 1004.67 L172.936 994.04 L162.311 1004.67 L159.58 1001.86 L170.135 991.286 L159.58 980.661 L162.311 977.86 L172.936 988.485 L183.561 977.86 L186.315 980.661 Z\" fill=\"#000000\" fill-rule=\"evenodd\" fill-opacity=\"1\" /><path clip-path=\"url(#clip930)\" d=\"M198.677 1002.19 L206.315 1002.19 L206.315 975.823 L198.005 977.489 L198.005 973.23 L206.269 971.563 L210.945 971.563 L210.945 1002.19 L218.584 1002.19 L218.584 1006.12 L198.677 1006.12 L198.677 1002.19 Z\" fill=\"#000000\" fill-rule=\"evenodd\" fill-opacity=\"1\" /><path clip-path=\"url(#clip930)\" d=\"M238.028 974.642 Q234.417 974.642 232.588 978.207 Q230.783 981.749 230.783 988.878 Q230.783 995.985 232.588 999.549 Q234.417 1003.09 238.028 1003.09 Q241.662 1003.09 243.468 999.549 Q245.297 995.985 245.297 988.878 Q245.297 981.749 243.468 978.207 Q241.662 974.642 238.028 974.642 M238.028 970.939 Q243.838 970.939 246.894 975.545 Q249.973 980.128 249.973 988.878 Q249.973 997.605 246.894 1002.21 Q243.838 1006.79 238.028 1006.79 Q232.218 1006.79 229.139 1002.21 Q226.084 997.605 226.084 988.878 Q226.084 980.128 229.139 975.545 Q232.218 970.939 238.028 970.939 Z\" fill=\"#000000\" fill-rule=\"evenodd\" fill-opacity=\"1\" /><path clip-path=\"url(#clip930)\" d=\"M262.649 953.943 L253.057 968.933 L262.649 968.933 L262.649 953.943 M261.652 950.633 L266.429 950.633 L266.429 968.933 L270.435 968.933 L270.435 972.093 L266.429 972.093 L266.429 978.713 L262.649 978.713 L262.649 972.093 L249.973 972.093 L249.973 968.425 L261.652 950.633 Z\" fill=\"#000000\" fill-rule=\"evenodd\" fill-opacity=\"1\" /><path clip-path=\"url(#clip930)\" d=\"M53.3995 737.998 L61.0384 737.998 L61.0384 711.633 L52.7282 713.299 L52.7282 709.04 L60.9921 707.373 L65.668 707.373 L65.668 737.998 L73.3068 737.998 L73.3068 741.933 L53.3995 741.933 L53.3995 737.998 Z\" fill=\"#000000\" fill-rule=\"evenodd\" fill-opacity=\"1\" /><path clip-path=\"url(#clip930)\" d=\"M82.7512 736.054 L87.6354 736.054 L87.6354 741.933 L82.7512 741.933 L82.7512 736.054 Z\" fill=\"#000000\" fill-rule=\"evenodd\" fill-opacity=\"1\" /><path clip-path=\"url(#clip930)\" d=\"M97.8669 707.373 L116.223 707.373 L116.223 711.309 L102.149 711.309 L102.149 719.781 Q103.168 719.434 104.186 719.272 Q105.205 719.086 106.223 719.086 Q112.01 719.086 115.39 722.258 Q118.77 725.429 118.77 730.846 Q118.77 736.424 115.297 739.526 Q111.825 742.605 105.506 742.605 Q103.33 742.605 101.061 742.234 Q98.8159 741.864 96.4085 741.123 L96.4085 736.424 Q98.4919 737.559 100.714 738.114 Q102.936 738.67 105.413 738.67 Q109.418 738.67 111.756 736.563 Q114.094 734.457 114.094 730.846 Q114.094 727.234 111.756 725.128 Q109.418 723.022 105.413 723.022 Q103.538 723.022 101.663 723.438 Q99.8113 723.855 97.8669 724.734 L97.8669 707.373 Z\" fill=\"#000000\" fill-rule=\"evenodd\" fill-opacity=\"1\" /><path clip-path=\"url(#clip930)\" d=\"M137.982 710.452 Q134.371 710.452 132.543 714.017 Q130.737 717.559 130.737 724.688 Q130.737 731.795 132.543 735.359 Q134.371 738.901 137.982 738.901 Q141.617 738.901 143.422 735.359 Q145.251 731.795 145.251 724.688 Q145.251 717.559 143.422 714.017 Q141.617 710.452 137.982 710.452 M137.982 706.748 Q143.793 706.748 146.848 711.355 Q149.927 715.938 149.927 724.688 Q149.927 733.415 146.848 738.021 Q143.793 742.605 137.982 742.605 Q132.172 742.605 129.094 738.021 Q126.038 733.415 126.038 724.688 Q126.038 715.938 129.094 711.355 Q132.172 706.748 137.982 706.748 Z\" fill=\"#000000\" fill-rule=\"evenodd\" fill-opacity=\"1\" /><path clip-path=\"url(#clip930)\" d=\"M186.315 716.471 L175.737 727.096 L186.315 737.674 L183.561 740.475 L172.936 729.85 L162.311 740.475 L159.58 737.674 L170.135 727.096 L159.58 716.471 L162.311 713.67 L172.936 724.295 L183.561 713.67 L186.315 716.471 Z\" fill=\"#000000\" fill-rule=\"evenodd\" fill-opacity=\"1\" /><path clip-path=\"url(#clip930)\" d=\"M198.677 737.998 L206.315 737.998 L206.315 711.633 L198.005 713.299 L198.005 709.04 L206.269 707.373 L210.945 707.373 L210.945 737.998 L218.584 737.998 L218.584 741.933 L198.677 741.933 L198.677 737.998 Z\" fill=\"#000000\" fill-rule=\"evenodd\" fill-opacity=\"1\" /><path clip-path=\"url(#clip930)\" d=\"M238.028 710.452 Q234.417 710.452 232.588 714.017 Q230.783 717.559 230.783 724.688 Q230.783 731.795 232.588 735.359 Q234.417 738.901 238.028 738.901 Q241.662 738.901 243.468 735.359 Q245.297 731.795 245.297 724.688 Q245.297 717.559 243.468 714.017 Q241.662 710.452 238.028 710.452 M238.028 706.748 Q243.838 706.748 246.894 711.355 Q249.973 715.938 249.973 724.688 Q249.973 733.415 246.894 738.021 Q243.838 742.605 238.028 742.605 Q232.218 742.605 229.139 738.021 Q226.084 733.415 226.084 724.688 Q226.084 715.938 229.139 711.355 Q232.218 706.748 238.028 706.748 Z\" fill=\"#000000\" fill-rule=\"evenodd\" fill-opacity=\"1\" /><path clip-path=\"url(#clip930)\" d=\"M262.649 689.753 L253.057 704.743 L262.649 704.743 L262.649 689.753 M261.652 686.443 L266.429 686.443 L266.429 704.743 L270.435 704.743 L270.435 707.903 L266.429 707.903 L266.429 714.523 L262.649 714.523 L262.649 707.903 L249.973 707.903 L249.973 704.235 L261.652 686.443 Z\" fill=\"#000000\" fill-rule=\"evenodd\" fill-opacity=\"1\" /><path clip-path=\"url(#clip930)\" d=\"M56.6171 473.808 L72.9365 473.808 L72.9365 477.743 L50.9921 477.743 L50.9921 473.808 Q53.6541 471.054 58.2375 466.424 Q62.8439 461.771 64.0245 460.429 Q66.2698 457.906 67.1494 456.17 Q68.0522 454.41 68.0522 452.72 Q68.0522 449.966 66.1078 448.23 Q64.1865 446.494 61.0847 446.494 Q58.8856 446.494 56.4319 447.258 Q54.0014 448.021 51.2236 449.572 L51.2236 444.85 Q54.0477 443.716 56.5014 443.137 Q58.955 442.558 60.9921 442.558 Q66.3624 442.558 69.5568 445.244 Q72.7513 447.929 72.7513 452.42 Q72.7513 454.549 71.9411 456.47 Q71.1541 458.369 69.0476 460.961 Q68.4689 461.632 65.367 464.85 Q62.2652 468.044 56.6171 473.808 Z\" fill=\"#000000\" fill-rule=\"evenodd\" fill-opacity=\"1\" /><path clip-path=\"url(#clip930)\" d=\"M82.7512 471.864 L87.6354 471.864 L87.6354 477.743 L82.7512 477.743 L82.7512 471.864 Z\" fill=\"#000000\" fill-rule=\"evenodd\" fill-opacity=\"1\" /><path clip-path=\"url(#clip930)\" d=\"M107.821 446.262 Q104.209 446.262 102.381 449.827 Q100.575 453.369 100.575 460.498 Q100.575 467.605 102.381 471.169 Q104.209 474.711 107.821 474.711 Q111.455 474.711 113.26 471.169 Q115.089 467.605 115.089 460.498 Q115.089 453.369 113.26 449.827 Q111.455 446.262 107.821 446.262 M107.821 442.558 Q113.631 442.558 116.686 447.165 Q119.765 451.748 119.765 460.498 Q119.765 469.225 116.686 473.831 Q113.631 478.415 107.821 478.415 Q102.01 478.415 98.9317 473.831 Q95.8761 469.225 95.8761 460.498 Q95.8761 451.748 98.9317 447.165 Q102.01 442.558 107.821 442.558 Z\" fill=\"#000000\" fill-rule=\"evenodd\" fill-opacity=\"1\" /><path clip-path=\"url(#clip930)\" d=\"M137.982 446.262 Q134.371 446.262 132.543 449.827 Q130.737 453.369 130.737 460.498 Q130.737 467.605 132.543 471.169 Q134.371 474.711 137.982 474.711 Q141.617 474.711 143.422 471.169 Q145.251 467.605 145.251 460.498 Q145.251 453.369 143.422 449.827 Q141.617 446.262 137.982 446.262 M137.982 442.558 Q143.793 442.558 146.848 447.165 Q149.927 451.748 149.927 460.498 Q149.927 469.225 146.848 473.831 Q143.793 478.415 137.982 478.415 Q132.172 478.415 129.094 473.831 Q126.038 469.225 126.038 460.498 Q126.038 451.748 129.094 447.165 Q132.172 442.558 137.982 442.558 Z\" fill=\"#000000\" fill-rule=\"evenodd\" fill-opacity=\"1\" /><path clip-path=\"url(#clip930)\" d=\"M186.315 452.281 L175.737 462.906 L186.315 473.484 L183.561 476.285 L172.936 465.66 L162.311 476.285 L159.58 473.484 L170.135 462.906 L159.58 452.281 L162.311 449.48 L172.936 460.105 L183.561 449.48 L186.315 452.281 Z\" fill=\"#000000\" fill-rule=\"evenodd\" fill-opacity=\"1\" /><path clip-path=\"url(#clip930)\" d=\"M198.677 473.808 L206.315 473.808 L206.315 447.443 L198.005 449.109 L198.005 444.85 L206.269 443.183 L210.945 443.183 L210.945 473.808 L218.584 473.808 L218.584 477.743 L198.677 477.743 L198.677 473.808 Z\" fill=\"#000000\" fill-rule=\"evenodd\" fill-opacity=\"1\" /><path clip-path=\"url(#clip930)\" d=\"M238.028 446.262 Q234.417 446.262 232.588 449.827 Q230.783 453.369 230.783 460.498 Q230.783 467.605 232.588 471.169 Q234.417 474.711 238.028 474.711 Q241.662 474.711 243.468 471.169 Q245.297 467.605 245.297 460.498 Q245.297 453.369 243.468 449.827 Q241.662 446.262 238.028 446.262 M238.028 442.558 Q243.838 442.558 246.894 447.165 Q249.973 451.748 249.973 460.498 Q249.973 469.225 246.894 473.831 Q243.838 478.415 238.028 478.415 Q232.218 478.415 229.139 473.831 Q226.084 469.225 226.084 460.498 Q226.084 451.748 229.139 447.165 Q232.218 442.558 238.028 442.558 Z\" fill=\"#000000\" fill-rule=\"evenodd\" fill-opacity=\"1\" /><path clip-path=\"url(#clip930)\" d=\"M262.649 425.563 L253.057 440.553 L262.649 440.553 L262.649 425.563 M261.652 422.253 L266.429 422.253 L266.429 440.553 L270.435 440.553 L270.435 443.713 L266.429 443.713 L266.429 450.333 L262.649 450.333 L262.649 443.713 L249.973 443.713 L249.973 440.045 L261.652 422.253 Z\" fill=\"#000000\" fill-rule=\"evenodd\" fill-opacity=\"1\" /><path clip-path=\"url(#clip930)\" d=\"M56.6171 209.618 L72.9365 209.618 L72.9365 213.553 L50.9921 213.553 L50.9921 209.618 Q53.6541 206.864 58.2375 202.234 Q62.8439 197.581 64.0245 196.239 Q66.2698 193.716 67.1494 191.979 Q68.0522 190.22 68.0522 188.53 Q68.0522 185.776 66.1078 184.04 Q64.1865 182.304 61.0847 182.304 Q58.8856 182.304 56.4319 183.067 Q54.0014 183.831 51.2236 185.382 L51.2236 180.66 Q54.0477 179.526 56.5014 178.947 Q58.955 178.368 60.9921 178.368 Q66.3624 178.368 69.5568 181.054 Q72.7513 183.739 72.7513 188.23 Q72.7513 190.359 71.9411 192.28 Q71.1541 194.179 69.0476 196.771 Q68.4689 197.442 65.367 200.66 Q62.2652 203.854 56.6171 209.618 Z\" fill=\"#000000\" fill-rule=\"evenodd\" fill-opacity=\"1\" /><path clip-path=\"url(#clip930)\" d=\"M82.7512 207.674 L87.6354 207.674 L87.6354 213.553 L82.7512 213.553 L82.7512 207.674 Z\" fill=\"#000000\" fill-rule=\"evenodd\" fill-opacity=\"1\" /><path clip-path=\"url(#clip930)\" d=\"M97.8669 178.993 L116.223 178.993 L116.223 182.929 L102.149 182.929 L102.149 191.401 Q103.168 191.054 104.186 190.892 Q105.205 190.706 106.223 190.706 Q112.01 190.706 115.39 193.878 Q118.77 197.049 118.77 202.466 Q118.77 208.044 115.297 211.146 Q111.825 214.225 105.506 214.225 Q103.33 214.225 101.061 213.854 Q98.8159 213.484 96.4085 212.743 L96.4085 208.044 Q98.4919 209.178 100.714 209.734 Q102.936 210.29 105.413 210.29 Q109.418 210.29 111.756 208.183 Q114.094 206.077 114.094 202.466 Q114.094 198.854 111.756 196.748 Q109.418 194.642 105.413 194.642 Q103.538 194.642 101.663 195.058 Q99.8113 195.475 97.8669 196.354 L97.8669 178.993 Z\" fill=\"#000000\" fill-rule=\"evenodd\" fill-opacity=\"1\" /><path clip-path=\"url(#clip930)\" d=\"M137.982 182.072 Q134.371 182.072 132.543 185.637 Q130.737 189.179 130.737 196.308 Q130.737 203.415 132.543 206.979 Q134.371 210.521 137.982 210.521 Q141.617 210.521 143.422 206.979 Q145.251 203.415 145.251 196.308 Q145.251 189.179 143.422 185.637 Q141.617 182.072 137.982 182.072 M137.982 178.368 Q143.793 178.368 146.848 182.975 Q149.927 187.558 149.927 196.308 Q149.927 205.035 146.848 209.641 Q143.793 214.225 137.982 214.225 Q132.172 214.225 129.094 209.641 Q126.038 205.035 126.038 196.308 Q126.038 187.558 129.094 182.975 Q132.172 178.368 137.982 178.368 Z\" fill=\"#000000\" fill-rule=\"evenodd\" fill-opacity=\"1\" /><path clip-path=\"url(#clip930)\" d=\"M186.315 188.091 L175.737 198.716 L186.315 209.294 L183.561 212.095 L172.936 201.47 L162.311 212.095 L159.58 209.294 L170.135 198.716 L159.58 188.091 L162.311 185.29 L172.936 195.915 L183.561 185.29 L186.315 188.091 Z\" fill=\"#000000\" fill-rule=\"evenodd\" fill-opacity=\"1\" /><path clip-path=\"url(#clip930)\" d=\"M198.677 209.618 L206.315 209.618 L206.315 183.253 L198.005 184.919 L198.005 180.66 L206.269 178.993 L210.945 178.993 L210.945 209.618 L218.584 209.618 L218.584 213.553 L198.677 213.553 L198.677 209.618 Z\" fill=\"#000000\" fill-rule=\"evenodd\" fill-opacity=\"1\" /><path clip-path=\"url(#clip930)\" d=\"M238.028 182.072 Q234.417 182.072 232.588 185.637 Q230.783 189.179 230.783 196.308 Q230.783 203.415 232.588 206.979 Q234.417 210.521 238.028 210.521 Q241.662 210.521 243.468 206.979 Q245.297 203.415 245.297 196.308 Q245.297 189.179 243.468 185.637 Q241.662 182.072 238.028 182.072 M238.028 178.368 Q243.838 178.368 246.894 182.975 Q249.973 187.558 249.973 196.308 Q249.973 205.035 246.894 209.641 Q243.838 214.225 238.028 214.225 Q232.218 214.225 229.139 209.641 Q226.084 205.035 226.084 196.308 Q226.084 187.558 229.139 182.975 Q232.218 178.368 238.028 178.368 Z\" fill=\"#000000\" fill-rule=\"evenodd\" fill-opacity=\"1\" /><path clip-path=\"url(#clip930)\" d=\"M262.649 161.373 L253.057 176.363 L262.649 176.363 L262.649 161.373 M261.652 158.063 L266.429 158.063 L266.429 176.363 L270.435 176.363 L270.435 179.523 L266.429 179.523 L266.429 186.143 L262.649 186.143 L262.649 179.523 L249.973 179.523 L249.973 175.855 L261.652 158.063 Z\" fill=\"#000000\" fill-rule=\"evenodd\" fill-opacity=\"1\" /><polyline clip-path=\"url(#clip932)\" style=\"stroke:#009af9; stroke-linecap:round; stroke-linejoin:round; stroke-width:4; stroke-opacity:1; fill:none\" points=\"\n",
       "  364.35,1373.22 373.165,1396.77 381.98,1396.72 390.795,1405.87 399.61,1404.41 408.425,1413.73 417.24,1410.15 426.055,1411.93 434.87,1414.59 443.685,1415.96 \n",
       "  452.5,1410.75 461.315,1415.81 470.13,1417.72 478.945,1390.99 487.761,1339.97 496.576,1445.1 505.391,1408.51 514.206,1440.37 523.021,1423.82 531.836,1405.79 \n",
       "  540.651,1315.13 549.466,1322.76 558.281,1434.5 567.096,1431.31 575.911,1345.83 584.726,1283.47 593.541,1249.73 602.356,1288.13 611.171,1322.07 619.986,1234.15 \n",
       "  628.801,1198.81 637.616,1443.44 646.431,1428.6 655.246,1180.23 664.061,1295.51 672.876,1016.93 681.691,1343.55 690.506,1024.04 699.321,1272.92 708.136,1309.36 \n",
       "  716.951,1342.2 725.766,1299.08 734.581,1229.81 743.396,1295.69 752.211,1344.39 761.026,1339.55 769.841,1176.18 778.656,1270.09 787.471,1173.18 796.286,1199.58 \n",
       "  805.102,1316.65 813.917,1235.37 822.732,1232.16 831.547,1226.6 840.362,1194.73 849.177,1166.92 857.992,1174.62 866.807,1256.24 875.622,1172.12 884.437,1297.12 \n",
       "  893.252,1226.25 902.067,1305.27 910.882,1289.65 919.697,1195.21 928.512,1124.77 937.327,1141.18 946.142,1108.9 954.957,938.595 963.772,1136.2 972.587,1288.21 \n",
       "  981.402,1208.37 990.217,1306.68 999.032,1285.86 1007.85,1215.31 1016.66,1209.36 1025.48,1212.59 1034.29,1300.95 1043.11,1312.1 1051.92,1219.84 1060.74,1103.56 \n",
       "  1069.55,1076.82 1078.37,1105.45 1087.18,739.112 1096,1361.96 1104.81,1341.16 1113.63,1170.74 1122.44,1099.54 1131.26,1150.31 1140.07,1056.47 1148.89,845.007 \n",
       "  1157.7,1069.92 1166.52,1391.43 1175.33,1063.69 1184.15,849.954 1192.96,1339.24 1201.78,666.609 1210.59,797.442 1219.41,1304.59 1228.22,980.554 1237.04,1191.67 \n",
       "  1245.85,1077.2 1254.67,665.986 1263.48,1275.44 1272.3,87.9763 1281.11,1371.35 1289.93,1096.92 1298.74,1112.96 1307.56,1144.7 1316.37,1133.3 1325.19,1068.27 \n",
       "  1334,1071.98 1342.82,1107.05 1351.63,810.068 1360.45,1170.89 1369.26,1291.94 1378.08,1251.58 1386.89,1158.74 1395.71,1183.65 1404.52,1132.54 1413.34,1237.19 \n",
       "  1422.15,1151.38 1430.97,1183.84 1439.78,1175.12 1448.6,1166.86 1457.41,1178.15 1466.23,1034.94 1475.04,1322.56 1483.86,1187.4 1492.67,1186.27 1501.49,1277.22 \n",
       "  1510.3,1186.26 1519.12,1267.19 1527.93,1115.77 1536.75,1169.07 1545.56,1180.22 1554.38,1148.37 1563.19,975.168 1572.01,1071.98 1580.82,1314.84 1589.64,1090.14 \n",
       "  1598.45,1377.35 1607.27,1445.72 1616.08,1323.72 1624.9,1131.9 1633.71,1348.12 1642.53,1218.7 1651.34,1011.53 1660.16,1145.32 1668.97,1301.06 1677.79,871.218 \n",
       "  1686.6,881.775 1695.42,768.652 1704.23,1356.66 1713.05,1077.65 1721.86,1149.34 1730.68,1390.26 1739.49,1435.25 1748.31,1313.03 1757.12,1139.94 1765.94,704.256 \n",
       "  1774.75,832.651 1783.57,847.172 1792.38,232.447 1801.2,1210.72 1810.01,976.834 1818.83,813.111 1827.64,593.149 1836.46,595.212 1845.27,1376.89 1854.09,1019.99 \n",
       "  1862.9,1326.11 1871.72,1162.08 1880.53,1086.34 1889.35,1292.5 1898.16,1226.84 1906.98,1182.23 1915.79,1106.05 1924.61,1245.61 1933.43,1323.74 1942.24,1319.29 \n",
       "  1951.06,1110.04 1959.87,1324.2 1968.69,1081.43 1977.5,1312.37 1986.32,1201.38 1995.13,1284.31 2003.95,1249.48 2012.76,1130.85 2021.58,957.529 2030.39,1261.74 \n",
       "  2039.21,1218.21 2048.02,1289.6 2056.84,1147.61 2065.65,1326.68 2074.47,853.099 2083.28,1424.37 2092.1,1307.64 2100.91,846.7 2109.73,778.366 2118.54,946.694 \n",
       "  2127.36,895.171 2136.17,1123.57 2144.99,1012.14 2153.8,1310.96 2162.62,1279.16 2171.43,1155.16 2180.25,1260.23 2189.06,609.76 2197.88,1306.83 2206.69,1059.01 \n",
       "  2215.51,782.51 2224.32,1280.52 2233.14,897.367 2241.95,253.395 2250.77,1411.58 2259.58,1048.7 2268.4,231.955 2277.21,1104.49 2286.03,864.219 2294.84,952.557 \n",
       "  \n",
       "  \"/>\n",
       "<path clip-path=\"url(#clip930)\" d=\"\n",
       "M2004.75 198.898 L2284.55 198.898 L2284.55 95.2176 L2004.75 95.2176  Z\n",
       "  \" fill=\"#ffffff\" fill-rule=\"evenodd\" fill-opacity=\"1\"/>\n",
       "<polyline clip-path=\"url(#clip930)\" style=\"stroke:#000000; stroke-linecap:round; stroke-linejoin:round; stroke-width:4; stroke-opacity:1; fill:none\" points=\"\n",
       "  2004.75,198.898 2284.55,198.898 2284.55,95.2176 2004.75,95.2176 2004.75,198.898 \n",
       "  \"/>\n",
       "<polyline clip-path=\"url(#clip930)\" style=\"stroke:#009af9; stroke-linecap:round; stroke-linejoin:round; stroke-width:4; stroke-opacity:1; fill:none\" points=\"\n",
       "  2027.48,147.058 2163.9,147.058 \n",
       "  \"/>\n",
       "<path clip-path=\"url(#clip930)\" d=\"M2200.48 166.745 Q2198.68 171.375 2196.97 172.787 Q2195.25 174.199 2192.38 174.199 L2188.98 174.199 L2188.98 170.634 L2191.48 170.634 Q2193.24 170.634 2194.21 169.8 Q2195.18 168.967 2196.36 165.865 L2197.13 163.921 L2186.64 138.412 L2191.16 138.412 L2199.26 158.689 L2207.36 138.412 L2211.87 138.412 L2200.48 166.745 Z\" fill=\"#000000\" fill-rule=\"evenodd\" fill-opacity=\"1\" /><path clip-path=\"url(#clip930)\" d=\"M2219.16 160.402 L2226.8 160.402 L2226.8 134.037 L2218.49 135.703 L2218.49 131.444 L2226.76 129.778 L2231.43 129.778 L2231.43 160.402 L2239.07 160.402 L2239.07 164.338 L2219.16 164.338 L2219.16 160.402 Z\" fill=\"#000000\" fill-rule=\"evenodd\" fill-opacity=\"1\" /></svg>\n"
      ]
     },
     "execution_count": 14,
     "metadata": {},
     "output_type": "execute_result"
    }
   ],
   "source": [
    "using Plots\n",
    "ex = E`JuliaRL_BasicDQN_Vtol`\n",
    "run(ex)\n",
    "plot(ex.hook.rewards)"
   ]
  },
  {
   "cell_type": "raw",
   "id": "10dd0fe6",
   "metadata": {},
   "source": [
    "close_visualization();"
   ]
  }
 ],
 "metadata": {
  "@webio": {
   "lastCommId": null,
   "lastKernelId": null
  },
  "kernelspec": {
   "display_name": "Julia 1.8.0",
   "language": "julia",
   "name": "julia-1.8"
  },
  "language_info": {
   "file_extension": ".jl",
   "mimetype": "application/julia",
   "name": "julia",
   "version": "1.8.0"
  }
 },
 "nbformat": 4,
 "nbformat_minor": 5
}
