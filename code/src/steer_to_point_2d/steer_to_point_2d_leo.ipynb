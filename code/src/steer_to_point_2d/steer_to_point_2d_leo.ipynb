{
 "cells": [
  {
   "cell_type": "code",
   "execution_count": null,
   "outputs": [],
   "source": [
    "## Init Bionic VTOL\n",
    "include(\"../Flyonic.jl\");\n",
    "using .Flyonic;\n",
    "\n",
    "using Rotations; # used for initial position\n",
    "\n",
    "using ReinforcementLearning;\n",
    "using StableRNGs;\n",
    "using Flux;\n",
    "using Flux.Losses;\n",
    "using Random;\n",
    "using IntervalSets;\n",
    "using LinearAlgebra;\n",
    "using Distributions;\n",
    "\n",
    "using Plots;\n",
    "using Statistics;\n",
    "\n",
    "using BSON: @save, @load # save mode\n",
    "create_visualization();\n",
    "\n",
    "# indicates how many threads Julia was started with. This is important for the multi-threaded environment\n",
    "Threads.nthreads()\n",
    "### Create Reinforcement Learning Environment\n",
    "\n",
    "################################ TODO ################################\n",
    "# You can initialization global constants here.\n",
    "# E.g. a fixed point in the beginning of training (for testing/overfitting)\n",
    "# Define global constants for initial position and rotation\n",
    "\n",
    "#####\n",
    "##### first coordinate - red axis - x\n",
    "##### second coordinate - green axis - y\n",
    "##### third coordinate - blue axis - z\n",
    "#####\n",
    "x_init = [0.0, 0.0, 0.0];\n",
    "rot_init = Matrix(UnitQuaternion(RotZ(-pi/2.0) * RotY(-pi/2.0) * RotX(pi)));\n",
    "\n",
    "# Defaault values for VtolEnv variables\n",
    "waypoints_default = generate_trajectory(2);\n",
    "proximity_tolerance_default = 0.5;\n",
    "timeout_default = 30.0;\n",
    "\n",
    "v_min_default = 1.0;\n",
    "v_max_default = 2.0;\n",
    "w_max_default = 15.0;\n",
    "\n",
    "succes_dist_default = 0.25;\n",
    "######################################################################"
   ],
   "metadata": {
    "collapsed": false
   }
  },
  {
   "cell_type": "code",
   "execution_count": 17,
   "outputs": [
    {
     "name": "stdout",
     "output_type": "stream",
     "text": [
      "\u001B[0m\u001B[1mTest Summary:              | \u001B[22m\u001B[32m\u001B[1mPass  \u001B[22m\u001B[39m\u001B[36m\u001B[1mTotal  \u001B[22m\u001B[39m\u001B[0m\u001B[1mTime\u001B[22m\n",
      "random policy with VtolEnv | \u001B[32m2000  \u001B[39m\u001B[36m 2000  \u001B[39m\u001B[0m0.0s\n"
     ]
    }
   ],
   "source": [
    "mutable struct VtolEnv{A,T,ACT,R<:AbstractRNG} <: AbstractEnv # Parametric Constructor for a subtype of AbstractEnv\n",
    "    action_space::A # action space\n",
    "    observation_space::Space{Vector{ClosedInterval{T}}} # observation space\n",
    "    state::Vector{T} # current state space\n",
    "    action::ACT # action space\n",
    "    done::Bool # done\n",
    "    t::T # time\n",
    "    rng::R # random number generator\n",
    "\n",
    "    name::String # for multible environments\n",
    "    visualization::Bool # visualization\n",
    "    realtime::Bool # realtime\n",
    "\n",
    "    x_previous::Vector{T} # previous position\n",
    "    x_W::Vector{T} # current position\n",
    "    v_B::Vector{T} # velocity\n",
    "    R_W::Matrix{T} # current rotation\n",
    "    w_B::Vector{T} # rotation velocitiy\n",
    "    wind_W::Vector{T} # wind\n",
    "    delta_t::T # simulation time step\n",
    "\n",
    "    ################################ TODO ################################\n",
    "    # Extend the environment here.\n",
    "    # Everything you need additionaly in your environment also go in here.\n",
    "    # E.g. a trajectory\n",
    "\n",
    "    # Pathway variables\n",
    "    waypoints::Vector{Vector{T}}\n",
    "    proximity_tolerance::T\n",
    "    timeout::T\n",
    "    succes_dist::T\n",
    "\n",
    "    # Kinetic variables\n",
    "    v_min::T\n",
    "    v_max::T # maximum allowed velocity\n",
    "    w_max::T # maximum allowed velocity\n",
    "\n",
    "\n",
    "    ######################################################################\n",
    "end\n",
    "\n",
    "\n",
    "# define a keyword-based constructor for the type declared in the mutable struct typedef.\n",
    "# It could also be done with the macro Base.@kwdef.\n",
    "function VtolEnv(;\n",
    "    rng = Random.GLOBAL_RNG, # random number generation\n",
    "    name = \"vtol\",\n",
    "            visualization = false,\n",
    "    realtime = false,\n",
    "    kwargs...) # let the function take an arbitrary number of keyword arguments\n",
    "\n",
    "    T = Float64; # explicit type which is used e.g. in state. Cannot be altered due to the poor matrix defininon.\n",
    "    A = Space{Vector{ClosedInterval{T}}};\n",
    "\n",
    "    action_space = Space(\n",
    "        ClosedInterval{T}[\n",
    "            0.0..2.0, # propeller 1\n",
    "            0.0..2.0, # propeller 2\n",
    "            ],\n",
    "    ) # propeller 1 and 2\n",
    "\n",
    "    state_space = Space( # Three continuous values in state space.\n",
    "        ClosedInterval{T}[\n",
    "            ################################ TODO ################################\n",
    "            # Implement an observation space.\n",
    "            # Here is an example space. You can change it if desired.\n",
    "            # You have to extend it.\n",
    "            # Orientate yourself on the observation space from the paper.\n",
    "\n",
    "            typemin(T)..typemax(T), #1 previous position along x WORLD coordinates\n",
    "            typemin(T)..typemax(T), #2 previous position along z WORLD coordinates\n",
    "\n",
    "            typemin(T)..typemax(T), #3 current position along x WORLD coordinates\n",
    "            typemin(T)..typemax(T), #4 current position along z WORLD coordinates\n",
    "\n",
    "            typemin(T)..typemax(T), #5 velocity along x BODY coordinates\n",
    "            typemin(T)..typemax(T), #6 velocity along y BODY coordinates\n",
    "\n",
    "            typemin(T)..typemax(T), #7 rotational velocity along z BODY coordinates\n",
    "\n",
    "            typemin(T)..typemax(T), #8 alive time\n",
    "\n",
    "            typemin(T)..typemax(T), #9 left actuator fire\n",
    "            typemin(T)..typemax(T), #10 right actuator fire\n",
    "            ######################################################################\n",
    "            ],\n",
    "    )\n",
    "\n",
    "    if visualization # visualizes VTOL\n",
    "        create_VTOL(name, actuators = true, color_vec=[1.0; 1.0; 0.6; 1.0]);\n",
    "    end\n",
    "\n",
    "    environment = VtolEnv(\n",
    "        action_space, # action space\n",
    "        state_space, # observation space\n",
    "        zeros(T, length(state_space)), # current state space\n",
    "        rand(action_space), # initialization action\n",
    "        false, # episode done\n",
    "        0.0, # time\n",
    "        rng, # random number generator\n",
    "\n",
    "        name,\n",
    "        visualization,\n",
    "        realtime,\n",
    "\n",
    "        zeros(T, 3), # x_previous, previous position\n",
    "        zeros(T, 3), # x_W, current position\n",
    "        zeros(T, 3), # v_B, velocity\n",
    "        rot_init, # R_W, current rotation\n",
    "        zeros(T, 3), # w_B\n",
    "        zeros(T, 3), # wind_W\n",
    "        T(0.02), # simulation time step\n",
    "\n",
    "        ################################## TODO ##################################\n",
    "        # Initialization everything you need additionaly in your environment here\n",
    "\n",
    "        waypoints_default,\n",
    "        proximity_tolerance_default,\n",
    "        timeout_default,\n",
    "        succes_dist_default,\n",
    "        v_min_default,\n",
    "        v_max_default,\n",
    "        w_max_default,\n",
    "\n",
    "        ##########################################################################\n",
    "    )\n",
    "\n",
    "    reset!(environment)\n",
    "    return environment\n",
    "end;\n",
    "\n",
    "methods(VtolEnv)\n",
    "\n",
    "# Just for explanation:\n",
    "# 1. A mutable Struct is created. A struct is a constructor and a constructor is a function that creates new objects.\n",
    "# 2. A outer keyword-based constructor method is added for the type declared in the mutable struct typedef before.'\n",
    "# So now we have a function with two methods. Julia will decide which method to call by multiple dispatch.\n",
    "\n",
    "## Define the RL interface\n",
    "\n",
    "Random.seed!(env::VtolEnv, seed) = Random.seed!(env.rng, seed)\n",
    "RLBase.action_space(env::VtolEnv) = env.action_space\n",
    "RLBase.state_space(env::VtolEnv) = env.observation_space\n",
    "RLBase.is_terminated(env::VtolEnv) = env.done\n",
    "RLBase.state(env::VtolEnv) = env.state\n",
    "\n",
    "function computeReward(env::VtolEnv{A,T}) where {A,T}\n",
    "    reward = 0.0\n",
    "\n",
    "    ################################ TODO ################################\n",
    "    # Implement the reward function.\n",
    "    # Orientate on the paper.\n",
    "\n",
    "    # Hyperparameters\n",
    "    kp = 5.0;\n",
    "    kw = 0.01;\n",
    "    kwp = 5.0;\n",
    "    # max distance\n",
    "    dmax = 0.3;\n",
    "    kd = 0.03;\n",
    "\n",
    "    # Gates and their length\n",
    "    gates = env.waypoints;\n",
    "    n = length(gates);\n",
    "    # closest point on the guiding path phi\n",
    "    # its line-segment index lp\n",
    "    x_old = [env.state[1], 0.0, env.state[2]];\n",
    "    x_new = [env.state[3], 0.0, env.state[4]];\n",
    "    lp_old, phi_old = calculate_progress(gates, x_old);\n",
    "    lp_new, phi_new = calculate_progress(gates, x_new);\n",
    "    # previous time step spt_old\n",
    "    # current time step spt_new\n",
    "    spt_old = norm(phi_old - gates[lp_old]);\n",
    "    spt_new = norm(phi_new - gates[lp_new]);\n",
    "    # rogress reward rpt at time t is as a difference in reached\n",
    "    # distance between the current and previous time step\n",
    "    rpt = spt_new - spt_old\n",
    "    spt = spt_new\n",
    "\n",
    "    # The sum that is later going to be the divisor\n",
    "    # for the reached distance reward\n",
    "    divisor_g = norm(gates[2] - gates[1]);\n",
    "    # reached distance reward ks\n",
    "    ks = 6.0 * env.v_max * env.delta_t / divisor_g;\n",
    "\n",
    "    # steered at waypoint must be 1 bigger than the current line segment\n",
    "    # distance to new waypoint dw\n",
    "    dwp = norm(x_new - gates[2]);\n",
    "    # tolerance for proximity to a waypoint\n",
    "    r_tol = env.proximity_tolerance;\n",
    "    # waypoint reward rwp\n",
    "    rwp = dwp <= r_tol ? exp(-dwp/r_tol) : 0.0;\n",
    "\n",
    "    # absolute velocity\n",
    "    v_vector = [env.state[5], env.state[6], 0.0]\n",
    "    v = norm(v_vector);\n",
    "    # rotation speed\n",
    "    w = abs(env.state[7]);\n",
    "\n",
    "\n",
    "    # distance from closes point on the guiding path\n",
    "    gd = norm(x_new - phi_new);\n",
    "    # Scaling factors\n",
    "    svmax = v > env.v_max ? 10^(env.v_max - v) : 1.0;\n",
    "    svmin = v < env.v_min ?  10^(v - env.v_min) : 1.0;\n",
    "    sgd = gd > dmax  ? exp(dmax - gd) : 1.0;\n",
    "    # Ultimate scaling factor\n",
    "    s = svmax * svmin * sgd;\n",
    "    # Scaling the rewards\n",
    "    kp = s * kp;\n",
    "    ks = s * ks;\n",
    "\n",
    "    ### Extra rewards\n",
    "    # proximity to path tolerance\n",
    "    path_tol = 0.3 * norm(env.waypoints[2] - env.waypoints[1]);\n",
    "    # staying alive as long as possible\n",
    "    k_stayup = 0.8;\n",
    "    r_stayup = env.state[4] >= 0 && gd <= path_tol ? exp(-(gd + dwp)) : 0.0;\n",
    "    # having a small actuator difference\n",
    "    k_propeller = 0.5;\n",
    "    r_propeller = exp(-(abs(env.state[9] - env.state[10])));\n",
    "    # Having reached the target\n",
    "    r_succes = dwp <= env.succes_dist ? 1000000.0 * exp(-env.t) : 0.0;\n",
    "\n",
    "    # Sum it all\n",
    "    rewards = kp * rpt + ks * spt + kwp * rwp + k_stayup *r_stayup + k_propeller * r_propeller + r_succes;\n",
    "    punishments = kw * w + kd * dwp + kd * gd;\n",
    "    total_reward = rewards - punishments;\n",
    "\n",
    "    ################################################################################################\n",
    "\n",
    "    return total_reward\n",
    "end\n",
    "\n",
    "RLBase.reward(env::VtolEnv{A,T}) where {A,T} = computeReward(env)\n",
    "\n",
    "function RLBase.reset!(env::VtolEnv{A,T}) where {A,T}\n",
    "    # Visualize initial state\n",
    "    if env.visualization\n",
    "        set_transform(env.name, env.x_W, QuatRotation(env.R_W));\n",
    "        set_actuators(env.name, [0.0; 0.0; 0.0; 0.0]);\n",
    "    end\n",
    "\n",
    "    env.x_W = [0.0; 0.0; 0.0];\n",
    "    env.v_B = [0.0; 0.0; 0.0];\n",
    "    env.R_W = rot_init;\n",
    "\n",
    "    env.w_B = [0.0; 0.0; 0.0];\n",
    "    env.wind_W = [0.0; 0.0; 0.0];\n",
    "\n",
    "    env.t = 0.0;\n",
    "    env.action = [0.0, 0.0];\n",
    "    env.done = false;\n",
    "\n",
    "    ################################ TODO ################################\n",
    "    # Reset environment.\n",
    "    # Is called if the training terminates\n",
    "    # (e.g. if drone crashes or successfully reaches point)\n",
    "    # HINT: Everything you added to your environment needs to be reseted.\n",
    "    #       Compare it with the initialization.\n",
    "\n",
    "    env.state[1] = env.x_previous[1]; # update previous x-coordinate\n",
    "    env.state[2] = env.x_previous[3]; # update previous z-coordinate\n",
    "\n",
    "    env.state[3] = env.x_W[1]; # position along x\n",
    "    env.state[4] = env.x_W[3]; # position along z\n",
    "\n",
    "    env.state[5] = env.v_B[1]; # velocity along x BODY coordinates\n",
    "    env.state[6] = env.v_B[2]; # velocity along y BODY coordinates\n",
    "\n",
    "    env.state[7] = env.w_B[3];  # rotational velocity along z BODY coordinates\n",
    "\n",
    "    env.state[8] = env.t; # time the drone is actually alive\n",
    "\n",
    "    env.state[9] = env.action[1] # propeller 1\n",
    "    env.state[10] = env.action[2]; #  propeller 2\n",
    "\n",
    "    env.x_previous = x_init; # starting position\n",
    "    env.delta_t = T(0.02); # Δ time\n",
    "\n",
    "    env.waypoints = waypoints_default;\n",
    "    env.proximity_tolerance = proximity_tolerance_default;\n",
    "    env.timeout = timeout_default;\n",
    "    env.succes_dist = succes_dist_default;\n",
    "    env.v_min = v_min_default;\n",
    "    env.v_max = v_max_default;\n",
    "    env.w_max = w_max_default;\n",
    "\n",
    "    # Visualize the waypoints\n",
    "    radius = 0.1;\n",
    "    visualize_waypoints(env.waypoints, radius);\n",
    "    ######################################################################\n",
    "\n",
    "    nothing\n",
    "end;\n",
    "\n",
    "# defines a methods for a callable object.\n",
    "# So when a VtolEnv object is created, it has this method that can be called\n",
    "function (env::VtolEnv)(a)\n",
    "    # set the propeller trust and the two flaps 2D case\n",
    "    # flaps set to 0.0\n",
    "    next_action = [a[1], a[2], 0.0, 0.0]\n",
    "\n",
    "    _step!(env, next_action)\n",
    "end\n",
    "\n",
    "env = VtolEnv();\n",
    "methods(env) # Just to explain which methods the object has\n",
    "\n",
    "\n",
    "function _step!(env::VtolEnv, next_action)\n",
    "    # Update previous\n",
    "    env.x_previous = [env.state[3], 0.0, env.state[4]];\n",
    "\n",
    "    # caluclate wind impact\n",
    "    v_in_wind_B = vtol_add_wind(env.v_B, env.R_W, env.wind_W);\n",
    "\n",
    "    # caluclate aerodynamic forces\n",
    "    torque_B, force_B = vtol_model(v_in_wind_B, next_action, eth_vtol_param);\n",
    "\n",
    "    # Limit to 2D\n",
    "    force_B[3] = 0.0; # Body Z\n",
    "    env.v_B[3] = 0.0;\n",
    "    torque_B[1] = 0.0;\n",
    "    torque_B[2] = 0.0;  # Body X and Y\n",
    "    env.w_B[1] = 0.0;\n",
    "    env.w_B[2] = 0.0;\n",
    "\n",
    "    # integrate rigid body dynamics for delta_t\n",
    "    env.x_W, env.v_B, env.R_W, env.w_B, time = rigid_body_simple(torque_B, force_B, env.x_W, env.v_B, env.R_W, env.w_B, env.t, env.delta_t, eth_vtol_param);\n",
    "\n",
    "    if env.realtime\n",
    "        sleep(env.delta_t); # just a dirty hack. this is of course slower than real time.\n",
    "    end\n",
    "\n",
    "    # Visualize the new state\n",
    "    if env.visualization\n",
    "        set_transform(env.name, env.x_W, QuatRotation(env.R_W));\n",
    "        set_actuators(env.name, next_action);\n",
    "    end\n",
    "\n",
    "    env.t += env.delta_t\n",
    "\n",
    "    ################################ TODO ################################\n",
    "\n",
    "    env.state[1] = env.x_previous[1]; # update previous x-coordinate\n",
    "    env.state[2] = env.x_previous[3]; # update previous z-coordinate\n",
    "\n",
    "    env.state[3] = env.x_W[1]; # position along x\n",
    "    env.state[4] = env.x_W[3]; # position along z\n",
    "\n",
    "    env.state[5] = env.v_B[1]; # velocity along x BODY coordinates\n",
    "    env.state[6] = env.v_B[2]; # velocity along y BODY coordinates\n",
    "\n",
    "    env.state[7] = env.w_B[3];  # rotational velocity along z BODY coordinates\n",
    "\n",
    "    env.state[8] = env.t; # time the drone is actually alive\n",
    "\n",
    "    env.state[9] = env.action[1] # propeller 1\n",
    "    env.state[10] = env.action[2]; #  propeller 2\n",
    "\n",
    "    # Instead of the floor level which assumes the simulation will only run upstairs,\n",
    "    # Here a variables for being too far from the next wp after reaching a previous waypoint can be used instead\n",
    "\n",
    "    segment_length = norm(env.waypoints[2] - env.waypoints[1])\n",
    "    k_failure = 1.4;\n",
    "    wp_dist = norm(env.waypoints[2] - env.x_W)\n",
    "\n",
    "    env.done =\n",
    "        norm(env.w_B) > env.w_max || # stop if body rate is too high\n",
    "        wp_dist > k_failure * segment_length ||\n",
    "        env.t > env.timeout ||\n",
    "        wp_dist < env.succes_dist;\n",
    "    ######################################################################\n",
    "\n",
    "    nothing\n",
    "end;\n",
    "\n",
    "RLBase.test_runnable!(env)\n",
    "\n",
    "# changed to 10s (5s before) per point and 5.0m too far off path (2.0 before)\n",
    "# Show an overview of the environment.\n",
    "\n",
    "## Setup of a reinforcement learning experiment.\n",
    "\n",
    "seed = 123\n",
    "rng = StableRNG(seed)\n",
    "    N_ENV = 8\n",
    "    UPDATE_FREQ = 1024\n",
    "\n",
    "    vtol_envs = [\n",
    "        # use different names for the visualization\n",
    "        VtolEnv(; rng = StableRNG(hash(seed+i)), name = \"vtol$i\") for i in 1:N_ENV\n",
    "    ];\n",
    "    # define multiple environments for parallel training\n",
    "    env = MultiThreadEnv(vtol_envs)\n",
    "\n",
    "    # Define the function approximator\n",
    "    # TODO: research briefly what Actor Critic is\n",
    "    # TODO: research what ADAM is\n",
    "    # Define the function approximator\n",
    "    ns, na = length(state(env[1])), length(action_space(env[1]))\n",
    "    #ActorCritic Policy\n",
    "    approximator = ActorCritic(\n",
    "                #ns - number states as input\n",
    "                #3 layer; last layer splitted in mean and variance; then action is sampled\n",
    "                actor = GaussianNetwork(\n",
    "                    pre = Chain(\n",
    "                        Dense(ns, 32, relu; initW = glorot_uniform(rng)),\n",
    "                        Dense(32, 16, relu; initW = glorot_uniform(rng)),\n",
    "                        Dense(16, 16, relu; initW = glorot_uniform(rng)),\n",
    "                    ),\n",
    "                    μ = Chain(\n",
    "                        Dense(16, na; initW = glorot_uniform(rng))\n",
    "                    ),\n",
    "                    logσ = Chain(\n",
    "                        Dense(16, na; initW = glorot_uniform(rng))\n",
    "                    ),\n",
    "                ),\n",
    "                critic = Chain(\n",
    "                    Dense(ns, 32, relu; initW = glorot_uniform(rng)),\n",
    "                    Dense(32, 16, relu; initW = glorot_uniform(rng)),\n",
    "                    Dense(16, 1; initW = glorot_uniform(rng)),\n",
    "                ),\n",
    "                optimizer = ADAM(1e-3),\n",
    "            );\n",
    "\n",
    "        agent = Agent( # A wrapper of an AbstractPolicy\n",
    "        # AbstractPolicy: the policy to use\n",
    "        # (optional) TODO: change eventually\n",
    "        # TODO: research briefly what PPO is\n",
    "        policy = PPOPolicy(;\n",
    "                    approximator = approximator |> gpu,\n",
    "                    update_freq=UPDATE_FREQ,\n",
    "                    dist = Normal,\n",
    "                    # For parameters visit the docu: https://juliareinforcementlearning.org/docs/rlzoo/#ReinforcementLearningZoo.PPOPolicy\n",
    "                    ),\n",
    "\n",
    "        # AbstractTrajectory: used to store transitions between an agent and an environment source\n",
    "        trajectory = PPOTrajectory(;\n",
    "            capacity = UPDATE_FREQ,\n",
    "            state = Matrix{Float64} => (ns, N_ENV),\n",
    "            action = Matrix{Float64} => (na, N_ENV),\n",
    "            action_log_prob = Vector{Float64} => (N_ENV,),\n",
    "            reward = Vector{Float64} => (N_ENV,),\n",
    "            terminal = Vector{Bool} => (N_ENV,),\n",
    "        ),\n",
    "    );\n",
    "\n",
    "\n",
    "function saveModel(t, agent, env)\n",
    "    model = cpu(agent.policy.approximator)\n",
    "    f = joinpath(\"./RL_models_2dpoint_leo/\", \"vtol_2D_ppo_$t.bson\") # TODO: save model here\n",
    "    @save f model\n",
    "    println(\"parameters at step $t saved to $f\")\n",
    "end;\n",
    "\n",
    "function loadModel()\n",
    "    f = joinpath(\"./RL_models_2dpoint_leo/\", \"vtol_2D_ppo_1500000.bson\") # TODO: load model here\n",
    "    @load f model\n",
    "    return model\n",
    "end;\n",
    "\n",
    "function validate_policy(t, agent, env)\n",
    "    run(agent.policy, test_env, StopAfterEpisode(1), episode_test_reward_hook)\n",
    "    # the result of the hook\n",
    "    println(\"test reward at step $t: $(episode_test_reward_hook.rewards[end])\")\n",
    "\n",
    "end;\n",
    "\n",
    "episode_test_reward_hook = TotalRewardPerEpisode(;is_display_on_exit=false)\n",
    "# create a env only for reward test\n",
    "test_env = VtolEnv(;name = \"testVTOL\", visualization = true, realtime = true);\n",
    "\n"
   ],
   "metadata": {
    "collapsed": false
   }
  },
  {
   "cell_type": "code",
   "execution_count": 18,
   "outputs": [
    {
     "name": "stderr",
     "output_type": "stream",
     "text": [
      "\u001B[32mProgress:   1%|▎                                        |  ETA: 0:05:38\u001B[39m"
     ]
    },
    {
     "name": "stdout",
     "output_type": "stream",
     "text": [
      "test reward at step 10000: 8.189896407461962\n"
     ]
    },
    {
     "name": "stderr",
     "output_type": "stream",
     "text": [
      "\u001B[32mProgress:   1%|▌                                        |  ETA: 0:06:36\u001B[39m"
     ]
    },
    {
     "name": "stdout",
     "output_type": "stream",
     "text": [
      "test reward at step 20000: 17.40214913554306\n"
     ]
    },
    {
     "name": "stderr",
     "output_type": "stream",
     "text": [
      "\u001B[32mProgress:   2%|▊                                        |  ETA: 0:07:20\u001B[39m"
     ]
    },
    {
     "name": "stdout",
     "output_type": "stream",
     "text": [
      "test reward at step 30000: 35.438208864475996\n"
     ]
    },
    {
     "name": "stderr",
     "output_type": "stream",
     "text": [
      "\u001B[32mProgress:   3%|█▏                                       |  ETA: 0:10:36\u001B[39m"
     ]
    },
    {
     "name": "stdout",
     "output_type": "stream",
     "text": [
      "test reward at step 40000: 35.153718224628854\n"
     ]
    },
    {
     "name": "stderr",
     "output_type": "stream",
     "text": [
      "\u001B[32mProgress:   3%|█▎                                       |  ETA: 0:09:46\u001B[39m"
     ]
    },
    {
     "name": "stdout",
     "output_type": "stream",
     "text": [
      "test reward at step 50000: 80.76781828061324\n"
     ]
    },
    {
     "name": "stderr",
     "output_type": "stream",
     "text": [
      "\u001B[32mProgress:   4%|█▋                                       |  ETA: 0:11:28\u001B[39m"
     ]
    },
    {
     "name": "stdout",
     "output_type": "stream",
     "text": [
      "test reward at step 60000: 199.12817608078652\n"
     ]
    },
    {
     "name": "stderr",
     "output_type": "stream",
     "text": [
      "\u001B[32mProgress:   5%|█▉                                       |  ETA: 0:14:38\u001B[39m"
     ]
    },
    {
     "name": "stdout",
     "output_type": "stream",
     "text": [
      "test reward at step 70000: 139.10237333150636\n"
     ]
    },
    {
     "name": "stderr",
     "output_type": "stream",
     "text": [
      "\u001B[32mProgress:   5%|██                                       |  ETA: 0:17:10\u001B[39m"
     ]
    },
    {
     "name": "stdout",
     "output_type": "stream",
     "text": [
      "test reward at step 80000: 136.90923053443464\n"
     ]
    },
    {
     "name": "stderr",
     "output_type": "stream",
     "text": [
      "\u001B[32mProgress:   6%|██▍                                      |  ETA: 0:18:32\u001B[39m"
     ]
    },
    {
     "name": "stdout",
     "output_type": "stream",
     "text": [
      "test reward at step 90000: 69.35285582401436\n"
     ]
    },
    {
     "name": "stderr",
     "output_type": "stream",
     "text": [
      "\u001B[32mProgress:   6%|██▋                                      |  ETA: 0:17:54\u001B[39m"
     ]
    },
    {
     "name": "stdout",
     "output_type": "stream",
     "text": [
      "parameters at step 100000 saved to ./RL_models_2dpoint_leo/vtol_2D_ppo_100000.bson\n",
      "test reward at step 100000: 99.3214013667428\n"
     ]
    },
    {
     "name": "stderr",
     "output_type": "stream",
     "text": [
      "\u001B[32mProgress:   7%|███                                      |  ETA: 0:17:52\u001B[39m"
     ]
    },
    {
     "name": "stdout",
     "output_type": "stream",
     "text": [
      "test reward at step 110000: 147.67046758226195\n"
     ]
    },
    {
     "name": "stderr",
     "output_type": "stream",
     "text": [
      "\u001B[32mProgress:   8%|███▎                                     |  ETA: 0:18:31\u001B[39m"
     ]
    },
    {
     "name": "stdout",
     "output_type": "stream",
     "text": [
      "test reward at step 120000: 109.85695162362477\n"
     ]
    },
    {
     "name": "stderr",
     "output_type": "stream",
     "text": [
      "\u001B[32mProgress:   9%|███▌                                     |  ETA: 0:19:27\u001B[39m"
     ]
    },
    {
     "name": "stdout",
     "output_type": "stream",
     "text": [
      "test reward at step 130000: 104.68098211462951\n"
     ]
    },
    {
     "name": "stderr",
     "output_type": "stream",
     "text": [
      "\u001B[32mProgress:   9%|███▊                                     |  ETA: 0:18:48\u001B[39m"
     ]
    },
    {
     "name": "stdout",
     "output_type": "stream",
     "text": [
      "test reward at step 140000: 122.48894903855265\n"
     ]
    },
    {
     "name": "stderr",
     "output_type": "stream",
     "text": [
      "\u001B[32mProgress:  10%|████                                     |  ETA: 0:18:50\u001B[39m"
     ]
    },
    {
     "name": "stdout",
     "output_type": "stream",
     "text": [
      "test reward at step 150000: 72.0052381595224\n"
     ]
    },
    {
     "name": "stderr",
     "output_type": "stream",
     "text": [
      "\u001B[32mProgress:  11%|████▎                                    |  ETA: 0:18:16\u001B[39m"
     ]
    },
    {
     "name": "stdout",
     "output_type": "stream",
     "text": [
      "test reward at step 160000: 69.0236395371923\n"
     ]
    },
    {
     "name": "stderr",
     "output_type": "stream",
     "text": [
      "\u001B[32mProgress:  11%|████▋                                    |  ETA: 0:17:50\u001B[39m"
     ]
    },
    {
     "name": "stdout",
     "output_type": "stream",
     "text": [
      "test reward at step 170000: 80.5391611502734\n"
     ]
    },
    {
     "name": "stderr",
     "output_type": "stream",
     "text": [
      "\u001B[32mProgress:  12%|████▉                                    |  ETA: 0:18:09\u001B[39m"
     ]
    },
    {
     "name": "stdout",
     "output_type": "stream",
     "text": [
      "test reward at step 180000: 83.80952734104382\n"
     ]
    },
    {
     "name": "stderr",
     "output_type": "stream",
     "text": [
      "\u001B[32mProgress:  12%|█████▏                                   |  ETA: 0:17:39\u001B[39m"
     ]
    },
    {
     "name": "stdout",
     "output_type": "stream",
     "text": [
      "test reward at step 190000: 101.04553907798952\n"
     ]
    },
    {
     "name": "stderr",
     "output_type": "stream",
     "text": [
      "\u001B[32mProgress:  13%|█████▍                                   |  ETA: 0:17:23\u001B[39m"
     ]
    },
    {
     "name": "stdout",
     "output_type": "stream",
     "text": [
      "parameters at step 200000 saved to ./RL_models_2dpoint_leo/vtol_2D_ppo_200000.bson\n",
      "test reward at step 200000: 62.29480923327365\n"
     ]
    },
    {
     "name": "stderr",
     "output_type": "stream",
     "text": [
      "\u001B[32mProgress:  14%|█████▋                                   |  ETA: 0:16:58\u001B[39m"
     ]
    },
    {
     "name": "stdout",
     "output_type": "stream",
     "text": [
      "test reward at step 210000: 84.12800165849308\n"
     ]
    },
    {
     "name": "stderr",
     "output_type": "stream",
     "text": [
      "\u001B[32mProgress:  15%|██████                                   |  ETA: 0:16:39\u001B[39m"
     ]
    },
    {
     "name": "stdout",
     "output_type": "stream",
     "text": [
      "test reward at step 220000: 33463.26776176974\n"
     ]
    },
    {
     "name": "stderr",
     "output_type": "stream",
     "text": [
      "\u001B[32mProgress:  15%|██████▎                                  |  ETA: 0:16:16\u001B[39m"
     ]
    },
    {
     "name": "stdout",
     "output_type": "stream",
     "text": [
      "test reward at step 230000: 78.11655180538021\n"
     ]
    },
    {
     "name": "stderr",
     "output_type": "stream",
     "text": [
      "\u001B[32mProgress:  16%|██████▍                                  |  ETA: 0:16:22\u001B[39m"
     ]
    },
    {
     "name": "stdout",
     "output_type": "stream",
     "text": [
      "test reward at step 240000: 74.16479575553383\n"
     ]
    },
    {
     "name": "stderr",
     "output_type": "stream",
     "text": [
      "\u001B[32mProgress:  17%|██████▊                                  |  ETA: 0:15:54\u001B[39m"
     ]
    },
    {
     "name": "stdout",
     "output_type": "stream",
     "text": [
      "test reward at step 250000: 131.62660162406092\n"
     ]
    },
    {
     "name": "stderr",
     "output_type": "stream",
     "text": [
      "\u001B[32mProgress:  17%|███████▏                                 |  ETA: 0:15:58\u001B[39m"
     ]
    },
    {
     "name": "stdout",
     "output_type": "stream",
     "text": [
      "test reward at step 260000: 109.09028546365992\n"
     ]
    },
    {
     "name": "stderr",
     "output_type": "stream",
     "text": [
      "\u001B[32mProgress:  18%|███████▎                                 |  ETA: 0:16:11\u001B[39m"
     ]
    },
    {
     "name": "stdout",
     "output_type": "stream",
     "text": [
      "test reward at step 270000: 909.892595149561\n"
     ]
    },
    {
     "name": "stderr",
     "output_type": "stream",
     "text": [
      "\u001B[32mProgress:  18%|███████▌                                 |  ETA: 0:16:08\u001B[39m"
     ]
    },
    {
     "name": "stdout",
     "output_type": "stream",
     "text": [
      "test reward at step 280000: 78.3245607739026\n"
     ]
    },
    {
     "name": "stderr",
     "output_type": "stream",
     "text": [
      "\u001B[32mProgress:  19%|███████▉                                 |  ETA: 0:15:53\u001B[39m"
     ]
    },
    {
     "name": "stdout",
     "output_type": "stream",
     "text": [
      "test reward at step 290000: 108.98617284744844\n"
     ]
    },
    {
     "name": "stderr",
     "output_type": "stream",
     "text": [
      "\u001B[32mProgress:  20%|████████▏                                |  ETA: 0:15:41\u001B[39m"
     ]
    },
    {
     "name": "stdout",
     "output_type": "stream",
     "text": [
      "parameters at step 300000 saved to ./RL_models_2dpoint_leo/vtol_2D_ppo_300000.bson\n",
      "test reward at step 300000: 120.2554494949306\n"
     ]
    },
    {
     "name": "stderr",
     "output_type": "stream",
     "text": [
      "\u001B[32mProgress:  21%|████████▌                                |  ETA: 0:15:35\u001B[39m"
     ]
    },
    {
     "name": "stdout",
     "output_type": "stream",
     "text": [
      "test reward at step 310000: 122.33112620603045\n"
     ]
    },
    {
     "name": "stderr",
     "output_type": "stream",
     "text": [
      "\u001B[32mProgress:  21%|████████▋                                |  ETA: 0:15:49\u001B[39m"
     ]
    },
    {
     "name": "stdout",
     "output_type": "stream",
     "text": [
      "test reward at step 320000: 107.57085223426401\n"
     ]
    },
    {
     "name": "stderr",
     "output_type": "stream",
     "text": [
      "\u001B[32mProgress:  22%|█████████                                |  ETA: 0:15:32\u001B[39m"
     ]
    },
    {
     "name": "stdout",
     "output_type": "stream",
     "text": [
      "test reward at step 330000: 94.22897361850329\n"
     ]
    },
    {
     "name": "stderr",
     "output_type": "stream",
     "text": [
      "\u001B[32mProgress:  23%|█████████▎                               |  ETA: 0:15:20\u001B[39m"
     ]
    },
    {
     "name": "stdout",
     "output_type": "stream",
     "text": [
      "test reward at step 340000: 141.01470555450055\n"
     ]
    },
    {
     "name": "stderr",
     "output_type": "stream",
     "text": [
      "\u001B[32mProgress:  23%|█████████▋                               |  ETA: 0:15:35\u001B[39m"
     ]
    },
    {
     "name": "stdout",
     "output_type": "stream",
     "text": [
      "test reward at step 350000: 149.15227820707585\n"
     ]
    },
    {
     "name": "stderr",
     "output_type": "stream",
     "text": [
      "\u001B[32mProgress:  24%|█████████▊                               |  ETA: 0:15:20\u001B[39m"
     ]
    },
    {
     "name": "stdout",
     "output_type": "stream",
     "text": [
      "test reward at step 360000: 120.17735993115423\n"
     ]
    },
    {
     "name": "stderr",
     "output_type": "stream",
     "text": [
      "\u001B[32mProgress:  24%|██████████                               |  ETA: 0:15:12\u001B[39m"
     ]
    },
    {
     "name": "stdout",
     "output_type": "stream",
     "text": [
      "test reward at step 370000: 143.55093634943788\n"
     ]
    },
    {
     "name": "stderr",
     "output_type": "stream",
     "text": [
      "\u001B[32mProgress:  25%|██████████▎                              |  ETA: 0:15:06\u001B[39m"
     ]
    },
    {
     "name": "stdout",
     "output_type": "stream",
     "text": [
      "test reward at step 380000: 5247.897390581625\n"
     ]
    },
    {
     "name": "stderr",
     "output_type": "stream",
     "text": [
      "\u001B[32mProgress:  26%|██████████▋                              |  ETA: 0:14:54\u001B[39m"
     ]
    },
    {
     "name": "stdout",
     "output_type": "stream",
     "text": [
      "test reward at step 390000: 130.5324557438594\n"
     ]
    },
    {
     "name": "stderr",
     "output_type": "stream",
     "text": [
      "\u001B[32mProgress:  26%|██████████▊                              |  ETA: 0:14:59\u001B[39m"
     ]
    },
    {
     "name": "stdout",
     "output_type": "stream",
     "text": [
      "parameters at step 400000 saved to ./RL_models_2dpoint_leo/vtol_2D_ppo_400000.bson\n",
      "test reward at step 400000: 11244.095306512141\n"
     ]
    },
    {
     "name": "stderr",
     "output_type": "stream",
     "text": [
      "\u001B[32mProgress:  27%|███████████▏                             |  ETA: 0:14:39\u001B[39m"
     ]
    },
    {
     "name": "stdout",
     "output_type": "stream",
     "text": [
      "test reward at step 410000: 126.89664229988992\n"
     ]
    },
    {
     "name": "stderr",
     "output_type": "stream",
     "text": [
      "\u001B[32mProgress:  28%|███████████▍                             |  ETA: 0:14:29\u001B[39m"
     ]
    },
    {
     "name": "stdout",
     "output_type": "stream",
     "text": [
      "test reward at step 420000: 164.27915553943922\n"
     ]
    },
    {
     "name": "stderr",
     "output_type": "stream",
     "text": [
      "\u001B[32mProgress:  29%|███████████▊                             |  ETA: 0:14:20\u001B[39m"
     ]
    },
    {
     "name": "stdout",
     "output_type": "stream",
     "text": [
      "test reward at step 430000: 167.13896262892092\n"
     ]
    },
    {
     "name": "stderr",
     "output_type": "stream",
     "text": [
      "\u001B[32mProgress:  29%|████████████                             |  ETA: 0:14:40\u001B[39m"
     ]
    },
    {
     "name": "stdout",
     "output_type": "stream",
     "text": [
      "test reward at step 440000: 3701.55415007015\n"
     ]
    },
    {
     "name": "stderr",
     "output_type": "stream",
     "text": [
      "\u001B[32mProgress:  30%|████████████▏                            |  ETA: 0:14:27\u001B[39m"
     ]
    },
    {
     "name": "stdout",
     "output_type": "stream",
     "text": [
      "test reward at step 450000: 130.0169661573443\n"
     ]
    },
    {
     "name": "stderr",
     "output_type": "stream",
     "text": [
      "\u001B[32mProgress:  30%|████████████▌                            |  ETA: 0:14:18\u001B[39m"
     ]
    },
    {
     "name": "stdout",
     "output_type": "stream",
     "text": [
      "test reward at step 460000: 105.93784049966338\n"
     ]
    },
    {
     "name": "stderr",
     "output_type": "stream",
     "text": [
      "\u001B[32mProgress:  31%|████████████▉                            |  ETA: 0:14:02\u001B[39m"
     ]
    },
    {
     "name": "stdout",
     "output_type": "stream",
     "text": [
      "test reward at step 470000: 92.7235976676047\n"
     ]
    },
    {
     "name": "stderr",
     "output_type": "stream",
     "text": [
      "\u001B[32mProgress:  32%|█████████████                            |  ETA: 0:14:02\u001B[39m"
     ]
    },
    {
     "name": "stdout",
     "output_type": "stream",
     "text": [
      "test reward at step 480000: 100.81026200271471\n"
     ]
    },
    {
     "name": "stderr",
     "output_type": "stream",
     "text": [
      "\u001B[32mProgress:  32%|█████████████▎                           |  ETA: 0:13:50\u001B[39m"
     ]
    },
    {
     "name": "stdout",
     "output_type": "stream",
     "text": [
      "test reward at step 490000: 98.09105627772738\n"
     ]
    },
    {
     "name": "stderr",
     "output_type": "stream",
     "text": [
      "\u001B[32mProgress:  33%|█████████████▋                           |  ETA: 0:13:38\u001B[39m"
     ]
    },
    {
     "name": "stdout",
     "output_type": "stream",
     "text": [
      "parameters at step 500000 saved to ./RL_models_2dpoint_leo/vtol_2D_ppo_500000.bson\n",
      "test reward at step 500000: 144.9039947467679\n"
     ]
    },
    {
     "name": "stderr",
     "output_type": "stream",
     "text": [
      "\u001B[32mProgress:  34%|█████████████▉                           |  ETA: 0:13:27\u001B[39m"
     ]
    },
    {
     "name": "stdout",
     "output_type": "stream",
     "text": [
      "test reward at step 510000: 86.03462649605099\n"
     ]
    },
    {
     "name": "stderr",
     "output_type": "stream",
     "text": [
      "\u001B[32mProgress:  35%|██████████████▎                          |  ETA: 0:13:13\u001B[39m"
     ]
    },
    {
     "name": "stdout",
     "output_type": "stream",
     "text": [
      "test reward at step 520000: 151.1293189933935\n"
     ]
    },
    {
     "name": "stderr",
     "output_type": "stream",
     "text": [
      "\u001B[32mProgress:  35%|██████████████▍                          |  ETA: 0:13:13\u001B[39m"
     ]
    },
    {
     "name": "stdout",
     "output_type": "stream",
     "text": [
      "test reward at step 530000: 145.10973955853473\n"
     ]
    },
    {
     "name": "stderr",
     "output_type": "stream",
     "text": [
      "\u001B[32mProgress:  36%|██████████████▊                          |  ETA: 0:12:57\u001B[39m"
     ]
    },
    {
     "name": "stdout",
     "output_type": "stream",
     "text": [
      "test reward at step 540000: 139.87147068164938\n"
     ]
    },
    {
     "name": "stderr",
     "output_type": "stream",
     "text": [
      "\u001B[32mProgress:  37%|███████████████                          |  ETA: 0:12:47\u001B[39m"
     ]
    },
    {
     "name": "stdout",
     "output_type": "stream",
     "text": [
      "test reward at step 550000: 26926.30532374744\n"
     ]
    },
    {
     "name": "stderr",
     "output_type": "stream",
     "text": [
      "\u001B[32mProgress:  37%|███████████████▏                         |  ETA: 0:12:44\u001B[39m"
     ]
    },
    {
     "name": "stdout",
     "output_type": "stream",
     "text": [
      "test reward at step 560000: 126.28460597562236\n"
     ]
    },
    {
     "name": "stderr",
     "output_type": "stream",
     "text": [
      "\u001B[32mProgress:  38%|███████████████▌                         |  ETA: 0:12:30\u001B[39m"
     ]
    },
    {
     "name": "stdout",
     "output_type": "stream",
     "text": [
      "test reward at step 570000: 132.55085752152502\n"
     ]
    },
    {
     "name": "stderr",
     "output_type": "stream",
     "text": [
      "\u001B[32mProgress:  38%|███████████████▋                         |  ETA: 0:12:31\u001B[39m"
     ]
    },
    {
     "name": "stdout",
     "output_type": "stream",
     "text": [
      "test reward at step 580000: 90.9112575356688\n"
     ]
    },
    {
     "name": "stderr",
     "output_type": "stream",
     "text": [
      "\u001B[32mProgress:  39%|████████████████                         |  ETA: 0:12:14\u001B[39m"
     ]
    },
    {
     "name": "stdout",
     "output_type": "stream",
     "text": [
      "test reward at step 590000: 112.6584210150691\n"
     ]
    },
    {
     "name": "stderr",
     "output_type": "stream",
     "text": [
      "\u001B[32mProgress:  40%|████████████████▍                        |  ETA: 0:12:03\u001B[39m"
     ]
    },
    {
     "name": "stdout",
     "output_type": "stream",
     "text": [
      "parameters at step 600000 saved to ./RL_models_2dpoint_leo/vtol_2D_ppo_600000.bson\n",
      "test reward at step 600000: 101.64221639291267\n"
     ]
    },
    {
     "name": "stderr",
     "output_type": "stream",
     "text": [
      "\u001B[32mProgress:  40%|████████████████▋                        |  ETA: 0:12:01\u001B[39m"
     ]
    },
    {
     "name": "stdout",
     "output_type": "stream",
     "text": [
      "test reward at step 610000: 117.27101723612857\n"
     ]
    },
    {
     "name": "stderr",
     "output_type": "stream",
     "text": [
      "\u001B[32mProgress:  41%|████████████████▉                        |  ETA: 0:11:49\u001B[39m"
     ]
    },
    {
     "name": "stdout",
     "output_type": "stream",
     "text": [
      "test reward at step 620000: 160.33157800755419\n"
     ]
    },
    {
     "name": "stderr",
     "output_type": "stream",
     "text": [
      "\u001B[32mProgress:  42%|█████████████████▎                       |  ETA: 0:11:50\u001B[39m"
     ]
    },
    {
     "name": "stdout",
     "output_type": "stream",
     "text": [
      "test reward at step 630000: 139.67969252507706\n"
     ]
    },
    {
     "name": "stderr",
     "output_type": "stream",
     "text": [
      "\u001B[32mProgress:  42%|█████████████████▍                       |  ETA: 0:11:39\u001B[39m"
     ]
    },
    {
     "name": "stdout",
     "output_type": "stream",
     "text": [
      "test reward at step 640000: 107.61631207722746\n"
     ]
    },
    {
     "name": "stderr",
     "output_type": "stream",
     "text": [
      "\u001B[32mProgress:  43%|█████████████████▊                       |  ETA: 0:11:27\u001B[39m"
     ]
    },
    {
     "name": "stdout",
     "output_type": "stream",
     "text": [
      "test reward at step 650000: 186.0101646719182\n"
     ]
    },
    {
     "name": "stderr",
     "output_type": "stream",
     "text": [
      "\u001B[32mProgress:  44%|█████████████████▉                       |  ETA: 0:11:29\u001B[39m"
     ]
    },
    {
     "name": "stdout",
     "output_type": "stream",
     "text": [
      "test reward at step 660000: 23854.948496707628\n"
     ]
    },
    {
     "name": "stderr",
     "output_type": "stream",
     "text": [
      "\u001B[32mProgress:  44%|██████████████████▎                      |  ETA: 0:11:15\u001B[39m"
     ]
    },
    {
     "name": "stdout",
     "output_type": "stream",
     "text": [
      "test reward at step 670000: 161.94162370477576\n"
     ]
    },
    {
     "name": "stderr",
     "output_type": "stream",
     "text": [
      "\u001B[32mProgress:  45%|██████████████████▋                      |  ETA: 0:11:07\u001B[39m"
     ]
    },
    {
     "name": "stdout",
     "output_type": "stream",
     "text": [
      "test reward at step 680000: 106.39541053347804\n"
     ]
    },
    {
     "name": "stderr",
     "output_type": "stream",
     "text": [
      "\u001B[32mProgress:  46%|██████████████████▊                      |  ETA: 0:11:05\u001B[39m"
     ]
    },
    {
     "name": "stdout",
     "output_type": "stream",
     "text": [
      "test reward at step 690000: 125.87684646854179\n"
     ]
    },
    {
     "name": "stderr",
     "output_type": "stream",
     "text": [
      "\u001B[32mProgress:  47%|███████████████████▏                     |  ETA: 0:10:49\u001B[39m"
     ]
    },
    {
     "name": "stdout",
     "output_type": "stream",
     "text": [
      "parameters at step 700000 saved to ./RL_models_2dpoint_leo/vtol_2D_ppo_700000.bson\n",
      "test reward at step 700000: 121.34392615992402\n"
     ]
    },
    {
     "name": "stderr",
     "output_type": "stream",
     "text": [
      "\u001B[32mProgress:  47%|███████████████████▎                     |  ETA: 0:10:46\u001B[39m"
     ]
    },
    {
     "name": "stdout",
     "output_type": "stream",
     "text": [
      "test reward at step 710000: 92.51308867948353\n"
     ]
    },
    {
     "name": "stderr",
     "output_type": "stream",
     "text": [
      "\u001B[32mProgress:  48%|███████████████████▋                     |  ETA: 0:10:35\u001B[39m"
     ]
    },
    {
     "name": "stdout",
     "output_type": "stream",
     "text": [
      "test reward at step 720000: 56.27316554711339\n"
     ]
    },
    {
     "name": "stderr",
     "output_type": "stream",
     "text": [
      "\u001B[32mProgress:  49%|████████████████████                     |  ETA: 0:10:20\u001B[39m"
     ]
    },
    {
     "name": "stdout",
     "output_type": "stream",
     "text": [
      "test reward at step 730000: 119.17107019057256\n"
     ]
    },
    {
     "name": "stderr",
     "output_type": "stream",
     "text": [
      "\u001B[32mProgress:  49%|████████████████████▏                    |  ETA: 0:10:18\u001B[39m"
     ]
    },
    {
     "name": "stdout",
     "output_type": "stream",
     "text": [
      "test reward at step 740000: 88.57933828946273\n"
     ]
    },
    {
     "name": "stderr",
     "output_type": "stream",
     "text": [
      "\u001B[32mProgress:  50%|████████████████████▍                    |  ETA: 0:10:06\u001B[39m"
     ]
    },
    {
     "name": "stdout",
     "output_type": "stream",
     "text": [
      "test reward at step 750000: 87.69042087674248\n"
     ]
    },
    {
     "name": "stderr",
     "output_type": "stream",
     "text": [
      "\u001B[32mProgress:  51%|████████████████████▊                    |  ETA: 0:09:54\u001B[39m"
     ]
    },
    {
     "name": "stdout",
     "output_type": "stream",
     "text": [
      "test reward at step 760000: 84.2914998902206\n"
     ]
    },
    {
     "name": "stderr",
     "output_type": "stream",
     "text": [
      "\u001B[32mProgress:  51%|█████████████████████                    |  ETA: 0:09:50\u001B[39m"
     ]
    },
    {
     "name": "stdout",
     "output_type": "stream",
     "text": [
      "test reward at step 770000: 78.73180781780168\n"
     ]
    },
    {
     "name": "stderr",
     "output_type": "stream",
     "text": [
      "\u001B[32mProgress:  52%|█████████████████████▍                   |  ETA: 0:09:40\u001B[39m"
     ]
    },
    {
     "name": "stdout",
     "output_type": "stream",
     "text": [
      "test reward at step 780000: 71.35235886447848\n"
     ]
    },
    {
     "name": "stderr",
     "output_type": "stream",
     "text": [
      "\u001B[32mProgress:  52%|█████████████████████▌                   |  ETA: 0:09:32\u001B[39m"
     ]
    },
    {
     "name": "stdout",
     "output_type": "stream",
     "text": [
      "test reward at step 790000: 80.30335837578009\n"
     ]
    },
    {
     "name": "stderr",
     "output_type": "stream",
     "text": [
      "\u001B[32mProgress:  53%|█████████████████████▉                   |  ETA: 0:09:18\u001B[39m"
     ]
    },
    {
     "name": "stdout",
     "output_type": "stream",
     "text": [
      "parameters at step 800000 saved to ./RL_models_2dpoint_leo/vtol_2D_ppo_800000.bson\n",
      "test reward at step 800000: 56.80263706484606\n"
     ]
    },
    {
     "name": "stderr",
     "output_type": "stream",
     "text": [
      "\u001B[32mProgress:  54%|██████████████████████                   |  ETA: 0:09:13\u001B[39m"
     ]
    },
    {
     "name": "stdout",
     "output_type": "stream",
     "text": [
      "test reward at step 810000: 74.91601071805442\n"
     ]
    },
    {
     "name": "stderr",
     "output_type": "stream",
     "text": [
      "\u001B[32mProgress:  55%|██████████████████████▍                  |  ETA: 0:09:02\u001B[39m"
     ]
    },
    {
     "name": "stdout",
     "output_type": "stream",
     "text": [
      "test reward at step 820000: 80.68422567397603\n"
     ]
    },
    {
     "name": "stderr",
     "output_type": "stream",
     "text": [
      "\u001B[32mProgress:  55%|██████████████████████▋                  |  ETA: 0:08:52\u001B[39m"
     ]
    },
    {
     "name": "stdout",
     "output_type": "stream",
     "text": [
      "test reward at step 830000: 113097.57022131575\n"
     ]
    },
    {
     "name": "stderr",
     "output_type": "stream",
     "text": [
      "\u001B[32mProgress:  56%|██████████████████████▉                  |  ETA: 0:08:46\u001B[39m"
     ]
    },
    {
     "name": "stdout",
     "output_type": "stream",
     "text": [
      "test reward at step 840000: 56.451739973519864\n"
     ]
    },
    {
     "name": "stderr",
     "output_type": "stream",
     "text": [
      "\u001B[32mProgress:  57%|███████████████████████▎                 |  ETA: 0:08:33\u001B[39m"
     ]
    },
    {
     "name": "stdout",
     "output_type": "stream",
     "text": [
      "test reward at step 850000: 78.09017328788659\n"
     ]
    },
    {
     "name": "stderr",
     "output_type": "stream",
     "text": [
      "\u001B[32mProgress:  57%|███████████████████████▍                 |  ETA: 0:08:29\u001B[39m"
     ]
    },
    {
     "name": "stdout",
     "output_type": "stream",
     "text": [
      "test reward at step 860000: 81.66815472806216\n"
     ]
    },
    {
     "name": "stderr",
     "output_type": "stream",
     "text": [
      "\u001B[32mProgress:  58%|███████████████████████▋                 |  ETA: 0:08:19\u001B[39m"
     ]
    },
    {
     "name": "stdout",
     "output_type": "stream",
     "text": [
      "test reward at step 870000: 79.15409317942472\n"
     ]
    },
    {
     "name": "stderr",
     "output_type": "stream",
     "text": [
      "\u001B[32mProgress:  59%|████████████████████████                 |  ETA: 0:08:09\u001B[39m"
     ]
    },
    {
     "name": "stdout",
     "output_type": "stream",
     "text": [
      "test reward at step 880000: 92.86927069578084\n"
     ]
    },
    {
     "name": "stderr",
     "output_type": "stream",
     "text": [
      "\u001B[32mProgress:  59%|████████████████████████▎                |  ETA: 0:08:00\u001B[39m"
     ]
    },
    {
     "name": "stdout",
     "output_type": "stream",
     "text": [
      "test reward at step 890000: 76.80306287589505\n"
     ]
    },
    {
     "name": "stderr",
     "output_type": "stream",
     "text": [
      "\u001B[32mProgress:  60%|████████████████████████▌                |  ETA: 0:07:57\u001B[39m"
     ]
    },
    {
     "name": "stdout",
     "output_type": "stream",
     "text": [
      "parameters at step 900000 saved to ./RL_models_2dpoint_leo/vtol_2D_ppo_900000.bson\n"
     ]
    },
    {
     "name": "stderr",
     "output_type": "stream",
     "text": [
      "\u001B[32mProgress:  60%|████████████████████████▋                |  ETA: 0:07:53\u001B[39m"
     ]
    },
    {
     "name": "stdout",
     "output_type": "stream",
     "text": [
      "test reward at step 900000: 64.9118575638208\n"
     ]
    },
    {
     "name": "stderr",
     "output_type": "stream",
     "text": [
      "\u001B[32mProgress:  60%|████████████████████████▊                |  ETA: 0:07:47\u001B[39m"
     ]
    },
    {
     "name": "stdout",
     "output_type": "stream",
     "text": [
      "test reward at step 910000: 89.62719380428402\n"
     ]
    },
    {
     "name": "stderr",
     "output_type": "stream",
     "text": [
      "\u001B[32mProgress:  61%|█████████████████████████                |  ETA: 0:07:37\u001B[39m"
     ]
    },
    {
     "name": "stdout",
     "output_type": "stream",
     "text": [
      "test reward at step 920000: 68.05415991184869\n"
     ]
    },
    {
     "name": "stderr",
     "output_type": "stream",
     "text": [
      "\u001B[32mProgress:  62%|█████████████████████████▍               |  ETA: 0:07:26\u001B[39m"
     ]
    },
    {
     "name": "stdout",
     "output_type": "stream",
     "text": [
      "test reward at step 930000: 67271.44635550129\n"
     ]
    },
    {
     "name": "stderr",
     "output_type": "stream",
     "text": [
      "\u001B[32mProgress:  62%|█████████████████████████▌               |  ETA: 0:07:22\u001B[39m"
     ]
    },
    {
     "name": "stdout",
     "output_type": "stream",
     "text": [
      "test reward at step 940000: 89.43488310276845\n"
     ]
    },
    {
     "name": "stderr",
     "output_type": "stream",
     "text": [
      "\u001B[32mProgress:  63%|█████████████████████████▉               |  ETA: 0:07:12\u001B[39m"
     ]
    },
    {
     "name": "stdout",
     "output_type": "stream",
     "text": [
      "test reward at step 950000: 67.6214195222653\n"
     ]
    },
    {
     "name": "stderr",
     "output_type": "stream",
     "text": [
      "\u001B[32mProgress:  64%|██████████████████████████▏              |  ETA: 0:07:02\u001B[39m"
     ]
    },
    {
     "name": "stdout",
     "output_type": "stream",
     "text": [
      "test reward at step 960000: 78.72959046094546\n"
     ]
    },
    {
     "name": "stderr",
     "output_type": "stream",
     "text": [
      "\u001B[32mProgress:  65%|██████████████████████████▌              |  ETA: 0:06:53\u001B[39m"
     ]
    },
    {
     "name": "stdout",
     "output_type": "stream",
     "text": [
      "test reward at step 970000: 84.72658367611496\n"
     ]
    },
    {
     "name": "stderr",
     "output_type": "stream",
     "text": [
      "\u001B[32mProgress:  65%|██████████████████████████▊              |  ETA: 0:06:45\u001B[39m"
     ]
    },
    {
     "name": "stdout",
     "output_type": "stream",
     "text": [
      "test reward at step 980000: 63.67115586937338\n"
     ]
    },
    {
     "name": "stderr",
     "output_type": "stream",
     "text": [
      "\u001B[32mProgress:  66%|██████████████████████████▉              |  ETA: 0:06:41\u001B[39m"
     ]
    },
    {
     "name": "stdout",
     "output_type": "stream",
     "text": [
      "test reward at step 990000: 78.15404814511957\n"
     ]
    },
    {
     "name": "stderr",
     "output_type": "stream",
     "text": [
      "\u001B[32mProgress:  66%|███████████████████████████▎             |  ETA: 0:06:30\u001B[39m"
     ]
    },
    {
     "name": "stdout",
     "output_type": "stream",
     "text": [
      "parameters at step 1000000 saved to ./RL_models_2dpoint_leo/vtol_2D_ppo_1000000.bson\n",
      "test reward at step 1000000: 75.12303664858435\n"
     ]
    },
    {
     "name": "stderr",
     "output_type": "stream",
     "text": [
      "\u001B[32mProgress:  67%|███████████████████████████▌             |  ETA: 0:06:21\u001B[39m"
     ]
    },
    {
     "name": "stdout",
     "output_type": "stream",
     "text": [
      "test reward at step 1010000: 51.50650048997548\n"
     ]
    },
    {
     "name": "stderr",
     "output_type": "stream",
     "text": [
      "\u001B[32mProgress:  68%|███████████████████████████▉             |  ETA: 0:06:11\u001B[39m"
     ]
    },
    {
     "name": "stdout",
     "output_type": "stream",
     "text": [
      "test reward at step 1020000: 110861.51821360725\n"
     ]
    },
    {
     "name": "stderr",
     "output_type": "stream",
     "text": [
      "\u001B[32mProgress:  69%|████████████████████████████▏            |  ETA: 0:06:02\u001B[39m"
     ]
    },
    {
     "name": "stdout",
     "output_type": "stream",
     "text": [
      "test reward at step 1030000: 61.920567084957035\n"
     ]
    },
    {
     "name": "stderr",
     "output_type": "stream",
     "text": [
      "\u001B[32mProgress:  69%|████████████████████████████▎            |  ETA: 0:05:57\u001B[39m"
     ]
    },
    {
     "name": "stdout",
     "output_type": "stream",
     "text": [
      "test reward at step 1040000: 80.21524834313702\n"
     ]
    },
    {
     "name": "stderr",
     "output_type": "stream",
     "text": [
      "\u001B[32mProgress:  70%|████████████████████████████▋            |  ETA: 0:05:48\u001B[39m"
     ]
    },
    {
     "name": "stdout",
     "output_type": "stream",
     "text": [
      "test reward at step 1050000: 74.7501854948918\n"
     ]
    },
    {
     "name": "stderr",
     "output_type": "stream",
     "text": [
      "\u001B[32mProgress:  71%|█████████████████████████████            |  ETA: 0:05:37\u001B[39m"
     ]
    },
    {
     "name": "stdout",
     "output_type": "stream",
     "text": [
      "test reward at step 1060000: 58.96076318270439\n"
     ]
    },
    {
     "name": "stderr",
     "output_type": "stream",
     "text": [
      "\u001B[32mProgress:  71%|█████████████████████████████▏           |  ETA: 0:05:32\u001B[39m"
     ]
    },
    {
     "name": "stdout",
     "output_type": "stream",
     "text": [
      "test reward at step 1070000: 122511.63933357554\n"
     ]
    },
    {
     "name": "stderr",
     "output_type": "stream",
     "text": [
      "\u001B[32mProgress:  72%|█████████████████████████████▌           |  ETA: 0:05:21\u001B[39m"
     ]
    },
    {
     "name": "stdout",
     "output_type": "stream",
     "text": [
      "test reward at step 1080000: 132708.7043420416\n"
     ]
    },
    {
     "name": "stderr",
     "output_type": "stream",
     "text": [
      "\u001B[32mProgress:  73%|█████████████████████████████▊           |  ETA: 0:05:10\u001B[39m"
     ]
    },
    {
     "name": "stdout",
     "output_type": "stream",
     "text": [
      "test reward at step 1090000: 56.09543080045255\n"
     ]
    },
    {
     "name": "stderr",
     "output_type": "stream",
     "text": [
      "\u001B[32mProgress:  73%|██████████████████████████████           |  ETA: 0:05:06\u001B[39m"
     ]
    },
    {
     "name": "stdout",
     "output_type": "stream",
     "text": [
      "parameters at step 1100000 saved to ./RL_models_2dpoint_leo/vtol_2D_ppo_1100000.bson\n",
      "test reward at step 1100000: 55.36774971600809\n"
     ]
    },
    {
     "name": "stderr",
     "output_type": "stream",
     "text": [
      "\u001B[32mProgress:  74%|██████████████████████████████▎          |  ETA: 0:04:55\u001B[39m"
     ]
    },
    {
     "name": "stdout",
     "output_type": "stream",
     "text": [
      "test reward at step 1110000: 152637.79005728467\n"
     ]
    },
    {
     "name": "stderr",
     "output_type": "stream",
     "text": [
      "\u001B[32mProgress:  75%|██████████████████████████████▋          |  ETA: 0:04:45\u001B[39m"
     ]
    },
    {
     "name": "stdout",
     "output_type": "stream",
     "text": [
      "test reward at step 1120000: 149621.3679296832\n"
     ]
    },
    {
     "name": "stderr",
     "output_type": "stream",
     "text": [
      "\u001B[32mProgress:  75%|██████████████████████████████▊          |  ETA: 0:04:40\u001B[39m"
     ]
    },
    {
     "name": "stdout",
     "output_type": "stream",
     "text": [
      "test reward at step 1130000: 58.65503625802951\n"
     ]
    },
    {
     "name": "stderr",
     "output_type": "stream",
     "text": [
      "\u001B[32mProgress:  76%|███████████████████████████████▏         |  ETA: 0:04:30\u001B[39m"
     ]
    },
    {
     "name": "stdout",
     "output_type": "stream",
     "text": [
      "test reward at step 1140000: 53.13695010633992\n"
     ]
    },
    {
     "name": "stderr",
     "output_type": "stream",
     "text": [
      "\u001B[32mProgress:  77%|███████████████████████████████▍         |  ETA: 0:04:20\u001B[39m"
     ]
    },
    {
     "name": "stdout",
     "output_type": "stream",
     "text": [
      "test reward at step 1150000: 55.5578576862899\n"
     ]
    },
    {
     "name": "stderr",
     "output_type": "stream",
     "text": [
      "\u001B[32mProgress:  77%|███████████████████████████████▋         |  ETA: 0:04:15\u001B[39m"
     ]
    },
    {
     "name": "stdout",
     "output_type": "stream",
     "text": [
      "test reward at step 1160000: 71.03929741405388\n"
     ]
    },
    {
     "name": "stderr",
     "output_type": "stream",
     "text": [
      "\u001B[32mProgress:  78%|███████████████████████████████▉         |  ETA: 0:04:05\u001B[39m"
     ]
    },
    {
     "name": "stdout",
     "output_type": "stream",
     "text": [
      "test reward at step 1170000: 66.85609795883697\n"
     ]
    },
    {
     "name": "stderr",
     "output_type": "stream",
     "text": [
      "\u001B[32mProgress:  79%|████████████████████████████████▎        |  ETA: 0:03:56\u001B[39m"
     ]
    },
    {
     "name": "stdout",
     "output_type": "stream",
     "text": [
      "test reward at step 1180000: 132708.33845843427\n"
     ]
    },
    {
     "name": "stderr",
     "output_type": "stream",
     "text": [
      "\u001B[32mProgress:  79%|████████████████████████████████▍        |  ETA: 0:03:50\u001B[39m"
     ]
    },
    {
     "name": "stdout",
     "output_type": "stream",
     "text": [
      "test reward at step 1190000: 75.29722144885093\n"
     ]
    },
    {
     "name": "stderr",
     "output_type": "stream",
     "text": [
      "\u001B[32mProgress:  80%|████████████████████████████████▊        |  ETA: 0:03:41\u001B[39m"
     ]
    },
    {
     "name": "stdout",
     "output_type": "stream",
     "text": [
      "parameters at step 1200000 saved to ./RL_models_2dpoint_leo/vtol_2D_ppo_1200000.bson\n",
      "test reward at step 1200000: 68.01632584106804\n"
     ]
    },
    {
     "name": "stderr",
     "output_type": "stream",
     "text": [
      "\u001B[32mProgress:  80%|████████████████████████████████▉        |  ETA: 0:03:36\u001B[39m"
     ]
    },
    {
     "name": "stdout",
     "output_type": "stream",
     "text": [
      "test reward at step 1210000: 165345.04174720758\n"
     ]
    },
    {
     "name": "stderr",
     "output_type": "stream",
     "text": [
      "\u001B[32mProgress:  81%|█████████████████████████████████▎       |  ETA: 0:03:26\u001B[39m"
     ]
    },
    {
     "name": "stdout",
     "output_type": "stream",
     "text": [
      "test reward at step 1220000: 172090.15836386735\n"
     ]
    },
    {
     "name": "stderr",
     "output_type": "stream",
     "text": [
      "\u001B[32mProgress:  82%|█████████████████████████████████▋       |  ETA: 0:03:16\u001B[39m"
     ]
    },
    {
     "name": "stdout",
     "output_type": "stream",
     "text": [
      "test reward at step 1230000: 52.90055883935943\n"
     ]
    },
    {
     "name": "stderr",
     "output_type": "stream",
     "text": [
      "\u001B[32mProgress:  82%|█████████████████████████████████▊       |  ETA: 0:03:12\u001B[39m"
     ]
    },
    {
     "name": "stdout",
     "output_type": "stream",
     "text": [
      "test reward at step 1240000: 48.120876293224455\n"
     ]
    },
    {
     "name": "stderr",
     "output_type": "stream",
     "text": [
      "\u001B[32mProgress:  83%|██████████████████████████████████▏      |  ETA: 0:03:03\u001B[39m"
     ]
    },
    {
     "name": "stdout",
     "output_type": "stream",
     "text": [
      "test reward at step 1250000: 47.769381502639455\n"
     ]
    },
    {
     "name": "stderr",
     "output_type": "stream",
     "text": [
      "\u001B[32mProgress:  84%|██████████████████████████████████▍      |  ETA: 0:02:54\u001B[39m"
     ]
    },
    {
     "name": "stdout",
     "output_type": "stream",
     "text": [
      "test reward at step 1260000: 104404.88405209825\n"
     ]
    },
    {
     "name": "stderr",
     "output_type": "stream",
     "text": [
      "\u001B[32mProgress:  85%|██████████████████████████████████▊      |  ETA: 0:02:45\u001B[39m"
     ]
    },
    {
     "name": "stdout",
     "output_type": "stream",
     "text": [
      "test reward at step 1270000: 172091.22970710878\n"
     ]
    },
    {
     "name": "stderr",
     "output_type": "stream",
     "text": [
      "\u001B[32mProgress:  85%|██████████████████████████████████▉      |  ETA: 0:02:41\u001B[39m"
     ]
    },
    {
     "name": "stdout",
     "output_type": "stream",
     "text": [
      "test reward at step 1280000: 50.54341446964242\n"
     ]
    },
    {
     "name": "stderr",
     "output_type": "stream",
     "text": [
      "\u001B[32mProgress:  86%|███████████████████████████████████▏     |  ETA: 0:02:32\u001B[39m"
     ]
    },
    {
     "name": "stdout",
     "output_type": "stream",
     "text": [
      "test reward at step 1290000: 182728.05488175128\n"
     ]
    },
    {
     "name": "stderr",
     "output_type": "stream",
     "text": [
      "\u001B[32mProgress:  86%|███████████████████████████████████▌     |  ETA: 0:02:24\u001B[39m"
     ]
    },
    {
     "name": "stdout",
     "output_type": "stream",
     "text": [
      "parameters at step 1300000 saved to ./RL_models_2dpoint_leo/vtol_2D_ppo_1300000.bson\n",
      "test reward at step 1300000: 179112.1460026388\n"
     ]
    },
    {
     "name": "stderr",
     "output_type": "stream",
     "text": [
      "\u001B[32mProgress:  87%|███████████████████████████████████▊     |  ETA: 0:02:15\u001B[39m"
     ]
    },
    {
     "name": "stdout",
     "output_type": "stream",
     "text": [
      "test reward at step 1310000: 78.89065130082194\n"
     ]
    },
    {
     "name": "stderr",
     "output_type": "stream",
     "text": [
      "\u001B[32mProgress:  88%|████████████████████████████████████▏    |  ETA: 0:02:07\u001B[39m"
     ]
    },
    {
     "name": "stdout",
     "output_type": "stream",
     "text": [
      "test reward at step 1320000: 175565.97240593328\n"
     ]
    },
    {
     "name": "stderr",
     "output_type": "stream",
     "text": [
      "\u001B[32mProgress:  88%|████████████████████████████████████▎    |  ETA: 0:02:03\u001B[39m"
     ]
    },
    {
     "name": "stdout",
     "output_type": "stream",
     "text": [
      "test reward at step 1330000: 83.29063063671754\n"
     ]
    },
    {
     "name": "stderr",
     "output_type": "stream",
     "text": [
      "\u001B[32mProgress:  89%|████████████████████████████████████▌    |  ETA: 0:01:55\u001B[39m"
     ]
    },
    {
     "name": "stdout",
     "output_type": "stream",
     "text": [
      "test reward at step 1340000: 56.92993734674343\n"
     ]
    },
    {
     "name": "stderr",
     "output_type": "stream",
     "text": [
      "\u001B[32mProgress:  90%|████████████████████████████████████▉    |  ETA: 0:01:47\u001B[39m"
     ]
    },
    {
     "name": "stdout",
     "output_type": "stream",
     "text": [
      "test reward at step 1350000: 152640.1915005358\n"
     ]
    },
    {
     "name": "stderr",
     "output_type": "stream",
     "text": [
      "\u001B[32mProgress:  90%|█████████████████████████████████████    |  ETA: 0:01:43\u001B[39m"
     ]
    },
    {
     "name": "stdout",
     "output_type": "stream",
     "text": [
      "test reward at step 1360000: 149618.7941145273\n"
     ]
    },
    {
     "name": "stderr",
     "output_type": "stream",
     "text": [
      "\u001B[32mProgress:  91%|█████████████████████████████████████▍   |  ETA: 0:01:34\u001B[39m"
     ]
    },
    {
     "name": "stdout",
     "output_type": "stream",
     "text": [
      "test reward at step 1370000: 70.67369568803349\n"
     ]
    },
    {
     "name": "stderr",
     "output_type": "stream",
     "text": [
      "\u001B[32mProgress:  92%|█████████████████████████████████████▋   |  ETA: 0:01:26\u001B[39m"
     ]
    },
    {
     "name": "stdout",
     "output_type": "stream",
     "text": [
      "test reward at step 1380000: 87.11410564631886\n"
     ]
    },
    {
     "name": "stderr",
     "output_type": "stream",
     "text": [
      "\u001B[32mProgress:  93%|█████████████████████████████████████▉   |  ETA: 0:01:18\u001B[39m"
     ]
    },
    {
     "name": "stdout",
     "output_type": "stream",
     "text": [
      "test reward at step 1390000: 50.935458890161335\n"
     ]
    },
    {
     "name": "stderr",
     "output_type": "stream",
     "text": [
      "\u001B[32mProgress:  93%|██████████████████████████████████████▎  |  ETA: 0:01:11\u001B[39m"
     ]
    },
    {
     "name": "stdout",
     "output_type": "stream",
     "text": [
      "parameters at step 1400000 saved to ./RL_models_2dpoint_leo/vtol_2D_ppo_1400000.bson\n",
      "test reward at step 1400000: 158863.48048500626\n"
     ]
    },
    {
     "name": "stderr",
     "output_type": "stream",
     "text": [
      "\u001B[32mProgress:  94%|██████████████████████████████████████▌  |  ETA: 0:01:02\u001B[39m"
     ]
    },
    {
     "name": "stdout",
     "output_type": "stream",
     "text": [
      "test reward at step 1410000: 162074.2176465275\n"
     ]
    },
    {
     "name": "stderr",
     "output_type": "stream",
     "text": [
      "\u001B[32mProgress:  94%|██████████████████████████████████████▊  |  ETA: 0:00:59\u001B[39m"
     ]
    },
    {
     "name": "stdout",
     "output_type": "stream",
     "text": [
      "test reward at step 1420000: 165347.0181801796\n"
     ]
    },
    {
     "name": "stderr",
     "output_type": "stream",
     "text": [
      "\u001B[32mProgress:  95%|███████████████████████████████████████  |  ETA: 0:00:50\u001B[39m"
     ]
    },
    {
     "name": "stdout",
     "output_type": "stream",
     "text": [
      "test reward at step 1430000: 146658.15991527197\n"
     ]
    },
    {
     "name": "stderr",
     "output_type": "stream",
     "text": [
      "\u001B[32mProgress:  96%|███████████████████████████████████████▍ |  ETA: 0:00:42\u001B[39m"
     ]
    },
    {
     "name": "stdout",
     "output_type": "stream",
     "text": [
      "test reward at step 1440000: 79.81433255178203\n"
     ]
    },
    {
     "name": "stderr",
     "output_type": "stream",
     "text": [
      "\u001B[32mProgress:  97%|███████████████████████████████████████▋ |  ETA: 0:00:35\u001B[39m"
     ]
    },
    {
     "name": "stdout",
     "output_type": "stream",
     "text": [
      "test reward at step 1450000: 162070.8531398806\n"
     ]
    },
    {
     "name": "stderr",
     "output_type": "stream",
     "text": [
      "\u001B[32mProgress:  97%|███████████████████████████████████████▊ |  ETA: 0:00:31\u001B[39m"
     ]
    },
    {
     "name": "stdout",
     "output_type": "stream",
     "text": [
      "test reward at step 1460000: 168685.8331268285\n"
     ]
    },
    {
     "name": "stderr",
     "output_type": "stream",
     "text": [
      "\u001B[32mProgress:  98%|████████████████████████████████████████▏|  ETA: 0:00:23\u001B[39m"
     ]
    },
    {
     "name": "stdout",
     "output_type": "stream",
     "text": [
      "test reward at step 1470000: 90.13368812910738\n"
     ]
    },
    {
     "name": "stderr",
     "output_type": "stream",
     "text": [
      "\u001B[32mProgress:  99%|████████████████████████████████████████▍|  ETA: 0:00:15\u001B[39m"
     ]
    },
    {
     "name": "stdout",
     "output_type": "stream",
     "text": [
      "test reward at step 1480000: 172088.7450417519\n"
     ]
    },
    {
     "name": "stderr",
     "output_type": "stream",
     "text": [
      "\u001B[32mProgress:  99%|████████████████████████████████████████▊|  ETA: 0:00:07\u001B[39m"
     ]
    },
    {
     "name": "stdout",
     "output_type": "stream",
     "text": [
      "test reward at step 1490000: 65.84992715558381\n"
     ]
    },
    {
     "name": "stderr",
     "output_type": "stream",
     "text": [
      "\u001B[32mProgress: 100%|█████████████████████████████████████████| Time: 0:17:00\u001B[39m\n"
     ]
    },
    {
     "name": "stdout",
     "output_type": "stream",
     "text": [
      "parameters at step 1500000 saved to ./RL_models_2dpoint_leo/vtol_2D_ppo_1500000.bson\n",
      "test reward at step 1500000: 175567.94836934234\n"
     ]
    }
   ],
   "source": [
    "    # Run without loading the model\n",
    "\n",
    "ReinforcementLearning.run(\n",
    "    agent,\n",
    "    env,\n",
    "    StopAfterStep(1_500_000),\n",
    "    ComposedHook(\n",
    "        DoEveryNStep(saveModel, n=100_000),\n",
    "        DoEveryNStep(validate_policy, n=10_000)),\n",
    ")"
   ],
   "metadata": {
    "collapsed": false
   }
  },
  {
   "cell_type": "code",
   "execution_count": null,
   "outputs": [],
   "source": [
    "# Run with loading the model\n",
    "\n",
    "agent.policy.approximator = loadModel();\n",
    "waypoints_default = [[0.0, 0.0, 0.0], [2.9918019625475694, 0.0, 5.827927303605951]];\n",
    "\n",
    "ReinforcementLearning.run(\n",
    "    agent,\n",
    "    env,\n",
    "    StopAfterStep(1_500_000),\n",
    "    ComposedHook(\n",
    "        DoEveryNStep(saveModel, n=100_000),\n",
    "        DoEveryNStep(validate_policy, n=10_000)),\n",
    ")"
   ],
   "metadata": {
    "collapsed": false
   }
  },
  {
   "cell_type": "code",
   "execution_count": 20,
   "outputs": [
    {
     "name": "stdout",
     "output_type": "stream",
     "text": [
      "[[0.0, 0.0, 0.0], [2.9918019625475694, 0.0, 5.827927303605951]]\n"
     ]
    },
    {
     "data": {
      "image/svg+xml": "<?xml version=\"1.0\" encoding=\"utf-8\"?>\n<svg xmlns=\"http://www.w3.org/2000/svg\" xmlns:xlink=\"http://www.w3.org/1999/xlink\" width=\"600\" height=\"400\" viewBox=\"0 0 2400 1600\">\n<defs>\n  <clipPath id=\"clip730\">\n    <rect x=\"0\" y=\"0\" width=\"2400\" height=\"1600\"/>\n  </clipPath>\n</defs>\n<path clip-path=\"url(#clip730)\" d=\"\nM0 1600 L2400 1600 L2400 0 L0 0  Z\n  \" fill=\"#ffffff\" fill-rule=\"evenodd\" fill-opacity=\"1\"/>\n<defs>\n  <clipPath id=\"clip731\">\n    <rect x=\"480\" y=\"0\" width=\"1681\" height=\"1600\"/>\n  </clipPath>\n</defs>\n<path clip-path=\"url(#clip730)\" d=\"\nM306.25 1486.45 L2352.76 1486.45 L2352.76 47.2441 L306.25 47.2441  Z\n  \" fill=\"#ffffff\" fill-rule=\"evenodd\" fill-opacity=\"1\"/>\n<defs>\n  <clipPath id=\"clip732\">\n    <rect x=\"306\" y=\"47\" width=\"2048\" height=\"1440\"/>\n  </clipPath>\n</defs>\n<polyline clip-path=\"url(#clip732)\" style=\"stroke:#000000; stroke-linecap:round; stroke-linejoin:round; stroke-width:2; stroke-opacity:0.1; fill:none\" points=\"\n  351.213,1486.45 351.213,47.2441 \n  \"/>\n<polyline clip-path=\"url(#clip732)\" style=\"stroke:#000000; stroke-linecap:round; stroke-linejoin:round; stroke-width:2; stroke-opacity:0.1; fill:none\" points=\"\n  999.087,1486.45 999.087,47.2441 \n  \"/>\n<polyline clip-path=\"url(#clip732)\" style=\"stroke:#000000; stroke-linecap:round; stroke-linejoin:round; stroke-width:2; stroke-opacity:0.1; fill:none\" points=\"\n  1646.96,1486.45 1646.96,47.2441 \n  \"/>\n<polyline clip-path=\"url(#clip732)\" style=\"stroke:#000000; stroke-linecap:round; stroke-linejoin:round; stroke-width:2; stroke-opacity:0.1; fill:none\" points=\"\n  2294.84,1486.45 2294.84,47.2441 \n  \"/>\n<polyline clip-path=\"url(#clip730)\" style=\"stroke:#000000; stroke-linecap:round; stroke-linejoin:round; stroke-width:4; stroke-opacity:1; fill:none\" points=\"\n  306.25,1486.45 2352.76,1486.45 \n  \"/>\n<polyline clip-path=\"url(#clip730)\" style=\"stroke:#000000; stroke-linecap:round; stroke-linejoin:round; stroke-width:4; stroke-opacity:1; fill:none\" points=\"\n  351.213,1486.45 351.213,1467.55 \n  \"/>\n<polyline clip-path=\"url(#clip730)\" style=\"stroke:#000000; stroke-linecap:round; stroke-linejoin:round; stroke-width:4; stroke-opacity:1; fill:none\" points=\"\n  999.087,1486.45 999.087,1467.55 \n  \"/>\n<polyline clip-path=\"url(#clip730)\" style=\"stroke:#000000; stroke-linecap:round; stroke-linejoin:round; stroke-width:4; stroke-opacity:1; fill:none\" points=\"\n  1646.96,1486.45 1646.96,1467.55 \n  \"/>\n<polyline clip-path=\"url(#clip730)\" style=\"stroke:#000000; stroke-linecap:round; stroke-linejoin:round; stroke-width:4; stroke-opacity:1; fill:none\" points=\"\n  2294.84,1486.45 2294.84,1467.55 \n  \"/>\n<path clip-path=\"url(#clip730)\" d=\"M351.213 1517.37 Q347.602 1517.37 345.773 1520.93 Q343.967 1524.47 343.967 1531.6 Q343.967 1538.71 345.773 1542.27 Q347.602 1545.82 351.213 1545.82 Q354.847 1545.82 356.652 1542.27 Q358.481 1538.71 358.481 1531.6 Q358.481 1524.47 356.652 1520.93 Q354.847 1517.37 351.213 1517.37 M351.213 1513.66 Q357.023 1513.66 360.078 1518.27 Q363.157 1522.85 363.157 1531.6 Q363.157 1540.33 360.078 1544.94 Q357.023 1549.52 351.213 1549.52 Q345.403 1549.52 342.324 1544.94 Q339.268 1540.33 339.268 1531.6 Q339.268 1522.85 342.324 1518.27 Q345.403 1513.66 351.213 1513.66 Z\" fill=\"#000000\" fill-rule=\"evenodd\" fill-opacity=\"1\" /><path clip-path=\"url(#clip730)\" d=\"M973.786 1514.29 L992.143 1514.29 L992.143 1518.22 L978.069 1518.22 L978.069 1526.7 Q979.087 1526.35 980.106 1526.19 Q981.124 1526 982.143 1526 Q987.93 1526 991.309 1529.17 Q994.689 1532.34 994.689 1537.76 Q994.689 1543.34 991.217 1546.44 Q987.745 1549.52 981.425 1549.52 Q979.249 1549.52 976.981 1549.15 Q974.735 1548.78 972.328 1548.04 L972.328 1543.34 Q974.411 1544.47 976.634 1545.03 Q978.856 1545.58 981.333 1545.58 Q985.337 1545.58 987.675 1543.48 Q990.013 1541.37 990.013 1537.76 Q990.013 1534.15 987.675 1532.04 Q985.337 1529.94 981.333 1529.94 Q979.458 1529.94 977.583 1530.35 Q975.731 1530.77 973.786 1531.65 L973.786 1514.29 Z\" fill=\"#000000\" fill-rule=\"evenodd\" fill-opacity=\"1\" /><path clip-path=\"url(#clip730)\" d=\"M1013.9 1517.37 Q1010.29 1517.37 1008.46 1520.93 Q1006.66 1524.47 1006.66 1531.6 Q1006.66 1538.71 1008.46 1542.27 Q1010.29 1545.82 1013.9 1545.82 Q1017.54 1545.82 1019.34 1542.27 Q1021.17 1538.71 1021.17 1531.6 Q1021.17 1524.47 1019.34 1520.93 Q1017.54 1517.37 1013.9 1517.37 M1013.9 1513.66 Q1019.71 1513.66 1022.77 1518.27 Q1025.85 1522.85 1025.85 1531.6 Q1025.85 1540.33 1022.77 1544.94 Q1019.71 1549.52 1013.9 1549.52 Q1008.09 1549.52 1005.01 1544.94 Q1001.96 1540.33 1001.96 1531.6 Q1001.96 1522.85 1005.01 1518.27 Q1008.09 1513.66 1013.9 1513.66 Z\" fill=\"#000000\" fill-rule=\"evenodd\" fill-opacity=\"1\" /><path clip-path=\"url(#clip730)\" d=\"M1606.57 1544.91 L1614.21 1544.91 L1614.21 1518.55 L1605.9 1520.21 L1605.9 1515.95 L1614.16 1514.29 L1618.84 1514.29 L1618.84 1544.91 L1626.48 1544.91 L1626.48 1548.85 L1606.57 1548.85 L1606.57 1544.91 Z\" fill=\"#000000\" fill-rule=\"evenodd\" fill-opacity=\"1\" /><path clip-path=\"url(#clip730)\" d=\"M1645.92 1517.37 Q1642.31 1517.37 1640.48 1520.93 Q1638.67 1524.47 1638.67 1531.6 Q1638.67 1538.71 1640.48 1542.27 Q1642.31 1545.82 1645.92 1545.82 Q1649.55 1545.82 1651.36 1542.27 Q1653.19 1538.71 1653.19 1531.6 Q1653.19 1524.47 1651.36 1520.93 Q1649.55 1517.37 1645.92 1517.37 M1645.92 1513.66 Q1651.73 1513.66 1654.79 1518.27 Q1657.86 1522.85 1657.86 1531.6 Q1657.86 1540.33 1654.79 1544.94 Q1651.73 1549.52 1645.92 1549.52 Q1640.11 1549.52 1637.03 1544.94 Q1633.98 1540.33 1633.98 1531.6 Q1633.98 1522.85 1637.03 1518.27 Q1640.11 1513.66 1645.92 1513.66 Z\" fill=\"#000000\" fill-rule=\"evenodd\" fill-opacity=\"1\" /><path clip-path=\"url(#clip730)\" d=\"M1676.08 1517.37 Q1672.47 1517.37 1670.64 1520.93 Q1668.84 1524.47 1668.84 1531.6 Q1668.84 1538.71 1670.64 1542.27 Q1672.47 1545.82 1676.08 1545.82 Q1679.72 1545.82 1681.52 1542.27 Q1683.35 1538.71 1683.35 1531.6 Q1683.35 1524.47 1681.52 1520.93 Q1679.72 1517.37 1676.08 1517.37 M1676.08 1513.66 Q1681.89 1513.66 1684.95 1518.27 Q1688.03 1522.85 1688.03 1531.6 Q1688.03 1540.33 1684.95 1544.94 Q1681.89 1549.52 1676.08 1549.52 Q1670.27 1549.52 1667.19 1544.94 Q1664.14 1540.33 1664.14 1531.6 Q1664.14 1522.85 1667.19 1518.27 Q1670.27 1513.66 1676.08 1513.66 Z\" fill=\"#000000\" fill-rule=\"evenodd\" fill-opacity=\"1\" /><path clip-path=\"url(#clip730)\" d=\"M2254.44 1544.91 L2262.08 1544.91 L2262.08 1518.55 L2253.77 1520.21 L2253.77 1515.95 L2262.04 1514.29 L2266.71 1514.29 L2266.71 1544.91 L2274.35 1544.91 L2274.35 1548.85 L2254.44 1548.85 L2254.44 1544.91 Z\" fill=\"#000000\" fill-rule=\"evenodd\" fill-opacity=\"1\" /><path clip-path=\"url(#clip730)\" d=\"M2283.84 1514.29 L2302.2 1514.29 L2302.2 1518.22 L2288.12 1518.22 L2288.12 1526.7 Q2289.14 1526.35 2290.16 1526.19 Q2291.18 1526 2292.2 1526 Q2297.98 1526 2301.36 1529.17 Q2304.74 1532.34 2304.74 1537.76 Q2304.74 1543.34 2301.27 1546.44 Q2297.8 1549.52 2291.48 1549.52 Q2289.3 1549.52 2287.04 1549.15 Q2284.79 1548.78 2282.38 1548.04 L2282.38 1543.34 Q2284.47 1544.47 2286.69 1545.03 Q2288.91 1545.58 2291.39 1545.58 Q2295.39 1545.58 2297.73 1543.48 Q2300.07 1541.37 2300.07 1537.76 Q2300.07 1534.15 2297.73 1532.04 Q2295.39 1529.94 2291.39 1529.94 Q2289.51 1529.94 2287.64 1530.35 Q2285.79 1530.77 2283.84 1531.65 L2283.84 1514.29 Z\" fill=\"#000000\" fill-rule=\"evenodd\" fill-opacity=\"1\" /><path clip-path=\"url(#clip730)\" d=\"M2323.96 1517.37 Q2320.35 1517.37 2318.52 1520.93 Q2316.71 1524.47 2316.71 1531.6 Q2316.71 1538.71 2318.52 1542.27 Q2320.35 1545.82 2323.96 1545.82 Q2327.59 1545.82 2329.4 1542.27 Q2331.22 1538.71 2331.22 1531.6 Q2331.22 1524.47 2329.4 1520.93 Q2327.59 1517.37 2323.96 1517.37 M2323.96 1513.66 Q2329.77 1513.66 2332.82 1518.27 Q2335.9 1522.85 2335.9 1531.6 Q2335.9 1540.33 2332.82 1544.94 Q2329.77 1549.52 2323.96 1549.52 Q2318.15 1549.52 2315.07 1544.94 Q2312.01 1540.33 2312.01 1531.6 Q2312.01 1522.85 2315.07 1518.27 Q2318.15 1513.66 2323.96 1513.66 Z\" fill=\"#000000\" fill-rule=\"evenodd\" fill-opacity=\"1\" /><polyline clip-path=\"url(#clip732)\" style=\"stroke:#000000; stroke-linecap:round; stroke-linejoin:round; stroke-width:2; stroke-opacity:0.1; fill:none\" points=\"\n  306.25,1445.78 2352.76,1445.78 \n  \"/>\n<polyline clip-path=\"url(#clip732)\" style=\"stroke:#000000; stroke-linecap:round; stroke-linejoin:round; stroke-width:2; stroke-opacity:0.1; fill:none\" points=\"\n  306.25,1074.24 2352.76,1074.24 \n  \"/>\n<polyline clip-path=\"url(#clip732)\" style=\"stroke:#000000; stroke-linecap:round; stroke-linejoin:round; stroke-width:2; stroke-opacity:0.1; fill:none\" points=\"\n  306.25,702.705 2352.76,702.705 \n  \"/>\n<polyline clip-path=\"url(#clip732)\" style=\"stroke:#000000; stroke-linecap:round; stroke-linejoin:round; stroke-width:2; stroke-opacity:0.1; fill:none\" points=\"\n  306.25,331.169 2352.76,331.169 \n  \"/>\n<polyline clip-path=\"url(#clip730)\" style=\"stroke:#000000; stroke-linecap:round; stroke-linejoin:round; stroke-width:4; stroke-opacity:1; fill:none\" points=\"\n  306.25,1486.45 306.25,47.2441 \n  \"/>\n<polyline clip-path=\"url(#clip730)\" style=\"stroke:#000000; stroke-linecap:round; stroke-linejoin:round; stroke-width:4; stroke-opacity:1; fill:none\" points=\"\n  306.25,1445.78 325.148,1445.78 \n  \"/>\n<polyline clip-path=\"url(#clip730)\" style=\"stroke:#000000; stroke-linecap:round; stroke-linejoin:round; stroke-width:4; stroke-opacity:1; fill:none\" points=\"\n  306.25,1074.24 325.148,1074.24 \n  \"/>\n<polyline clip-path=\"url(#clip730)\" style=\"stroke:#000000; stroke-linecap:round; stroke-linejoin:round; stroke-width:4; stroke-opacity:1; fill:none\" points=\"\n  306.25,702.705 325.148,702.705 \n  \"/>\n<polyline clip-path=\"url(#clip730)\" style=\"stroke:#000000; stroke-linecap:round; stroke-linejoin:round; stroke-width:4; stroke-opacity:1; fill:none\" points=\"\n  306.25,331.169 325.148,331.169 \n  \"/>\n<path clip-path=\"url(#clip730)\" d=\"M258.306 1431.58 Q254.695 1431.58 252.866 1435.14 Q251.06 1438.68 251.06 1445.81 Q251.06 1452.92 252.866 1456.48 Q254.695 1460.02 258.306 1460.02 Q261.94 1460.02 263.746 1456.48 Q265.574 1452.92 265.574 1445.81 Q265.574 1438.68 263.746 1435.14 Q261.94 1431.58 258.306 1431.58 M258.306 1427.87 Q264.116 1427.87 267.172 1432.48 Q270.25 1437.06 270.25 1445.81 Q270.25 1454.54 267.172 1459.14 Q264.116 1463.73 258.306 1463.73 Q252.496 1463.73 249.417 1459.14 Q246.361 1454.54 246.361 1445.81 Q246.361 1437.06 249.417 1432.48 Q252.496 1427.87 258.306 1427.87 Z\" fill=\"#000000\" fill-rule=\"evenodd\" fill-opacity=\"1\" /><path clip-path=\"url(#clip730)\" d=\"M52.4505 1063.41 L70.8068 1063.41 L70.8068 1067.34 L56.7328 1067.34 L56.7328 1075.82 Q57.7513 1075.47 58.7699 1075.31 Q59.7884 1075.12 60.8069 1075.12 Q66.5939 1075.12 69.9735 1078.29 Q73.3531 1081.46 73.3531 1086.88 Q73.3531 1092.46 69.8809 1095.56 Q66.4087 1098.64 60.0893 1098.64 Q57.9134 1098.64 55.6449 1098.27 Q53.3995 1097.9 50.9921 1097.16 L50.9921 1092.46 Q53.0754 1093.59 55.2977 1094.15 Q57.5199 1094.7 59.9967 1094.7 Q64.0013 1094.7 66.3393 1092.6 Q68.6772 1090.49 68.6772 1086.88 Q68.6772 1083.27 66.3393 1081.16 Q64.0013 1079.06 59.9967 1079.06 Q58.1217 1079.06 56.2467 1079.47 Q54.3949 1079.89 52.4505 1080.77 L52.4505 1063.41 Z\" fill=\"#000000\" fill-rule=\"evenodd\" fill-opacity=\"1\" /><path clip-path=\"url(#clip730)\" d=\"M82.566 1092.09 L87.4503 1092.09 L87.4503 1097.97 L82.566 1097.97 L82.566 1092.09 Z\" fill=\"#000000\" fill-rule=\"evenodd\" fill-opacity=\"1\" /><path clip-path=\"url(#clip730)\" d=\"M107.635 1066.49 Q104.024 1066.49 102.196 1070.05 Q100.39 1073.59 100.39 1080.72 Q100.39 1087.83 102.196 1091.39 Q104.024 1094.94 107.635 1094.94 Q111.27 1094.94 113.075 1091.39 Q114.904 1087.83 114.904 1080.72 Q114.904 1073.59 113.075 1070.05 Q111.27 1066.49 107.635 1066.49 M107.635 1062.78 Q113.445 1062.78 116.501 1067.39 Q119.58 1071.97 119.58 1080.72 Q119.58 1089.45 116.501 1094.06 Q113.445 1098.64 107.635 1098.64 Q101.825 1098.64 98.7465 1094.06 Q95.691 1089.45 95.691 1080.72 Q95.691 1071.97 98.7465 1067.39 Q101.825 1062.78 107.635 1062.78 Z\" fill=\"#000000\" fill-rule=\"evenodd\" fill-opacity=\"1\" /><path clip-path=\"url(#clip730)\" d=\"M137.797 1066.49 Q134.186 1066.49 132.357 1070.05 Q130.552 1073.59 130.552 1080.72 Q130.552 1087.83 132.357 1091.39 Q134.186 1094.94 137.797 1094.94 Q141.431 1094.94 143.237 1091.39 Q145.066 1087.83 145.066 1080.72 Q145.066 1073.59 143.237 1070.05 Q141.431 1066.49 137.797 1066.49 M137.797 1062.78 Q143.607 1062.78 146.663 1067.39 Q149.742 1071.97 149.742 1080.72 Q149.742 1089.45 146.663 1094.06 Q143.607 1098.64 137.797 1098.64 Q131.987 1098.64 128.908 1094.06 Q125.853 1089.45 125.853 1080.72 Q125.853 1071.97 128.908 1067.39 Q131.987 1062.78 137.797 1062.78 Z\" fill=\"#000000\" fill-rule=\"evenodd\" fill-opacity=\"1\" /><path clip-path=\"url(#clip730)\" d=\"M186.13 1072.51 L175.552 1083.13 L186.13 1093.71 L183.376 1096.51 L172.751 1085.89 L162.126 1096.51 L159.394 1093.71 L169.95 1083.13 L159.394 1072.51 L162.126 1069.7 L172.751 1080.33 L183.376 1069.7 L186.13 1072.51 Z\" fill=\"#000000\" fill-rule=\"evenodd\" fill-opacity=\"1\" /><path clip-path=\"url(#clip730)\" d=\"M198.491 1094.03 L206.13 1094.03 L206.13 1067.67 L197.82 1069.33 L197.82 1065.08 L206.084 1063.41 L210.76 1063.41 L210.76 1094.03 L218.399 1094.03 L218.399 1097.97 L198.491 1097.97 L198.491 1094.03 Z\" fill=\"#000000\" fill-rule=\"evenodd\" fill-opacity=\"1\" /><path clip-path=\"url(#clip730)\" d=\"M237.843 1066.49 Q234.232 1066.49 232.403 1070.05 Q230.598 1073.59 230.598 1080.72 Q230.598 1087.83 232.403 1091.39 Q234.232 1094.94 237.843 1094.94 Q241.477 1094.94 243.283 1091.39 Q245.111 1087.83 245.111 1080.72 Q245.111 1073.59 243.283 1070.05 Q241.477 1066.49 237.843 1066.49 M237.843 1062.78 Q243.653 1062.78 246.709 1067.39 Q249.787 1071.97 249.787 1080.72 Q249.787 1089.45 246.709 1094.06 Q243.653 1098.64 237.843 1098.64 Q232.033 1098.64 228.954 1094.06 Q225.899 1089.45 225.899 1080.72 Q225.899 1071.97 228.954 1067.39 Q232.033 1062.78 237.843 1062.78 Z\" fill=\"#000000\" fill-rule=\"evenodd\" fill-opacity=\"1\" /><path clip-path=\"url(#clip730)\" d=\"M262.464 1045.79 L252.872 1060.78 L262.464 1060.78 L262.464 1045.79 M261.467 1042.48 L266.244 1042.48 L266.244 1060.78 L270.25 1060.78 L270.25 1063.94 L266.244 1063.94 L266.244 1070.56 L262.464 1070.56 L262.464 1063.94 L249.787 1063.94 L249.787 1060.27 L261.467 1042.48 Z\" fill=\"#000000\" fill-rule=\"evenodd\" fill-opacity=\"1\" /><path clip-path=\"url(#clip730)\" d=\"M55.5089 722.497 L63.1477 722.497 L63.1477 696.132 L54.8376 697.798 L54.8376 693.539 L63.1014 691.873 L67.7773 691.873 L67.7773 722.497 L75.4162 722.497 L75.4162 726.433 L55.5089 726.433 L55.5089 722.497 Z\" fill=\"#000000\" fill-rule=\"evenodd\" fill-opacity=\"1\" /><path clip-path=\"url(#clip730)\" d=\"M84.8606 720.553 L89.7448 720.553 L89.7448 726.433 L84.8606 726.433 L84.8606 720.553 Z\" fill=\"#000000\" fill-rule=\"evenodd\" fill-opacity=\"1\" /><path clip-path=\"url(#clip730)\" d=\"M109.93 694.951 Q106.319 694.951 104.49 698.516 Q102.685 702.058 102.685 709.187 Q102.685 716.294 104.49 719.859 Q106.319 723.4 109.93 723.4 Q113.564 723.4 115.37 719.859 Q117.198 716.294 117.198 709.187 Q117.198 702.058 115.37 698.516 Q113.564 694.951 109.93 694.951 M109.93 691.248 Q115.74 691.248 118.796 695.854 Q121.874 700.437 121.874 709.187 Q121.874 717.914 118.796 722.521 Q115.74 727.104 109.93 727.104 Q104.12 727.104 101.041 722.521 Q97.9855 717.914 97.9855 709.187 Q97.9855 700.437 101.041 695.854 Q104.12 691.248 109.93 691.248 Z\" fill=\"#000000\" fill-rule=\"evenodd\" fill-opacity=\"1\" /><path clip-path=\"url(#clip730)\" d=\"M140.092 694.951 Q136.481 694.951 134.652 698.516 Q132.846 702.058 132.846 709.187 Q132.846 716.294 134.652 719.859 Q136.481 723.4 140.092 723.4 Q143.726 723.4 145.532 719.859 Q147.36 716.294 147.36 709.187 Q147.36 702.058 145.532 698.516 Q143.726 694.951 140.092 694.951 M140.092 691.248 Q145.902 691.248 148.957 695.854 Q152.036 700.437 152.036 709.187 Q152.036 717.914 148.957 722.521 Q145.902 727.104 140.092 727.104 Q134.282 727.104 131.203 722.521 Q128.147 717.914 128.147 709.187 Q128.147 700.437 131.203 695.854 Q134.282 691.248 140.092 691.248 Z\" fill=\"#000000\" fill-rule=\"evenodd\" fill-opacity=\"1\" /><path clip-path=\"url(#clip730)\" d=\"M188.425 700.97 L177.846 711.595 L188.425 722.173 L185.67 724.974 L175.045 714.349 L164.42 724.974 L161.689 722.173 L172.244 711.595 L161.689 700.97 L164.42 698.169 L175.045 708.794 L185.67 698.169 L188.425 700.97 Z\" fill=\"#000000\" fill-rule=\"evenodd\" fill-opacity=\"1\" /><path clip-path=\"url(#clip730)\" d=\"M200.786 722.497 L208.425 722.497 L208.425 696.132 L200.115 697.798 L200.115 693.539 L208.378 691.873 L213.054 691.873 L213.054 722.497 L220.693 722.497 L220.693 726.433 L200.786 726.433 L200.786 722.497 Z\" fill=\"#000000\" fill-rule=\"evenodd\" fill-opacity=\"1\" /><path clip-path=\"url(#clip730)\" d=\"M240.138 694.951 Q236.526 694.951 234.698 698.516 Q232.892 702.058 232.892 709.187 Q232.892 716.294 234.698 719.859 Q236.526 723.4 240.138 723.4 Q243.772 723.4 245.577 719.859 Q247.406 716.294 247.406 709.187 Q247.406 702.058 245.577 698.516 Q243.772 694.951 240.138 694.951 M240.138 691.248 Q245.948 691.248 249.003 695.854 Q252.082 700.437 252.082 709.187 Q252.082 717.914 249.003 722.521 Q245.948 727.104 240.138 727.104 Q234.327 727.104 231.249 722.521 Q228.193 717.914 228.193 709.187 Q228.193 700.437 231.249 695.854 Q234.327 691.248 240.138 691.248 Z\" fill=\"#000000\" fill-rule=\"evenodd\" fill-opacity=\"1\" /><path clip-path=\"url(#clip730)\" d=\"M253.267 670.942 L268.181 670.942 L268.181 674.139 L256.746 674.139 L256.746 681.023 Q257.574 680.741 258.401 680.609 Q259.229 680.459 260.056 680.459 Q264.758 680.459 267.504 683.036 Q270.25 685.612 270.25 690.013 Q270.25 694.546 267.429 697.066 Q264.608 699.568 259.473 699.568 Q257.705 699.568 255.862 699.267 Q254.038 698.966 252.082 698.364 L252.082 694.546 Q253.775 695.467 255.58 695.919 Q257.386 696.37 259.398 696.37 Q262.652 696.37 264.551 694.659 Q266.451 692.947 266.451 690.013 Q266.451 687.079 264.551 685.368 Q262.652 683.656 259.398 683.656 Q257.875 683.656 256.351 683.995 Q254.847 684.333 253.267 685.048 L253.267 670.942 Z\" fill=\"#000000\" fill-rule=\"evenodd\" fill-opacity=\"1\" /><path clip-path=\"url(#clip730)\" d=\"M55.5089 350.962 L63.1477 350.962 L63.1477 324.596 L54.8376 326.263 L54.8376 322.003 L63.1014 320.337 L67.7773 320.337 L67.7773 350.962 L75.4162 350.962 L75.4162 354.897 L55.5089 354.897 L55.5089 350.962 Z\" fill=\"#000000\" fill-rule=\"evenodd\" fill-opacity=\"1\" /><path clip-path=\"url(#clip730)\" d=\"M84.8606 349.017 L89.7448 349.017 L89.7448 354.897 L84.8606 354.897 L84.8606 349.017 Z\" fill=\"#000000\" fill-rule=\"evenodd\" fill-opacity=\"1\" /><path clip-path=\"url(#clip730)\" d=\"M99.9762 320.337 L118.333 320.337 L118.333 324.272 L104.259 324.272 L104.259 332.744 Q105.277 332.397 106.296 332.235 Q107.314 332.05 108.333 332.05 Q114.12 332.05 117.499 335.221 Q120.879 338.392 120.879 343.809 Q120.879 349.388 117.407 352.489 Q113.934 355.568 107.615 355.568 Q105.439 355.568 103.171 355.198 Q100.925 354.827 98.5179 354.087 L98.5179 349.388 Q100.601 350.522 102.823 351.077 Q105.046 351.633 107.522 351.633 Q111.527 351.633 113.865 349.526 Q116.203 347.42 116.203 343.809 Q116.203 340.198 113.865 338.091 Q111.527 335.985 107.522 335.985 Q105.648 335.985 103.773 336.401 Q101.921 336.818 99.9762 337.698 L99.9762 320.337 Z\" fill=\"#000000\" fill-rule=\"evenodd\" fill-opacity=\"1\" /><path clip-path=\"url(#clip730)\" d=\"M140.092 323.415 Q136.481 323.415 134.652 326.98 Q132.846 330.522 132.846 337.651 Q132.846 344.758 134.652 348.323 Q136.481 351.864 140.092 351.864 Q143.726 351.864 145.532 348.323 Q147.36 344.758 147.36 337.651 Q147.36 330.522 145.532 326.98 Q143.726 323.415 140.092 323.415 M140.092 319.712 Q145.902 319.712 148.957 324.318 Q152.036 328.902 152.036 337.651 Q152.036 346.378 148.957 350.985 Q145.902 355.568 140.092 355.568 Q134.282 355.568 131.203 350.985 Q128.147 346.378 128.147 337.651 Q128.147 328.902 131.203 324.318 Q134.282 319.712 140.092 319.712 Z\" fill=\"#000000\" fill-rule=\"evenodd\" fill-opacity=\"1\" /><path clip-path=\"url(#clip730)\" d=\"M188.425 329.434 L177.846 340.059 L188.425 350.638 L185.67 353.438 L175.045 342.813 L164.42 353.438 L161.689 350.638 L172.244 340.059 L161.689 329.434 L164.42 326.633 L175.045 337.258 L185.67 326.633 L188.425 329.434 Z\" fill=\"#000000\" fill-rule=\"evenodd\" fill-opacity=\"1\" /><path clip-path=\"url(#clip730)\" d=\"M200.786 350.962 L208.425 350.962 L208.425 324.596 L200.115 326.263 L200.115 322.003 L208.378 320.337 L213.054 320.337 L213.054 350.962 L220.693 350.962 L220.693 354.897 L200.786 354.897 L200.786 350.962 Z\" fill=\"#000000\" fill-rule=\"evenodd\" fill-opacity=\"1\" /><path clip-path=\"url(#clip730)\" d=\"M240.138 323.415 Q236.526 323.415 234.698 326.98 Q232.892 330.522 232.892 337.651 Q232.892 344.758 234.698 348.323 Q236.526 351.864 240.138 351.864 Q243.772 351.864 245.577 348.323 Q247.406 344.758 247.406 337.651 Q247.406 330.522 245.577 326.98 Q243.772 323.415 240.138 323.415 M240.138 319.712 Q245.948 319.712 249.003 324.318 Q252.082 328.902 252.082 337.651 Q252.082 346.378 249.003 350.985 Q245.948 355.568 240.138 355.568 Q234.327 355.568 231.249 350.985 Q228.193 346.378 228.193 337.651 Q228.193 328.902 231.249 324.318 Q234.327 319.712 240.138 319.712 Z\" fill=\"#000000\" fill-rule=\"evenodd\" fill-opacity=\"1\" /><path clip-path=\"url(#clip730)\" d=\"M253.267 299.406 L268.181 299.406 L268.181 302.604 L256.746 302.604 L256.746 309.487 Q257.574 309.205 258.401 309.074 Q259.229 308.923 260.056 308.923 Q264.758 308.923 267.504 311.5 Q270.25 314.076 270.25 318.477 Q270.25 323.01 267.429 325.53 Q264.608 328.032 259.473 328.032 Q257.705 328.032 255.862 327.731 Q254.038 327.43 252.082 326.828 L252.082 323.01 Q253.775 323.932 255.58 324.383 Q257.386 324.834 259.398 324.834 Q262.652 324.834 264.551 323.123 Q266.451 321.411 266.451 318.477 Q266.451 315.543 264.551 313.832 Q262.652 312.12 259.398 312.12 Q257.875 312.12 256.351 312.459 Q254.847 312.797 253.267 313.512 L253.267 299.406 Z\" fill=\"#000000\" fill-rule=\"evenodd\" fill-opacity=\"1\" /><polyline clip-path=\"url(#clip732)\" style=\"stroke:#009af9; stroke-linecap:round; stroke-linejoin:round; stroke-width:4; stroke-opacity:1; fill:none\" points=\"\n  364.17,1445.72 377.128,1445.65 390.085,1445.51 403.043,1445.52 416,1445.18 428.958,1444.3 441.915,1444.74 454.873,1444.76 467.83,1445.26 480.788,1445.04 \n  493.745,1444.68 506.703,1444.96 519.66,1445 532.618,1444.87 545.575,1445.24 558.533,1445.26 571.49,1445.18 584.447,1445.15 597.405,1445.03 610.362,1445.31 \n  623.32,1445.15 636.277,1197.12 649.235,1445.2 662.192,1445.23 675.15,1444.8 688.107,1444.97 701.065,1439.02 714.022,1445.19 726.98,1444.97 739.937,1444.88 \n  752.895,1444.87 765.852,1444.98 778.81,1445.08 791.767,1444.73 804.725,1444.67 817.682,1444.88 830.64,1444.71 843.597,1406.78 856.555,1444.81 869.512,1362.22 \n  882.47,1444.83 895.427,1444.56 908.385,1444.53 921.342,1418.27 934.3,1444.81 947.257,1444.99 960.215,1445.09 973.172,1445.03 986.13,1445.05 999.087,1444.7 \n  1012.04,1445.14 1025,1444.65 1037.96,1444.7 1050.92,1444.74 1063.87,1245.69 1076.83,1444.84 1089.79,1444.79 1102.75,1445.1 1115.7,1444.94 1128.66,1445.02 \n  1141.62,1444.91 1154.58,1444.59 1167.53,1444.74 1180.49,1444.98 1193.45,1444.39 1206.41,1268.52 1219.36,1444.57 1232.32,1444.99 1245.28,1444.84 1258.24,1444.87 \n  1271.19,1445.09 1284.15,1445.36 1297.11,1444.89 1310.07,1445.12 1323.02,1445.12 1335.98,1445.15 1348.94,1445.19 1361.9,1445.25 1374.85,1445.18 1387.81,1445.35 \n  1400.77,1445.22 1413.73,1445.18 1426.68,605.381 1439.64,1445.36 1452.6,1445.2 1465.56,1445.17 1478.51,1445.19 1491.47,1445.09 1504.43,1445.21 1517.39,1445.29 \n  1530.34,1445.11 1543.3,1445.27 1556.26,945.902 1569.22,1445.11 1582.17,1445.27 1595.13,1445.19 1608.09,1445.15 1621.05,1445.3 1634,1445.2 1646.96,1445.22 \n  1659.92,1445.39 1672.88,621.996 1685.83,1445.32 1698.79,1445.18 1711.75,1445.22 1724.71,1445.34 1737.66,535.427 1750.62,459.656 1763.58,1445.36 1776.54,1445.37 \n  1789.49,311.568 1802.45,333.983 1815.41,1445.34 1828.37,1445.38 1841.32,1445.36 1854.28,1445.25 1867.24,1445.28 1880.2,459.659 1893.15,1445.22 1906.11,1445.27 \n  1919.07,217.145 1932.03,167.023 1944.98,1445.38 1957.94,1445.42 1970.9,1445.42 1983.86,669.974 1996.81,167.016 2009.77,1445.4 2022.73,87.9763 2035.69,114.845 \n  2048.64,1445.19 2061.6,141.196 2074.56,1445.16 2087.52,1445.35 2100.47,311.551 2113.43,334.002 2126.39,1445.25 2139.35,1445.13 2152.3,1445.4 2165.26,265.307 \n  2178.22,241.449 2191.18,217.13 2204.13,356.001 2217.09,1445.18 2230.05,241.474 2243.01,192.32 2255.96,1445.11 2268.92,167.034 2281.88,1445.29 2294.84,141.181 \n  \n  \"/>\n<path clip-path=\"url(#clip730)\" d=\"\nM374.467 198.898 L631.548 198.898 L631.548 95.2176 L374.467 95.2176  Z\n  \" fill=\"#ffffff\" fill-rule=\"evenodd\" fill-opacity=\"1\"/>\n<polyline clip-path=\"url(#clip730)\" style=\"stroke:#000000; stroke-linecap:round; stroke-linejoin:round; stroke-width:4; stroke-opacity:1; fill:none\" points=\"\n  374.467,198.898 631.548,198.898 631.548,95.2176 374.467,95.2176 374.467,198.898 \n  \"/>\n<polyline clip-path=\"url(#clip730)\" style=\"stroke:#009af9; stroke-linecap:round; stroke-linejoin:round; stroke-width:4; stroke-opacity:1; fill:none\" points=\"\n  397.206,147.058 533.64,147.058 \n  \"/>\n<path clip-path=\"url(#clip730)\" d=\"M570.221 166.745 Q568.416 171.375 566.703 172.787 Q564.99 174.199 562.119 174.199 L558.717 174.199 L558.717 170.634 L561.217 170.634 Q562.976 170.634 563.948 169.8 Q564.92 168.967 566.101 165.865 L566.865 163.921 L556.379 138.412 L560.893 138.412 L568.994 158.689 L577.096 138.412 L581.61 138.412 L570.221 166.745 Z\" fill=\"#000000\" fill-rule=\"evenodd\" fill-opacity=\"1\" /><path clip-path=\"url(#clip730)\" d=\"M588.902 160.402 L596.541 160.402 L596.541 134.037 L588.23 135.703 L588.23 131.444 L596.494 129.778 L601.17 129.778 L601.17 160.402 L608.809 160.402 L608.809 164.338 L588.902 164.338 L588.902 160.402 Z\" fill=\"#000000\" fill-rule=\"evenodd\" fill-opacity=\"1\" /></svg>\n"
     },
     "execution_count": 20,
     "metadata": {},
     "output_type": "execute_result"
    }
   ],
   "source": [
    "### Plot the stuff\n",
    "println(waypoints_default);\n",
    "plot(episode_test_reward_hook.rewards)\n"
   ],
   "metadata": {
    "collapsed": false
   }
  },
  {
   "cell_type": "code",
   "execution_count": 22,
   "outputs": [
    {
     "name": "stdout",
     "output_type": "stream",
     "text": [
      "[[0.0, 0.0, 0.0], [2.9918019625475694, 0.0, 5.827927303605951]]\n"
     ]
    },
    {
     "data": {
      "image/svg+xml": "<?xml version=\"1.0\" encoding=\"utf-8\"?>\n<svg xmlns=\"http://www.w3.org/2000/svg\" xmlns:xlink=\"http://www.w3.org/1999/xlink\" width=\"600\" height=\"400\" viewBox=\"0 0 2400 1600\">\n<defs>\n  <clipPath id=\"clip770\">\n    <rect x=\"0\" y=\"0\" width=\"2400\" height=\"1600\"/>\n  </clipPath>\n</defs>\n<path clip-path=\"url(#clip770)\" d=\"\nM0 1600 L2400 1600 L2400 0 L0 0  Z\n  \" fill=\"#ffffff\" fill-rule=\"evenodd\" fill-opacity=\"1\"/>\n<defs>\n  <clipPath id=\"clip771\">\n    <rect x=\"480\" y=\"0\" width=\"1681\" height=\"1600\"/>\n  </clipPath>\n</defs>\n<path clip-path=\"url(#clip770)\" d=\"\nM170.857 1486.45 L2352.76 1486.45 L2352.76 47.2441 L170.857 47.2441  Z\n  \" fill=\"#ffffff\" fill-rule=\"evenodd\" fill-opacity=\"1\"/>\n<defs>\n  <clipPath id=\"clip772\">\n    <rect x=\"170\" y=\"47\" width=\"2183\" height=\"1440\"/>\n  </clipPath>\n</defs>\n<polyline clip-path=\"url(#clip772)\" style=\"stroke:#000000; stroke-linecap:round; stroke-linejoin:round; stroke-width:2; stroke-opacity:0.1; fill:none\" points=\"\n  218.795,1486.45 218.795,47.2441 \n  \"/>\n<polyline clip-path=\"url(#clip772)\" style=\"stroke:#000000; stroke-linecap:round; stroke-linejoin:round; stroke-width:2; stroke-opacity:0.1; fill:none\" points=\"\n  909.531,1486.45 909.531,47.2441 \n  \"/>\n<polyline clip-path=\"url(#clip772)\" style=\"stroke:#000000; stroke-linecap:round; stroke-linejoin:round; stroke-width:2; stroke-opacity:0.1; fill:none\" points=\"\n  1600.27,1486.45 1600.27,47.2441 \n  \"/>\n<polyline clip-path=\"url(#clip772)\" style=\"stroke:#000000; stroke-linecap:round; stroke-linejoin:round; stroke-width:2; stroke-opacity:0.1; fill:none\" points=\"\n  2291,1486.45 2291,47.2441 \n  \"/>\n<polyline clip-path=\"url(#clip770)\" style=\"stroke:#000000; stroke-linecap:round; stroke-linejoin:round; stroke-width:4; stroke-opacity:1; fill:none\" points=\"\n  170.857,1486.45 2352.76,1486.45 \n  \"/>\n<polyline clip-path=\"url(#clip770)\" style=\"stroke:#000000; stroke-linecap:round; stroke-linejoin:round; stroke-width:4; stroke-opacity:1; fill:none\" points=\"\n  218.795,1486.45 218.795,1467.55 \n  \"/>\n<polyline clip-path=\"url(#clip770)\" style=\"stroke:#000000; stroke-linecap:round; stroke-linejoin:round; stroke-width:4; stroke-opacity:1; fill:none\" points=\"\n  909.531,1486.45 909.531,1467.55 \n  \"/>\n<polyline clip-path=\"url(#clip770)\" style=\"stroke:#000000; stroke-linecap:round; stroke-linejoin:round; stroke-width:4; stroke-opacity:1; fill:none\" points=\"\n  1600.27,1486.45 1600.27,1467.55 \n  \"/>\n<polyline clip-path=\"url(#clip770)\" style=\"stroke:#000000; stroke-linecap:round; stroke-linejoin:round; stroke-width:4; stroke-opacity:1; fill:none\" points=\"\n  2291,1486.45 2291,1467.55 \n  \"/>\n<path clip-path=\"url(#clip770)\" d=\"M218.795 1517.37 Q215.183 1517.37 213.355 1520.93 Q211.549 1524.47 211.549 1531.6 Q211.549 1538.71 213.355 1542.27 Q215.183 1545.82 218.795 1545.82 Q222.429 1545.82 224.234 1542.27 Q226.063 1538.71 226.063 1531.6 Q226.063 1524.47 224.234 1520.93 Q222.429 1517.37 218.795 1517.37 M218.795 1513.66 Q224.605 1513.66 227.66 1518.27 Q230.739 1522.85 230.739 1531.6 Q230.739 1540.33 227.66 1544.94 Q224.605 1549.52 218.795 1549.52 Q212.984 1549.52 209.906 1544.94 Q206.85 1540.33 206.85 1531.6 Q206.85 1522.85 209.906 1518.27 Q212.984 1513.66 218.795 1513.66 Z\" fill=\"#000000\" fill-rule=\"evenodd\" fill-opacity=\"1\" /><path clip-path=\"url(#clip770)\" d=\"M884.23 1514.29 L902.587 1514.29 L902.587 1518.22 L888.513 1518.22 L888.513 1526.7 Q889.531 1526.35 890.55 1526.19 Q891.568 1526 892.587 1526 Q898.374 1526 901.753 1529.17 Q905.133 1532.34 905.133 1537.76 Q905.133 1543.34 901.661 1546.44 Q898.189 1549.52 891.869 1549.52 Q889.693 1549.52 887.425 1549.15 Q885.179 1548.78 882.772 1548.04 L882.772 1543.34 Q884.855 1544.47 887.077 1545.03 Q889.3 1545.58 891.777 1545.58 Q895.781 1545.58 898.119 1543.48 Q900.457 1541.37 900.457 1537.76 Q900.457 1534.15 898.119 1532.04 Q895.781 1529.94 891.777 1529.94 Q889.902 1529.94 888.027 1530.35 Q886.175 1530.77 884.23 1531.65 L884.23 1514.29 Z\" fill=\"#000000\" fill-rule=\"evenodd\" fill-opacity=\"1\" /><path clip-path=\"url(#clip770)\" d=\"M924.346 1517.37 Q920.735 1517.37 918.906 1520.93 Q917.1 1524.47 917.1 1531.6 Q917.1 1538.71 918.906 1542.27 Q920.735 1545.82 924.346 1545.82 Q927.98 1545.82 929.786 1542.27 Q931.614 1538.71 931.614 1531.6 Q931.614 1524.47 929.786 1520.93 Q927.98 1517.37 924.346 1517.37 M924.346 1513.66 Q930.156 1513.66 933.211 1518.27 Q936.29 1522.85 936.29 1531.6 Q936.29 1540.33 933.211 1544.94 Q930.156 1549.52 924.346 1549.52 Q918.536 1549.52 915.457 1544.94 Q912.401 1540.33 912.401 1531.6 Q912.401 1522.85 915.457 1518.27 Q918.536 1513.66 924.346 1513.66 Z\" fill=\"#000000\" fill-rule=\"evenodd\" fill-opacity=\"1\" /><path clip-path=\"url(#clip770)\" d=\"M1559.87 1544.91 L1567.51 1544.91 L1567.51 1518.55 L1559.2 1520.21 L1559.2 1515.95 L1567.47 1514.29 L1572.14 1514.29 L1572.14 1544.91 L1579.78 1544.91 L1579.78 1548.85 L1559.87 1548.85 L1559.87 1544.91 Z\" fill=\"#000000\" fill-rule=\"evenodd\" fill-opacity=\"1\" /><path clip-path=\"url(#clip770)\" d=\"M1599.23 1517.37 Q1595.61 1517.37 1593.79 1520.93 Q1591.98 1524.47 1591.98 1531.6 Q1591.98 1538.71 1593.79 1542.27 Q1595.61 1545.82 1599.23 1545.82 Q1602.86 1545.82 1604.67 1542.27 Q1606.49 1538.71 1606.49 1531.6 Q1606.49 1524.47 1604.67 1520.93 Q1602.86 1517.37 1599.23 1517.37 M1599.23 1513.66 Q1605.04 1513.66 1608.09 1518.27 Q1611.17 1522.85 1611.17 1531.6 Q1611.17 1540.33 1608.09 1544.94 Q1605.04 1549.52 1599.23 1549.52 Q1593.42 1549.52 1590.34 1544.94 Q1587.28 1540.33 1587.28 1531.6 Q1587.28 1522.85 1590.34 1518.27 Q1593.42 1513.66 1599.23 1513.66 Z\" fill=\"#000000\" fill-rule=\"evenodd\" fill-opacity=\"1\" /><path clip-path=\"url(#clip770)\" d=\"M1629.39 1517.37 Q1625.78 1517.37 1623.95 1520.93 Q1622.14 1524.47 1622.14 1531.6 Q1622.14 1538.71 1623.95 1542.27 Q1625.78 1545.82 1629.39 1545.82 Q1633.02 1545.82 1634.83 1542.27 Q1636.66 1538.71 1636.66 1531.6 Q1636.66 1524.47 1634.83 1520.93 Q1633.02 1517.37 1629.39 1517.37 M1629.39 1513.66 Q1635.2 1513.66 1638.25 1518.27 Q1641.33 1522.85 1641.33 1531.6 Q1641.33 1540.33 1638.25 1544.94 Q1635.2 1549.52 1629.39 1549.52 Q1623.58 1549.52 1620.5 1544.94 Q1617.44 1540.33 1617.44 1531.6 Q1617.44 1522.85 1620.5 1518.27 Q1623.58 1513.66 1629.39 1513.66 Z\" fill=\"#000000\" fill-rule=\"evenodd\" fill-opacity=\"1\" /><path clip-path=\"url(#clip770)\" d=\"M2250.61 1544.91 L2258.25 1544.91 L2258.25 1518.55 L2249.94 1520.21 L2249.94 1515.95 L2258.2 1514.29 L2262.88 1514.29 L2262.88 1544.91 L2270.52 1544.91 L2270.52 1548.85 L2250.61 1548.85 L2250.61 1544.91 Z\" fill=\"#000000\" fill-rule=\"evenodd\" fill-opacity=\"1\" /><path clip-path=\"url(#clip770)\" d=\"M2280.01 1514.29 L2298.37 1514.29 L2298.37 1518.22 L2284.29 1518.22 L2284.29 1526.7 Q2285.31 1526.35 2286.33 1526.19 Q2287.35 1526 2288.37 1526 Q2294.15 1526 2297.53 1529.17 Q2300.91 1532.34 2300.91 1537.76 Q2300.91 1543.34 2297.44 1546.44 Q2293.97 1549.52 2287.65 1549.52 Q2285.47 1549.52 2283.2 1549.15 Q2280.96 1548.78 2278.55 1548.04 L2278.55 1543.34 Q2280.63 1544.47 2282.86 1545.03 Q2285.08 1545.58 2287.56 1545.58 Q2291.56 1545.58 2293.9 1543.48 Q2296.24 1541.37 2296.24 1537.76 Q2296.24 1534.15 2293.9 1532.04 Q2291.56 1529.94 2287.56 1529.94 Q2285.68 1529.94 2283.81 1530.35 Q2281.95 1530.77 2280.01 1531.65 L2280.01 1514.29 Z\" fill=\"#000000\" fill-rule=\"evenodd\" fill-opacity=\"1\" /><path clip-path=\"url(#clip770)\" d=\"M2320.12 1517.37 Q2316.51 1517.37 2314.68 1520.93 Q2312.88 1524.47 2312.88 1531.6 Q2312.88 1538.71 2314.68 1542.27 Q2316.51 1545.82 2320.12 1545.82 Q2323.76 1545.82 2325.56 1542.27 Q2327.39 1538.71 2327.39 1531.6 Q2327.39 1524.47 2325.56 1520.93 Q2323.76 1517.37 2320.12 1517.37 M2320.12 1513.66 Q2325.93 1513.66 2328.99 1518.27 Q2332.07 1522.85 2332.07 1531.6 Q2332.07 1540.33 2328.99 1544.94 Q2325.93 1549.52 2320.12 1549.52 Q2314.31 1549.52 2311.24 1544.94 Q2308.18 1540.33 2308.18 1531.6 Q2308.18 1522.85 2311.24 1518.27 Q2314.31 1513.66 2320.12 1513.66 Z\" fill=\"#000000\" fill-rule=\"evenodd\" fill-opacity=\"1\" /><polyline clip-path=\"url(#clip772)\" style=\"stroke:#000000; stroke-linecap:round; stroke-linejoin:round; stroke-width:2; stroke-opacity:0.1; fill:none\" points=\"\n  170.857,1375.74 2352.76,1375.74 \n  \"/>\n<polyline clip-path=\"url(#clip772)\" style=\"stroke:#000000; stroke-linecap:round; stroke-linejoin:round; stroke-width:2; stroke-opacity:0.1; fill:none\" points=\"\n  170.857,932.908 2352.76,932.908 \n  \"/>\n<polyline clip-path=\"url(#clip772)\" style=\"stroke:#000000; stroke-linecap:round; stroke-linejoin:round; stroke-width:2; stroke-opacity:0.1; fill:none\" points=\"\n  170.857,490.076 2352.76,490.076 \n  \"/>\n<polyline clip-path=\"url(#clip772)\" style=\"stroke:#000000; stroke-linecap:round; stroke-linejoin:round; stroke-width:2; stroke-opacity:0.1; fill:none\" points=\"\n  170.857,47.2441 2352.76,47.2441 \n  \"/>\n<polyline clip-path=\"url(#clip770)\" style=\"stroke:#000000; stroke-linecap:round; stroke-linejoin:round; stroke-width:4; stroke-opacity:1; fill:none\" points=\"\n  170.857,1486.45 170.857,47.2441 \n  \"/>\n<polyline clip-path=\"url(#clip770)\" style=\"stroke:#000000; stroke-linecap:round; stroke-linejoin:round; stroke-width:4; stroke-opacity:1; fill:none\" points=\"\n  170.857,1375.74 189.755,1375.74 \n  \"/>\n<polyline clip-path=\"url(#clip770)\" style=\"stroke:#000000; stroke-linecap:round; stroke-linejoin:round; stroke-width:4; stroke-opacity:1; fill:none\" points=\"\n  170.857,932.908 189.755,932.908 \n  \"/>\n<polyline clip-path=\"url(#clip770)\" style=\"stroke:#000000; stroke-linecap:round; stroke-linejoin:round; stroke-width:4; stroke-opacity:1; fill:none\" points=\"\n  170.857,490.076 189.755,490.076 \n  \"/>\n<polyline clip-path=\"url(#clip770)\" style=\"stroke:#000000; stroke-linecap:round; stroke-linejoin:round; stroke-width:4; stroke-opacity:1; fill:none\" points=\"\n  170.857,47.2441 189.755,47.2441 \n  \"/>\n<path clip-path=\"url(#clip770)\" d=\"M122.913 1361.54 Q119.302 1361.54 117.473 1365.1 Q115.668 1368.65 115.668 1375.77 Q115.668 1382.88 117.473 1386.45 Q119.302 1389.99 122.913 1389.99 Q126.547 1389.99 128.353 1386.45 Q130.182 1382.88 130.182 1375.77 Q130.182 1368.65 128.353 1365.1 Q126.547 1361.54 122.913 1361.54 M122.913 1357.83 Q128.723 1357.83 131.779 1362.44 Q134.857 1367.02 134.857 1375.77 Q134.857 1384.5 131.779 1389.11 Q128.723 1393.69 122.913 1393.69 Q117.103 1393.69 114.024 1389.11 Q110.969 1384.5 110.969 1375.77 Q110.969 1367.02 114.024 1362.44 Q117.103 1357.83 122.913 1357.83 Z\" fill=\"#000000\" fill-rule=\"evenodd\" fill-opacity=\"1\" /><path clip-path=\"url(#clip770)\" d=\"M53.3995 946.253 L61.0384 946.253 L61.0384 919.887 L52.7282 921.554 L52.7282 917.295 L60.9921 915.628 L65.668 915.628 L65.668 946.253 L73.3068 946.253 L73.3068 950.188 L53.3995 950.188 L53.3995 946.253 Z\" fill=\"#000000\" fill-rule=\"evenodd\" fill-opacity=\"1\" /><path clip-path=\"url(#clip770)\" d=\"M92.7512 918.707 Q89.1401 918.707 87.3114 922.271 Q85.5058 925.813 85.5058 932.943 Q85.5058 940.049 87.3114 943.614 Q89.1401 947.156 92.7512 947.156 Q96.3854 947.156 98.1909 943.614 Q100.02 940.049 100.02 932.943 Q100.02 925.813 98.1909 922.271 Q96.3854 918.707 92.7512 918.707 M92.7512 915.003 Q98.5613 915.003 101.617 919.609 Q104.696 924.193 104.696 932.943 Q104.696 941.669 101.617 946.276 Q98.5613 950.859 92.7512 950.859 Q86.941 950.859 83.8623 946.276 Q80.8068 941.669 80.8068 932.943 Q80.8068 924.193 83.8623 919.609 Q86.941 915.003 92.7512 915.003 Z\" fill=\"#000000\" fill-rule=\"evenodd\" fill-opacity=\"1\" /><path clip-path=\"url(#clip770)\" d=\"M122.913 918.707 Q119.302 918.707 117.473 922.271 Q115.668 925.813 115.668 932.943 Q115.668 940.049 117.473 943.614 Q119.302 947.156 122.913 947.156 Q126.547 947.156 128.353 943.614 Q130.182 940.049 130.182 932.943 Q130.182 925.813 128.353 922.271 Q126.547 918.707 122.913 918.707 M122.913 915.003 Q128.723 915.003 131.779 919.609 Q134.857 924.193 134.857 932.943 Q134.857 941.669 131.779 946.276 Q128.723 950.859 122.913 950.859 Q117.103 950.859 114.024 946.276 Q110.969 941.669 110.969 932.943 Q110.969 924.193 114.024 919.609 Q117.103 915.003 122.913 915.003 Z\" fill=\"#000000\" fill-rule=\"evenodd\" fill-opacity=\"1\" /><path clip-path=\"url(#clip770)\" d=\"M56.6171 503.421 L72.9365 503.421 L72.9365 507.356 L50.9921 507.356 L50.9921 503.421 Q53.6541 500.666 58.2375 496.037 Q62.8439 491.384 64.0245 490.041 Q66.2698 487.518 67.1494 485.782 Q68.0522 484.023 68.0522 482.333 Q68.0522 479.578 66.1078 477.842 Q64.1865 476.106 61.0847 476.106 Q58.8856 476.106 56.4319 476.87 Q54.0014 477.634 51.2236 479.185 L51.2236 474.463 Q54.0477 473.328 56.5014 472.75 Q58.955 472.171 60.9921 472.171 Q66.3624 472.171 69.5568 474.856 Q72.7513 477.541 72.7513 482.032 Q72.7513 484.162 71.9411 486.083 Q71.1541 487.981 69.0476 490.574 Q68.4689 491.245 65.367 494.463 Q62.2652 497.657 56.6171 503.421 Z\" fill=\"#000000\" fill-rule=\"evenodd\" fill-opacity=\"1\" /><path clip-path=\"url(#clip770)\" d=\"M92.7512 475.875 Q89.1401 475.875 87.3114 479.44 Q85.5058 482.981 85.5058 490.111 Q85.5058 497.217 87.3114 500.782 Q89.1401 504.324 92.7512 504.324 Q96.3854 504.324 98.1909 500.782 Q100.02 497.217 100.02 490.111 Q100.02 482.981 98.1909 479.44 Q96.3854 475.875 92.7512 475.875 M92.7512 472.171 Q98.5613 472.171 101.617 476.777 Q104.696 481.361 104.696 490.111 Q104.696 498.838 101.617 503.444 Q98.5613 508.027 92.7512 508.027 Q86.941 508.027 83.8623 503.444 Q80.8068 498.838 80.8068 490.111 Q80.8068 481.361 83.8623 476.777 Q86.941 472.171 92.7512 472.171 Z\" fill=\"#000000\" fill-rule=\"evenodd\" fill-opacity=\"1\" /><path clip-path=\"url(#clip770)\" d=\"M122.913 475.875 Q119.302 475.875 117.473 479.44 Q115.668 482.981 115.668 490.111 Q115.668 497.217 117.473 500.782 Q119.302 504.324 122.913 504.324 Q126.547 504.324 128.353 500.782 Q130.182 497.217 130.182 490.111 Q130.182 482.981 128.353 479.44 Q126.547 475.875 122.913 475.875 M122.913 472.171 Q128.723 472.171 131.779 476.777 Q134.857 481.361 134.857 490.111 Q134.857 498.838 131.779 503.444 Q128.723 508.027 122.913 508.027 Q117.103 508.027 114.024 503.444 Q110.969 498.838 110.969 490.111 Q110.969 481.361 114.024 476.777 Q117.103 472.171 122.913 472.171 Z\" fill=\"#000000\" fill-rule=\"evenodd\" fill-opacity=\"1\" /><path clip-path=\"url(#clip770)\" d=\"M66.7559 45.8899 Q70.1124 46.6075 71.9874 48.876 Q73.8855 51.1445 73.8855 54.4779 Q73.8855 59.5936 70.367 62.3945 Q66.8485 65.1954 60.3671 65.1954 Q58.1912 65.1954 55.8764 64.7556 Q53.5847 64.3389 51.131 63.4824 L51.131 58.9686 Q53.0754 60.1028 55.3903 60.6815 Q57.7051 61.2602 60.2282 61.2602 Q64.6263 61.2602 66.918 59.5241 Q69.2328 57.788 69.2328 54.4779 Q69.2328 51.4223 67.08 49.7094 Q64.9504 47.9733 61.131 47.9733 L57.1032 47.9733 L57.1032 44.1307 L61.3161 44.1307 Q64.7652 44.1307 66.5939 42.765 Q68.4226 41.3761 68.4226 38.7835 Q68.4226 36.1215 66.5245 34.7094 Q64.6495 33.2743 61.131 33.2743 Q59.2097 33.2743 57.0106 33.6909 Q54.8115 34.1076 52.1727 34.9872 L52.1727 30.8206 Q54.8347 30.0798 57.1495 29.7095 Q59.4875 29.3391 61.5476 29.3391 Q66.8717 29.3391 69.9735 31.7696 Q73.0753 34.177 73.0753 38.2974 Q73.0753 41.1677 71.4318 43.1585 Q69.7883 45.1261 66.7559 45.8899 Z\" fill=\"#000000\" fill-rule=\"evenodd\" fill-opacity=\"1\" /><path clip-path=\"url(#clip770)\" d=\"M92.7512 33.0428 Q89.1401 33.0428 87.3114 36.6076 Q85.5058 40.1492 85.5058 47.2788 Q85.5058 54.3853 87.3114 57.9501 Q89.1401 61.4917 92.7512 61.4917 Q96.3854 61.4917 98.1909 57.9501 Q100.02 54.3853 100.02 47.2788 Q100.02 40.1492 98.1909 36.6076 Q96.3854 33.0428 92.7512 33.0428 M92.7512 29.3391 Q98.5613 29.3391 101.617 33.9456 Q104.696 38.5289 104.696 47.2788 Q104.696 56.0056 101.617 60.6121 Q98.5613 65.1954 92.7512 65.1954 Q86.941 65.1954 83.8623 60.6121 Q80.8068 56.0056 80.8068 47.2788 Q80.8068 38.5289 83.8623 33.9456 Q86.941 29.3391 92.7512 29.3391 Z\" fill=\"#000000\" fill-rule=\"evenodd\" fill-opacity=\"1\" /><path clip-path=\"url(#clip770)\" d=\"M122.913 33.0428 Q119.302 33.0428 117.473 36.6076 Q115.668 40.1492 115.668 47.2788 Q115.668 54.3853 117.473 57.9501 Q119.302 61.4917 122.913 61.4917 Q126.547 61.4917 128.353 57.9501 Q130.182 54.3853 130.182 47.2788 Q130.182 40.1492 128.353 36.6076 Q126.547 33.0428 122.913 33.0428 M122.913 29.3391 Q128.723 29.3391 131.779 33.9456 Q134.857 38.5289 134.857 47.2788 Q134.857 56.0056 131.779 60.6121 Q128.723 65.1954 122.913 65.1954 Q117.103 65.1954 114.024 60.6121 Q110.969 56.0056 110.969 47.2788 Q110.969 38.5289 114.024 33.9456 Q117.103 29.3391 122.913 29.3391 Z\" fill=\"#000000\" fill-rule=\"evenodd\" fill-opacity=\"1\" /><polyline clip-path=\"url(#clip772)\" style=\"stroke:#009af9; stroke-linecap:round; stroke-linejoin:round; stroke-width:4; stroke-opacity:1; fill:none\" points=\"\n  232.609,1339.47 246.424,1298.68 260.239,1218.81 274.053,1220.07 287.868,1018.07 301.683,493.937 315.498,759.75 329.312,769.462 343.127,1068.62 356.942,935.913 \n  370.757,721.808 384.571,889.258 398.386,912.179 412.201,833.32 426.015,1056.88 439.83,1070.08 453.645,1019.09 467.46,1004.6 481.274,928.278 495.089,1099.88 \n  508.904,1003.19 522.719,-146810 536.533,1029.81 550.348,1047.31 564.163,792.855 577.978,892.653 591.792,-2653.56 605.607,1028.89 619.422,893.114 633.236,843.21 \n  647.051,834.019 660.866,899.382 674.681,958.464 688.495,751.282 702.31,715.246 716.125,843.556 729.94,740.051 743.754,-21863.6 757.569,797.7 771.384,-48416.7 \n  785.198,813.801 799.013,648.259 812.828,635.595 826.643,-15015.9 840.457,799.983 854.272,906.613 868.087,965.13 881.902,929.32 895.716,941.361 909.531,734.059 \n  923.346,994.751 937.161,706.491 950.975,733.148 964.79,756.344 978.605,-117863 992.419,816.511 1006.23,788.762 1020.05,973.156 1033.86,876.852 1047.68,925.636 \n  1061.49,856.426 1075.31,665.74 1089.12,757.194 1102.94,899.18 1116.75,552.027 1130.57,-104262 1144.38,658.611 1158.2,904.587 1172.01,818.317 1185.83,838.39 \n  1199.64,966.062 1213.46,1126.54 1227.27,848.012 1241.08,983.482 1254.9,987.419 1268.71,1002.47 1282.53,1027.09 1296.34,1059.77 1310.16,1020.13 1323.97,1124.2 \n  1337.79,1043.99 1351.6,1018.44 1365.42,-499456 1379.23,1125.75 1393.05,1029.93 1406.86,1014.09 1420.68,1025.22 1434.49,964.485 1448.31,1035.63 1462.12,1088.29 \n  1475.93,978.842 1489.75,1074.37 1503.56,-296524 1517.38,979.694 1531.19,1076.29 1545.01,1027.1 1558.82,1000.54 1572.64,1093.78 1586.45,1029.65 1600.27,1043.07 \n  1614.08,1147.65 1627.9,-489554 1641.71,1101.54 1655.53,1020.52 1669.34,1044.72 1683.16,1114.64 1696.97,-541145 1710.79,-586301 1724.6,1127.33 1738.41,1130.55 \n  1752.23,-674553 1766.04,-661195 1779.86,1116 1793.67,1140.43 1807.49,1129.71 1821.3,1061.16 1835.12,1079.68 1848.93,-586299 1862.75,1042.3 1876.56,1074.54 \n  1890.38,-730825 1904.19,-760694 1918.01,1141.48 1931.82,1162.65 1945.64,1164.2 1959.45,-460962 1973.27,-760699 1987.08,1151.92 2000.89,-807802 2014.71,-791790 \n  2028.52,1026.39 2042.34,-776086 2056.15,1006.9 2069.97,1123.64 2083.78,-674564 2097.6,-661184 2111.41,1062.77 2125.23,989.971 2139.04,1150.18 2152.86,-702122 \n  2166.67,-716341 2180.49,-730834 2194.3,-648073 2208.12,1022.3 2221.93,-716326 2235.75,-745619 2249.56,976.599 2263.37,-760688 2277.19,1084.14 2291,-776095 \n  \n  \"/>\n<path clip-path=\"url(#clip770)\" d=\"\nM2009.41 198.898 L2280.03 198.898 L2280.03 95.2176 L2009.41 95.2176  Z\n  \" fill=\"#ffffff\" fill-rule=\"evenodd\" fill-opacity=\"1\"/>\n<polyline clip-path=\"url(#clip770)\" style=\"stroke:#000000; stroke-linecap:round; stroke-linejoin:round; stroke-width:4; stroke-opacity:1; fill:none\" points=\"\n  2009.41,198.898 2280.03,198.898 2280.03,95.2176 2009.41,95.2176 2009.41,198.898 \n  \"/>\n<polyline clip-path=\"url(#clip770)\" style=\"stroke:#009af9; stroke-linecap:round; stroke-linejoin:round; stroke-width:4; stroke-opacity:1; fill:none\" points=\"\n  2033.65,147.058 2179.11,147.058 \n  \"/>\n<path clip-path=\"url(#clip770)\" d=\"M2217.19 166.745 Q2215.39 171.375 2213.68 172.787 Q2211.96 174.199 2209.09 174.199 L2205.69 174.199 L2205.69 170.634 L2208.19 170.634 Q2209.95 170.634 2210.92 169.8 Q2211.89 168.967 2213.07 165.865 L2213.84 163.921 L2203.35 138.412 L2207.87 138.412 L2215.97 158.689 L2224.07 138.412 L2228.58 138.412 L2217.19 166.745 Z\" fill=\"#000000\" fill-rule=\"evenodd\" fill-opacity=\"1\" /><path clip-path=\"url(#clip770)\" d=\"M2235.88 160.402 L2243.51 160.402 L2243.51 134.037 L2235.2 135.703 L2235.2 131.444 L2243.47 129.778 L2248.14 129.778 L2248.14 160.402 L2255.78 160.402 L2255.78 164.338 L2235.88 164.338 L2235.88 160.402 Z\" fill=\"#000000\" fill-rule=\"evenodd\" fill-opacity=\"1\" /></svg>\n"
     },
     "execution_count": 22,
     "metadata": {},
     "output_type": "execute_result"
    }
   ],
   "source": [
    "### Plot with set y-limits\n",
    "println(waypoints_default);\n",
    "plot(episode_test_reward_hook.rewards, ylim=(-25, 300))"
   ],
   "metadata": {
    "collapsed": false
   }
  },
  {
   "cell_type": "code",
   "execution_count": null,
   "outputs": [],
   "source": [
    "close_visualization(); # closes the MeshCat visualization"
   ],
   "metadata": {
    "collapsed": false
   }
  }
 ],
 "metadata": {
  "@webio": {
   "lastCommId": null,
   "lastKernelId": null
  },
  "kernelspec": {
   "display_name": "Julia 1.8.5",
   "language": "julia",
   "name": "julia-1.8"
  },
  "language_info": {
   "file_extension": ".jl",
   "mimetype": "application/julia",
   "name": "julia",
   "version": "1.8.0"
  }
 },
 "nbformat": 4,
 "nbformat_minor": 5
}
